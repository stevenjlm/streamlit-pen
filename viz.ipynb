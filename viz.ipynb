{
 "cells": [
  {
   "cell_type": "code",
   "execution_count": 225,
   "metadata": {},
   "outputs": [],
   "source": [
    "import time\n",
    "\n",
    "import src.plots as plots\n",
    "import src.data as data\n",
    "COLUMNS = data.DayModelData.COLUMNS\n",
    "\n",
    "model_data = data.DayModelData()\n",
    "df = model_data.get_df()\n",
    "machine_ids = model_data.get_machine_ids()"
   ]
  },
  {
   "cell_type": "code",
   "execution_count": 2,
   "metadata": {},
   "outputs": [
    {
     "data": {
      "text/html": [
       "<div>\n",
       "<style scoped>\n",
       "    .dataframe tbody tr th:only-of-type {\n",
       "        vertical-align: middle;\n",
       "    }\n",
       "\n",
       "    .dataframe tbody tr th {\n",
       "        vertical-align: top;\n",
       "    }\n",
       "\n",
       "    .dataframe thead th {\n",
       "        text-align: right;\n",
       "    }\n",
       "</style>\n",
       "<table border=\"1\" class=\"dataframe\">\n",
       "  <thead>\n",
       "    <tr style=\"text-align: right;\">\n",
       "      <th></th>\n",
       "      <th>0</th>\n",
       "      <th>1</th>\n",
       "      <th>2</th>\n",
       "      <th>3</th>\n",
       "      <th>4</th>\n",
       "      <th>5</th>\n",
       "      <th>6</th>\n",
       "      <th>7</th>\n",
       "      <th>8</th>\n",
       "      <th>9</th>\n",
       "      <th>...</th>\n",
       "      <th>21</th>\n",
       "      <th>22</th>\n",
       "      <th>23</th>\n",
       "      <th>24</th>\n",
       "      <th>25</th>\n",
       "      <th>26</th>\n",
       "      <th>27</th>\n",
       "      <th>28</th>\n",
       "      <th>29</th>\n",
       "      <th>30</th>\n",
       "    </tr>\n",
       "  </thead>\n",
       "  <tbody>\n",
       "    <tr>\n",
       "      <th>0</th>\n",
       "      <td>0.0</td>\n",
       "      <td>2015-10-20 06:00:00</td>\n",
       "      <td>35</td>\n",
       "      <td>163.694699</td>\n",
       "      <td>451.186295</td>\n",
       "      <td>108.706941</td>\n",
       "      <td>36.411201</td>\n",
       "      <td>17</td>\n",
       "      <td>0</td>\n",
       "      <td>0</td>\n",
       "      <td>...</td>\n",
       "      <td>0</td>\n",
       "      <td>0.0</td>\n",
       "      <td>0.0</td>\n",
       "      <td>0.0</td>\n",
       "      <td>0.0</td>\n",
       "      <td>0.0</td>\n",
       "      <td>0.0</td>\n",
       "      <td>0.0</td>\n",
       "      <td>0.0</td>\n",
       "      <td>0.0</td>\n",
       "    </tr>\n",
       "    <tr>\n",
       "      <th>1</th>\n",
       "      <td>0.0</td>\n",
       "      <td>2015-10-20 06:00:00</td>\n",
       "      <td>33</td>\n",
       "      <td>166.247429</td>\n",
       "      <td>448.741934</td>\n",
       "      <td>108.795064</td>\n",
       "      <td>43.679916</td>\n",
       "      <td>14</td>\n",
       "      <td>0</td>\n",
       "      <td>0</td>\n",
       "      <td>...</td>\n",
       "      <td>0</td>\n",
       "      <td>0.0</td>\n",
       "      <td>0.0</td>\n",
       "      <td>0.0</td>\n",
       "      <td>0.0</td>\n",
       "      <td>0.0</td>\n",
       "      <td>0.0</td>\n",
       "      <td>0.0</td>\n",
       "      <td>0.0</td>\n",
       "      <td>0.0</td>\n",
       "    </tr>\n",
       "    <tr>\n",
       "      <th>2</th>\n",
       "      <td>0.0</td>\n",
       "      <td>2015-10-20 06:00:00</td>\n",
       "      <td>55</td>\n",
       "      <td>164.533977</td>\n",
       "      <td>534.062226</td>\n",
       "      <td>100.853468</td>\n",
       "      <td>28.175237</td>\n",
       "      <td>17</td>\n",
       "      <td>0</td>\n",
       "      <td>0</td>\n",
       "      <td>...</td>\n",
       "      <td>0</td>\n",
       "      <td>0.0</td>\n",
       "      <td>0.0</td>\n",
       "      <td>0.0</td>\n",
       "      <td>0.0</td>\n",
       "      <td>0.0</td>\n",
       "      <td>0.0</td>\n",
       "      <td>0.0</td>\n",
       "      <td>0.0</td>\n",
       "      <td>0.0</td>\n",
       "    </tr>\n",
       "    <tr>\n",
       "      <th>3</th>\n",
       "      <td>0.0</td>\n",
       "      <td>2015-10-20 06:00:00</td>\n",
       "      <td>52</td>\n",
       "      <td>171.681299</td>\n",
       "      <td>468.571798</td>\n",
       "      <td>85.961831</td>\n",
       "      <td>37.797750</td>\n",
       "      <td>14</td>\n",
       "      <td>0</td>\n",
       "      <td>0</td>\n",
       "      <td>...</td>\n",
       "      <td>0</td>\n",
       "      <td>0.0</td>\n",
       "      <td>0.0</td>\n",
       "      <td>0.0</td>\n",
       "      <td>0.0</td>\n",
       "      <td>0.0</td>\n",
       "      <td>0.0</td>\n",
       "      <td>0.0</td>\n",
       "      <td>0.0</td>\n",
       "      <td>0.0</td>\n",
       "    </tr>\n",
       "    <tr>\n",
       "      <th>4</th>\n",
       "      <td>0.0</td>\n",
       "      <td>2015-10-20 06:00:00</td>\n",
       "      <td>9</td>\n",
       "      <td>165.207313</td>\n",
       "      <td>437.800677</td>\n",
       "      <td>106.265743</td>\n",
       "      <td>30.710708</td>\n",
       "      <td>7</td>\n",
       "      <td>0</td>\n",
       "      <td>0</td>\n",
       "      <td>...</td>\n",
       "      <td>1</td>\n",
       "      <td>0.0</td>\n",
       "      <td>0.0</td>\n",
       "      <td>0.0</td>\n",
       "      <td>0.0</td>\n",
       "      <td>0.0</td>\n",
       "      <td>0.0</td>\n",
       "      <td>0.0</td>\n",
       "      <td>0.0</td>\n",
       "      <td>0.0</td>\n",
       "    </tr>\n",
       "  </tbody>\n",
       "</table>\n",
       "<p>5 rows × 31 columns</p>\n",
       "</div>"
      ],
      "text/plain": [
       "    0                   1   2           3           4           5          6   \\\n",
       "0  0.0 2015-10-20 06:00:00  35  163.694699  451.186295  108.706941  36.411201   \n",
       "1  0.0 2015-10-20 06:00:00  33  166.247429  448.741934  108.795064  43.679916   \n",
       "2  0.0 2015-10-20 06:00:00  55  164.533977  534.062226  100.853468  28.175237   \n",
       "3  0.0 2015-10-20 06:00:00  52  171.681299  468.571798   85.961831  37.797750   \n",
       "4  0.0 2015-10-20 06:00:00   9  165.207313  437.800677  106.265743  30.710708   \n",
       "\n",
       "   7   8   9   ...  21   22   23   24   25   26   27   28   29   30  \n",
       "0  17   0   0  ...   0  0.0  0.0  0.0  0.0  0.0  0.0  0.0  0.0  0.0  \n",
       "1  14   0   0  ...   0  0.0  0.0  0.0  0.0  0.0  0.0  0.0  0.0  0.0  \n",
       "2  17   0   0  ...   0  0.0  0.0  0.0  0.0  0.0  0.0  0.0  0.0  0.0  \n",
       "3  14   0   0  ...   0  0.0  0.0  0.0  0.0  0.0  0.0  0.0  0.0  0.0  \n",
       "4   7   0   0  ...   1  0.0  0.0  0.0  0.0  0.0  0.0  0.0  0.0  0.0  \n",
       "\n",
       "[5 rows x 31 columns]"
      ]
     },
     "execution_count": 2,
     "metadata": {},
     "output_type": "execute_result"
    }
   ],
   "source": [
    "df.head()"
   ]
  },
  {
   "cell_type": "code",
   "execution_count": 226,
   "metadata": {},
   "outputs": [
    {
     "data": {
      "text/html": [
       "<div>\n",
       "<style scoped>\n",
       "    .dataframe tbody tr th:only-of-type {\n",
       "        vertical-align: middle;\n",
       "    }\n",
       "\n",
       "    .dataframe tbody tr th {\n",
       "        vertical-align: top;\n",
       "    }\n",
       "\n",
       "    .dataframe thead th {\n",
       "        text-align: right;\n",
       "    }\n",
       "</style>\n",
       "<table border=\"1\" class=\"dataframe\">\n",
       "  <thead>\n",
       "    <tr style=\"text-align: right;\">\n",
       "      <th></th>\n",
       "      <th>0</th>\n",
       "      <th>2</th>\n",
       "      <th>3</th>\n",
       "      <th>4</th>\n",
       "      <th>5</th>\n",
       "      <th>6</th>\n",
       "      <th>7</th>\n",
       "      <th>8</th>\n",
       "      <th>9</th>\n",
       "      <th>10</th>\n",
       "      <th>...</th>\n",
       "      <th>21</th>\n",
       "      <th>22</th>\n",
       "      <th>23</th>\n",
       "      <th>24</th>\n",
       "      <th>25</th>\n",
       "      <th>26</th>\n",
       "      <th>27</th>\n",
       "      <th>28</th>\n",
       "      <th>29</th>\n",
       "      <th>30</th>\n",
       "    </tr>\n",
       "  </thead>\n",
       "  <tbody>\n",
       "    <tr>\n",
       "      <th>count</th>\n",
       "      <td>175220.000000</td>\n",
       "      <td>175220.000000</td>\n",
       "      <td>175220.000000</td>\n",
       "      <td>175220.000000</td>\n",
       "      <td>175220.000000</td>\n",
       "      <td>175220.000000</td>\n",
       "      <td>175220.000000</td>\n",
       "      <td>175220.000000</td>\n",
       "      <td>175220.000000</td>\n",
       "      <td>175220.000000</td>\n",
       "      <td>...</td>\n",
       "      <td>175220.000000</td>\n",
       "      <td>175220.000000</td>\n",
       "      <td>175220.000000</td>\n",
       "      <td>175220.000000</td>\n",
       "      <td>175220.000000</td>\n",
       "      <td>175220.000000</td>\n",
       "      <td>175220.00000</td>\n",
       "      <td>175220.000000</td>\n",
       "      <td>175220.000000</td>\n",
       "      <td>175220.000000</td>\n",
       "    </tr>\n",
       "    <tr>\n",
       "      <th>mean</th>\n",
       "      <td>0.006986</td>\n",
       "      <td>50.499081</td>\n",
       "      <td>170.703479</td>\n",
       "      <td>446.494865</td>\n",
       "      <td>100.975151</td>\n",
       "      <td>40.354488</td>\n",
       "      <td>11.330071</td>\n",
       "      <td>0.004691</td>\n",
       "      <td>0.001027</td>\n",
       "      <td>0.001119</td>\n",
       "      <td>...</td>\n",
       "      <td>0.319986</td>\n",
       "      <td>0.025865</td>\n",
       "      <td>0.028319</td>\n",
       "      <td>0.022246</td>\n",
       "      <td>0.022241</td>\n",
       "      <td>0.008983</td>\n",
       "      <td>0.02026</td>\n",
       "      <td>0.020837</td>\n",
       "      <td>0.021116</td>\n",
       "      <td>0.019267</td>\n",
       "    </tr>\n",
       "    <tr>\n",
       "      <th>std</th>\n",
       "      <td>0.083287</td>\n",
       "      <td>28.865838</td>\n",
       "      <td>15.570604</td>\n",
       "      <td>52.851578</td>\n",
       "      <td>11.157189</td>\n",
       "      <td>5.342967</td>\n",
       "      <td>5.827691</td>\n",
       "      <td>0.068332</td>\n",
       "      <td>0.032035</td>\n",
       "      <td>0.033427</td>\n",
       "      <td>...</td>\n",
       "      <td>0.466472</td>\n",
       "      <td>0.162393</td>\n",
       "      <td>0.167355</td>\n",
       "      <td>0.149674</td>\n",
       "      <td>0.148199</td>\n",
       "      <td>0.094352</td>\n",
       "      <td>0.14089</td>\n",
       "      <td>0.142838</td>\n",
       "      <td>0.143772</td>\n",
       "      <td>0.137463</td>\n",
       "    </tr>\n",
       "    <tr>\n",
       "      <th>min</th>\n",
       "      <td>0.000000</td>\n",
       "      <td>1.000000</td>\n",
       "      <td>102.644146</td>\n",
       "      <td>160.258190</td>\n",
       "      <td>58.850786</td>\n",
       "      <td>19.171473</td>\n",
       "      <td>0.000000</td>\n",
       "      <td>0.000000</td>\n",
       "      <td>0.000000</td>\n",
       "      <td>0.000000</td>\n",
       "      <td>...</td>\n",
       "      <td>0.000000</td>\n",
       "      <td>0.000000</td>\n",
       "      <td>0.000000</td>\n",
       "      <td>0.000000</td>\n",
       "      <td>0.000000</td>\n",
       "      <td>0.000000</td>\n",
       "      <td>0.00000</td>\n",
       "      <td>0.000000</td>\n",
       "      <td>0.000000</td>\n",
       "      <td>0.000000</td>\n",
       "    </tr>\n",
       "    <tr>\n",
       "      <th>25%</th>\n",
       "      <td>0.000000</td>\n",
       "      <td>25.000000</td>\n",
       "      <td>160.165623</td>\n",
       "      <td>412.163674</td>\n",
       "      <td>93.547420</td>\n",
       "      <td>36.756266</td>\n",
       "      <td>6.750000</td>\n",
       "      <td>0.000000</td>\n",
       "      <td>0.000000</td>\n",
       "      <td>0.000000</td>\n",
       "      <td>...</td>\n",
       "      <td>0.000000</td>\n",
       "      <td>0.000000</td>\n",
       "      <td>0.000000</td>\n",
       "      <td>0.000000</td>\n",
       "      <td>0.000000</td>\n",
       "      <td>0.000000</td>\n",
       "      <td>0.00000</td>\n",
       "      <td>0.000000</td>\n",
       "      <td>0.000000</td>\n",
       "      <td>0.000000</td>\n",
       "    </tr>\n",
       "    <tr>\n",
       "      <th>50%</th>\n",
       "      <td>0.000000</td>\n",
       "      <td>50.000000</td>\n",
       "      <td>170.542796</td>\n",
       "      <td>447.295908</td>\n",
       "      <td>100.499425</td>\n",
       "      <td>40.236292</td>\n",
       "      <td>12.000000</td>\n",
       "      <td>0.000000</td>\n",
       "      <td>0.000000</td>\n",
       "      <td>0.000000</td>\n",
       "      <td>...</td>\n",
       "      <td>0.000000</td>\n",
       "      <td>0.000000</td>\n",
       "      <td>0.000000</td>\n",
       "      <td>0.000000</td>\n",
       "      <td>0.000000</td>\n",
       "      <td>0.000000</td>\n",
       "      <td>0.00000</td>\n",
       "      <td>0.000000</td>\n",
       "      <td>0.000000</td>\n",
       "      <td>0.000000</td>\n",
       "    </tr>\n",
       "    <tr>\n",
       "      <th>75%</th>\n",
       "      <td>0.000000</td>\n",
       "      <td>75.000000</td>\n",
       "      <td>180.933149</td>\n",
       "      <td>482.161284</td>\n",
       "      <td>107.661338</td>\n",
       "      <td>43.741908</td>\n",
       "      <td>16.000000</td>\n",
       "      <td>0.000000</td>\n",
       "      <td>0.000000</td>\n",
       "      <td>0.000000</td>\n",
       "      <td>...</td>\n",
       "      <td>1.000000</td>\n",
       "      <td>0.000000</td>\n",
       "      <td>0.000000</td>\n",
       "      <td>0.000000</td>\n",
       "      <td>0.000000</td>\n",
       "      <td>0.000000</td>\n",
       "      <td>0.00000</td>\n",
       "      <td>0.000000</td>\n",
       "      <td>0.000000</td>\n",
       "      <td>0.000000</td>\n",
       "    </tr>\n",
       "    <tr>\n",
       "      <th>max</th>\n",
       "      <td>1.000000</td>\n",
       "      <td>100.000000</td>\n",
       "      <td>255.124717</td>\n",
       "      <td>695.020984</td>\n",
       "      <td>182.111770</td>\n",
       "      <td>70.365920</td>\n",
       "      <td>20.000000</td>\n",
       "      <td>1.000000</td>\n",
       "      <td>1.000000</td>\n",
       "      <td>1.000000</td>\n",
       "      <td>...</td>\n",
       "      <td>1.000000</td>\n",
       "      <td>2.000000</td>\n",
       "      <td>2.000000</td>\n",
       "      <td>2.000000</td>\n",
       "      <td>2.000000</td>\n",
       "      <td>1.000000</td>\n",
       "      <td>1.00000</td>\n",
       "      <td>1.000000</td>\n",
       "      <td>1.000000</td>\n",
       "      <td>1.000000</td>\n",
       "    </tr>\n",
       "  </tbody>\n",
       "</table>\n",
       "<p>8 rows × 30 columns</p>\n",
       "</div>"
      ],
      "text/plain": [
       "                  0              2              3              4   \\\n",
       "count  175220.000000  175220.000000  175220.000000  175220.000000   \n",
       "mean        0.006986      50.499081     170.703479     446.494865   \n",
       "std         0.083287      28.865838      15.570604      52.851578   \n",
       "min         0.000000       1.000000     102.644146     160.258190   \n",
       "25%         0.000000      25.000000     160.165623     412.163674   \n",
       "50%         0.000000      50.000000     170.542796     447.295908   \n",
       "75%         0.000000      75.000000     180.933149     482.161284   \n",
       "max         1.000000     100.000000     255.124717     695.020984   \n",
       "\n",
       "                  5              6              7              8   \\\n",
       "count  175220.000000  175220.000000  175220.000000  175220.000000   \n",
       "mean      100.975151      40.354488      11.330071       0.004691   \n",
       "std        11.157189       5.342967       5.827691       0.068332   \n",
       "min        58.850786      19.171473       0.000000       0.000000   \n",
       "25%        93.547420      36.756266       6.750000       0.000000   \n",
       "50%       100.499425      40.236292      12.000000       0.000000   \n",
       "75%       107.661338      43.741908      16.000000       0.000000   \n",
       "max       182.111770      70.365920      20.000000       1.000000   \n",
       "\n",
       "                  9              10  ...             21             22  \\\n",
       "count  175220.000000  175220.000000  ...  175220.000000  175220.000000   \n",
       "mean        0.001027       0.001119  ...       0.319986       0.025865   \n",
       "std         0.032035       0.033427  ...       0.466472       0.162393   \n",
       "min         0.000000       0.000000  ...       0.000000       0.000000   \n",
       "25%         0.000000       0.000000  ...       0.000000       0.000000   \n",
       "50%         0.000000       0.000000  ...       0.000000       0.000000   \n",
       "75%         0.000000       0.000000  ...       1.000000       0.000000   \n",
       "max         1.000000       1.000000  ...       1.000000       2.000000   \n",
       "\n",
       "                  23             24             25             26  \\\n",
       "count  175220.000000  175220.000000  175220.000000  175220.000000   \n",
       "mean        0.028319       0.022246       0.022241       0.008983   \n",
       "std         0.167355       0.149674       0.148199       0.094352   \n",
       "min         0.000000       0.000000       0.000000       0.000000   \n",
       "25%         0.000000       0.000000       0.000000       0.000000   \n",
       "50%         0.000000       0.000000       0.000000       0.000000   \n",
       "75%         0.000000       0.000000       0.000000       0.000000   \n",
       "max         2.000000       2.000000       2.000000       1.000000   \n",
       "\n",
       "                 27             28             29             30  \n",
       "count  175220.00000  175220.000000  175220.000000  175220.000000  \n",
       "mean        0.02026       0.020837       0.021116       0.019267  \n",
       "std         0.14089       0.142838       0.143772       0.137463  \n",
       "min         0.00000       0.000000       0.000000       0.000000  \n",
       "25%         0.00000       0.000000       0.000000       0.000000  \n",
       "50%         0.00000       0.000000       0.000000       0.000000  \n",
       "75%         0.00000       0.000000       0.000000       0.000000  \n",
       "max         1.00000       1.000000       1.000000       1.000000  \n",
       "\n",
       "[8 rows x 30 columns]"
      ]
     },
     "execution_count": 226,
     "metadata": {},
     "output_type": "execute_result"
    }
   ],
   "source": [
    "df.describe()"
   ]
  },
  {
   "cell_type": "code",
   "execution_count": 41,
   "metadata": {},
   "outputs": [],
   "source": [
    "machine_signal = df.loc[df[2] == int(2)]\n",
    "fail_dates = model_data.failure_dates_for_machine(2)"
   ]
  },
  {
   "cell_type": "code",
   "execution_count": 9,
   "metadata": {},
   "outputs": [
    {
     "data": {
      "text/plain": [
       "Timestamp('2016-01-01 06:00:00')"
      ]
     },
     "execution_count": 9,
     "metadata": {},
     "output_type": "execute_result"
    }
   ],
   "source": [
    "max(machine_signal.iloc[:,1])"
   ]
  },
  {
   "cell_type": "code",
   "execution_count": 43,
   "metadata": {},
   "outputs": [
    {
     "data": {
      "text/plain": [
       "Timestamp('2015-12-28 08:00:00')"
      ]
     },
     "execution_count": 43,
     "metadata": {},
     "output_type": "execute_result"
    }
   ],
   "source": [
    "fail_dates[-2]"
   ]
  },
  {
   "cell_type": "code",
   "execution_count": 44,
   "metadata": {},
   "outputs": [],
   "source": [
    "from datetime import timedelta\n",
    "# from datetime import datetime\n",
    "machine_signal.columns = COLUMNS\n",
    "end_date = fail_dates[-2]\n",
    "start_date = end_date - timedelta(hours=12)\n",
    "\n",
    "time_window_signal = machine_signal[(machine_signal['datetime'] >= start_date) & (machine_signal['datetime'] <= end_date)]"
   ]
  },
  {
   "cell_type": "code",
   "execution_count": 45,
   "metadata": {},
   "outputs": [
    {
     "data": {
      "text/html": [
       "<div>\n",
       "<style scoped>\n",
       "    .dataframe tbody tr th:only-of-type {\n",
       "        vertical-align: middle;\n",
       "    }\n",
       "\n",
       "    .dataframe tbody tr th {\n",
       "        vertical-align: top;\n",
       "    }\n",
       "\n",
       "    .dataframe thead th {\n",
       "        text-align: right;\n",
       "    }\n",
       "</style>\n",
       "<table border=\"1\" class=\"dataframe\">\n",
       "  <thead>\n",
       "    <tr style=\"text-align: right;\">\n",
       "      <th></th>\n",
       "      <th>failure_comp2</th>\n",
       "      <th>datetime</th>\n",
       "      <th>machineID</th>\n",
       "      <th>volt</th>\n",
       "      <th>rotate</th>\n",
       "      <th>pressure</th>\n",
       "      <th>vibration</th>\n",
       "      <th>age</th>\n",
       "      <th>anomaly</th>\n",
       "      <th>error1</th>\n",
       "      <th>...</th>\n",
       "      <th>model4</th>\n",
       "      <th>error1_in_past_24</th>\n",
       "      <th>error2_in_past_24</th>\n",
       "      <th>error3_in_past_24</th>\n",
       "      <th>error4_in_past_24</th>\n",
       "      <th>error5_in_past_24</th>\n",
       "      <th>maint_comp1_in_past_24</th>\n",
       "      <th>maint_comp2_in_past_24</th>\n",
       "      <th>maint_comp3_in_past_24</th>\n",
       "      <th>maint_comp4_in_past_24</th>\n",
       "    </tr>\n",
       "  </thead>\n",
       "  <tbody>\n",
       "    <tr>\n",
       "      <th>164520</th>\n",
       "      <td>0.0</td>\n",
       "      <td>2015-12-27 20:00:00</td>\n",
       "      <td>2</td>\n",
       "      <td>177.031400</td>\n",
       "      <td>282.243056</td>\n",
       "      <td>104.643539</td>\n",
       "      <td>57.496769</td>\n",
       "      <td>7</td>\n",
       "      <td>0</td>\n",
       "      <td>0</td>\n",
       "      <td>...</td>\n",
       "      <td>1</td>\n",
       "      <td>0.0</td>\n",
       "      <td>0.0</td>\n",
       "      <td>0.0</td>\n",
       "      <td>0.0</td>\n",
       "      <td>0.0</td>\n",
       "      <td>0.0</td>\n",
       "      <td>0.0</td>\n",
       "      <td>0.0</td>\n",
       "      <td>0.0</td>\n",
       "    </tr>\n",
       "    <tr>\n",
       "      <th>164650</th>\n",
       "      <td>0.0</td>\n",
       "      <td>2015-12-27 21:00:00</td>\n",
       "      <td>2</td>\n",
       "      <td>179.920213</td>\n",
       "      <td>410.862788</td>\n",
       "      <td>88.721399</td>\n",
       "      <td>35.926395</td>\n",
       "      <td>7</td>\n",
       "      <td>0</td>\n",
       "      <td>0</td>\n",
       "      <td>...</td>\n",
       "      <td>1</td>\n",
       "      <td>0.0</td>\n",
       "      <td>0.0</td>\n",
       "      <td>0.0</td>\n",
       "      <td>0.0</td>\n",
       "      <td>0.0</td>\n",
       "      <td>0.0</td>\n",
       "      <td>0.0</td>\n",
       "      <td>0.0</td>\n",
       "      <td>0.0</td>\n",
       "    </tr>\n",
       "    <tr>\n",
       "      <th>164781</th>\n",
       "      <td>0.0</td>\n",
       "      <td>2015-12-27 22:00:00</td>\n",
       "      <td>2</td>\n",
       "      <td>168.062393</td>\n",
       "      <td>324.643644</td>\n",
       "      <td>94.699997</td>\n",
       "      <td>40.759297</td>\n",
       "      <td>7</td>\n",
       "      <td>0</td>\n",
       "      <td>0</td>\n",
       "      <td>...</td>\n",
       "      <td>1</td>\n",
       "      <td>0.0</td>\n",
       "      <td>0.0</td>\n",
       "      <td>0.0</td>\n",
       "      <td>0.0</td>\n",
       "      <td>0.0</td>\n",
       "      <td>0.0</td>\n",
       "      <td>0.0</td>\n",
       "      <td>0.0</td>\n",
       "      <td>0.0</td>\n",
       "    </tr>\n",
       "    <tr>\n",
       "      <th>164822</th>\n",
       "      <td>0.0</td>\n",
       "      <td>2015-12-27 23:00:00</td>\n",
       "      <td>2</td>\n",
       "      <td>221.082231</td>\n",
       "      <td>433.173051</td>\n",
       "      <td>95.971470</td>\n",
       "      <td>46.969274</td>\n",
       "      <td>7</td>\n",
       "      <td>0</td>\n",
       "      <td>0</td>\n",
       "      <td>...</td>\n",
       "      <td>1</td>\n",
       "      <td>0.0</td>\n",
       "      <td>0.0</td>\n",
       "      <td>0.0</td>\n",
       "      <td>0.0</td>\n",
       "      <td>0.0</td>\n",
       "      <td>0.0</td>\n",
       "      <td>0.0</td>\n",
       "      <td>0.0</td>\n",
       "      <td>0.0</td>\n",
       "    </tr>\n",
       "    <tr>\n",
       "      <th>164967</th>\n",
       "      <td>0.0</td>\n",
       "      <td>2015-12-28 00:00:00</td>\n",
       "      <td>2</td>\n",
       "      <td>173.102234</td>\n",
       "      <td>393.058439</td>\n",
       "      <td>117.307844</td>\n",
       "      <td>29.574591</td>\n",
       "      <td>7</td>\n",
       "      <td>0</td>\n",
       "      <td>0</td>\n",
       "      <td>...</td>\n",
       "      <td>1</td>\n",
       "      <td>0.0</td>\n",
       "      <td>0.0</td>\n",
       "      <td>0.0</td>\n",
       "      <td>0.0</td>\n",
       "      <td>0.0</td>\n",
       "      <td>0.0</td>\n",
       "      <td>0.0</td>\n",
       "      <td>0.0</td>\n",
       "      <td>0.0</td>\n",
       "    </tr>\n",
       "  </tbody>\n",
       "</table>\n",
       "<p>5 rows × 31 columns</p>\n",
       "</div>"
      ],
      "text/plain": [
       "        failure_comp2            datetime  machineID        volt      rotate  \\\n",
       "164520            0.0 2015-12-27 20:00:00          2  177.031400  282.243056   \n",
       "164650            0.0 2015-12-27 21:00:00          2  179.920213  410.862788   \n",
       "164781            0.0 2015-12-27 22:00:00          2  168.062393  324.643644   \n",
       "164822            0.0 2015-12-27 23:00:00          2  221.082231  433.173051   \n",
       "164967            0.0 2015-12-28 00:00:00          2  173.102234  393.058439   \n",
       "\n",
       "          pressure  vibration  age  anomaly  error1  ...  model4  \\\n",
       "164520  104.643539  57.496769    7        0       0  ...       1   \n",
       "164650   88.721399  35.926395    7        0       0  ...       1   \n",
       "164781   94.699997  40.759297    7        0       0  ...       1   \n",
       "164822   95.971470  46.969274    7        0       0  ...       1   \n",
       "164967  117.307844  29.574591    7        0       0  ...       1   \n",
       "\n",
       "        error1_in_past_24  error2_in_past_24  error3_in_past_24  \\\n",
       "164520                0.0                0.0                0.0   \n",
       "164650                0.0                0.0                0.0   \n",
       "164781                0.0                0.0                0.0   \n",
       "164822                0.0                0.0                0.0   \n",
       "164967                0.0                0.0                0.0   \n",
       "\n",
       "        error4_in_past_24  error5_in_past_24  maint_comp1_in_past_24  \\\n",
       "164520                0.0                0.0                     0.0   \n",
       "164650                0.0                0.0                     0.0   \n",
       "164781                0.0                0.0                     0.0   \n",
       "164822                0.0                0.0                     0.0   \n",
       "164967                0.0                0.0                     0.0   \n",
       "\n",
       "        maint_comp2_in_past_24  maint_comp3_in_past_24  maint_comp4_in_past_24  \n",
       "164520                     0.0                     0.0                     0.0  \n",
       "164650                     0.0                     0.0                     0.0  \n",
       "164781                     0.0                     0.0                     0.0  \n",
       "164822                     0.0                     0.0                     0.0  \n",
       "164967                     0.0                     0.0                     0.0  \n",
       "\n",
       "[5 rows x 31 columns]"
      ]
     },
     "execution_count": 45,
     "metadata": {},
     "output_type": "execute_result"
    }
   ],
   "source": [
    "time_window_signal.head()"
   ]
  },
  {
   "cell_type": "code",
   "execution_count": 48,
   "metadata": {},
   "outputs": [
    {
     "data": {
      "text/html": [
       "<div>\n",
       "<style scoped>\n",
       "    .dataframe tbody tr th:only-of-type {\n",
       "        vertical-align: middle;\n",
       "    }\n",
       "\n",
       "    .dataframe tbody tr th {\n",
       "        vertical-align: top;\n",
       "    }\n",
       "\n",
       "    .dataframe thead th {\n",
       "        text-align: right;\n",
       "    }\n",
       "</style>\n",
       "<table border=\"1\" class=\"dataframe\">\n",
       "  <thead>\n",
       "    <tr style=\"text-align: right;\">\n",
       "      <th></th>\n",
       "      <th>datetime</th>\n",
       "      <th>error1</th>\n",
       "      <th>error2</th>\n",
       "      <th>error3</th>\n",
       "      <th>error4</th>\n",
       "      <th>error5</th>\n",
       "    </tr>\n",
       "  </thead>\n",
       "  <tbody>\n",
       "    <tr>\n",
       "      <th>164520</th>\n",
       "      <td>2015-12-27 20:00:00</td>\n",
       "      <td>0</td>\n",
       "      <td>0</td>\n",
       "      <td>0</td>\n",
       "      <td>0</td>\n",
       "      <td>0</td>\n",
       "    </tr>\n",
       "    <tr>\n",
       "      <th>164650</th>\n",
       "      <td>2015-12-27 21:00:00</td>\n",
       "      <td>0</td>\n",
       "      <td>0</td>\n",
       "      <td>0</td>\n",
       "      <td>0</td>\n",
       "      <td>0</td>\n",
       "    </tr>\n",
       "    <tr>\n",
       "      <th>164781</th>\n",
       "      <td>2015-12-27 22:00:00</td>\n",
       "      <td>0</td>\n",
       "      <td>0</td>\n",
       "      <td>0</td>\n",
       "      <td>0</td>\n",
       "      <td>0</td>\n",
       "    </tr>\n",
       "    <tr>\n",
       "      <th>164822</th>\n",
       "      <td>2015-12-27 23:00:00</td>\n",
       "      <td>0</td>\n",
       "      <td>0</td>\n",
       "      <td>0</td>\n",
       "      <td>0</td>\n",
       "      <td>0</td>\n",
       "    </tr>\n",
       "    <tr>\n",
       "      <th>164967</th>\n",
       "      <td>2015-12-28 00:00:00</td>\n",
       "      <td>0</td>\n",
       "      <td>0</td>\n",
       "      <td>0</td>\n",
       "      <td>0</td>\n",
       "      <td>0</td>\n",
       "    </tr>\n",
       "    <tr>\n",
       "      <th>165059</th>\n",
       "      <td>2015-12-28 01:00:00</td>\n",
       "      <td>0</td>\n",
       "      <td>0</td>\n",
       "      <td>0</td>\n",
       "      <td>0</td>\n",
       "      <td>0</td>\n",
       "    </tr>\n",
       "    <tr>\n",
       "      <th>165216</th>\n",
       "      <td>2015-12-28 02:00:00</td>\n",
       "      <td>0</td>\n",
       "      <td>0</td>\n",
       "      <td>0</td>\n",
       "      <td>0</td>\n",
       "      <td>0</td>\n",
       "    </tr>\n",
       "    <tr>\n",
       "      <th>165310</th>\n",
       "      <td>2015-12-28 03:00:00</td>\n",
       "      <td>0</td>\n",
       "      <td>0</td>\n",
       "      <td>0</td>\n",
       "      <td>0</td>\n",
       "      <td>0</td>\n",
       "    </tr>\n",
       "    <tr>\n",
       "      <th>165418</th>\n",
       "      <td>2015-12-28 04:00:00</td>\n",
       "      <td>0</td>\n",
       "      <td>0</td>\n",
       "      <td>0</td>\n",
       "      <td>0</td>\n",
       "      <td>0</td>\n",
       "    </tr>\n",
       "    <tr>\n",
       "      <th>165425</th>\n",
       "      <td>2015-12-28 05:00:00</td>\n",
       "      <td>0</td>\n",
       "      <td>0</td>\n",
       "      <td>0</td>\n",
       "      <td>0</td>\n",
       "      <td>0</td>\n",
       "    </tr>\n",
       "    <tr>\n",
       "      <th>165549</th>\n",
       "      <td>2015-12-28 06:00:00</td>\n",
       "      <td>0</td>\n",
       "      <td>1</td>\n",
       "      <td>1</td>\n",
       "      <td>0</td>\n",
       "      <td>0</td>\n",
       "    </tr>\n",
       "    <tr>\n",
       "      <th>165653</th>\n",
       "      <td>2015-12-28 07:00:00</td>\n",
       "      <td>0</td>\n",
       "      <td>0</td>\n",
       "      <td>0</td>\n",
       "      <td>0</td>\n",
       "      <td>0</td>\n",
       "    </tr>\n",
       "    <tr>\n",
       "      <th>165776</th>\n",
       "      <td>2015-12-28 08:00:00</td>\n",
       "      <td>0</td>\n",
       "      <td>0</td>\n",
       "      <td>0</td>\n",
       "      <td>0</td>\n",
       "      <td>0</td>\n",
       "    </tr>\n",
       "  </tbody>\n",
       "</table>\n",
       "</div>"
      ],
      "text/plain": [
       "                  datetime  error1  error2  error3  error4  error5\n",
       "164520 2015-12-27 20:00:00       0       0       0       0       0\n",
       "164650 2015-12-27 21:00:00       0       0       0       0       0\n",
       "164781 2015-12-27 22:00:00       0       0       0       0       0\n",
       "164822 2015-12-27 23:00:00       0       0       0       0       0\n",
       "164967 2015-12-28 00:00:00       0       0       0       0       0\n",
       "165059 2015-12-28 01:00:00       0       0       0       0       0\n",
       "165216 2015-12-28 02:00:00       0       0       0       0       0\n",
       "165310 2015-12-28 03:00:00       0       0       0       0       0\n",
       "165418 2015-12-28 04:00:00       0       0       0       0       0\n",
       "165425 2015-12-28 05:00:00       0       0       0       0       0\n",
       "165549 2015-12-28 06:00:00       0       1       1       0       0\n",
       "165653 2015-12-28 07:00:00       0       0       0       0       0\n",
       "165776 2015-12-28 08:00:00       0       0       0       0       0"
      ]
     },
     "execution_count": 48,
     "metadata": {},
     "output_type": "execute_result"
    }
   ],
   "source": [
    "import pandas as pd\n",
    "import numpy as np\n",
    "errors = COLUMNS[9:14]\n",
    "error_signal = time_window_signal.iloc[:, np.r_[1, 9:14]]\n",
    "error_signal"
   ]
  },
  {
   "cell_type": "code",
   "execution_count": 57,
   "metadata": {},
   "outputs": [
    {
     "data": {
      "text/html": [
       "<div>\n",
       "<style scoped>\n",
       "    .dataframe tbody tr th:only-of-type {\n",
       "        vertical-align: middle;\n",
       "    }\n",
       "\n",
       "    .dataframe tbody tr th {\n",
       "        vertical-align: top;\n",
       "    }\n",
       "\n",
       "    .dataframe thead th {\n",
       "        text-align: right;\n",
       "    }\n",
       "</style>\n",
       "<table border=\"1\" class=\"dataframe\">\n",
       "  <thead>\n",
       "    <tr style=\"text-align: right;\">\n",
       "      <th></th>\n",
       "      <th>datetime</th>\n",
       "      <th>errorcode</th>\n",
       "      <th>on/off</th>\n",
       "    </tr>\n",
       "  </thead>\n",
       "  <tbody>\n",
       "    <tr>\n",
       "      <th>0</th>\n",
       "      <td>20</td>\n",
       "      <td>error1</td>\n",
       "      <td>0</td>\n",
       "    </tr>\n",
       "    <tr>\n",
       "      <th>1</th>\n",
       "      <td>21</td>\n",
       "      <td>error1</td>\n",
       "      <td>0</td>\n",
       "    </tr>\n",
       "    <tr>\n",
       "      <th>2</th>\n",
       "      <td>22</td>\n",
       "      <td>error1</td>\n",
       "      <td>0</td>\n",
       "    </tr>\n",
       "    <tr>\n",
       "      <th>3</th>\n",
       "      <td>23</td>\n",
       "      <td>error1</td>\n",
       "      <td>0</td>\n",
       "    </tr>\n",
       "    <tr>\n",
       "      <th>4</th>\n",
       "      <td>0</td>\n",
       "      <td>error1</td>\n",
       "      <td>0</td>\n",
       "    </tr>\n",
       "    <tr>\n",
       "      <th>...</th>\n",
       "      <td>...</td>\n",
       "      <td>...</td>\n",
       "      <td>...</td>\n",
       "    </tr>\n",
       "    <tr>\n",
       "      <th>60</th>\n",
       "      <td>4</td>\n",
       "      <td>error5</td>\n",
       "      <td>0</td>\n",
       "    </tr>\n",
       "    <tr>\n",
       "      <th>61</th>\n",
       "      <td>5</td>\n",
       "      <td>error5</td>\n",
       "      <td>0</td>\n",
       "    </tr>\n",
       "    <tr>\n",
       "      <th>62</th>\n",
       "      <td>6</td>\n",
       "      <td>error5</td>\n",
       "      <td>0</td>\n",
       "    </tr>\n",
       "    <tr>\n",
       "      <th>63</th>\n",
       "      <td>7</td>\n",
       "      <td>error5</td>\n",
       "      <td>0</td>\n",
       "    </tr>\n",
       "    <tr>\n",
       "      <th>64</th>\n",
       "      <td>8</td>\n",
       "      <td>error5</td>\n",
       "      <td>0</td>\n",
       "    </tr>\n",
       "  </tbody>\n",
       "</table>\n",
       "<p>65 rows × 3 columns</p>\n",
       "</div>"
      ],
      "text/plain": [
       "    datetime errorcode  on/off\n",
       "0         20    error1       0\n",
       "1         21    error1       0\n",
       "2         22    error1       0\n",
       "3         23    error1       0\n",
       "4          0    error1       0\n",
       "..       ...       ...     ...\n",
       "60         4    error5       0\n",
       "61         5    error5       0\n",
       "62         6    error5       0\n",
       "63         7    error5       0\n",
       "64         8    error5       0\n",
       "\n",
       "[65 rows x 3 columns]"
      ]
     },
     "execution_count": 57,
     "metadata": {},
     "output_type": "execute_result"
    }
   ],
   "source": [
    "melted = pd.melt(error_signal, id_vars=\"datetime\", var_name=\"errorcode\", value_name=\"on/off\")\n",
    "melted.iloc[:,0] = melted[\"datetime\"].dt.round(\"H\").dt.hour\n",
    "melted"
   ]
  },
  {
   "cell_type": "code",
   "execution_count": 58,
   "metadata": {},
   "outputs": [
    {
     "data": {
      "application/vnd.plotly.v1+json": {
       "config": {
        "plotlyServerURL": "https://plot.ly"
       },
       "data": [
        {
         "alignmentgroup": "True",
         "hovertemplate": "errorcode=%{x}<br>datetime=20<br>on/off=%{y}<extra></extra>",
         "legendgroup": "error1",
         "marker": {
          "color": "#000001",
          "pattern": {
           "shape": ""
          }
         },
         "name": "error1",
         "offsetgroup": "error1",
         "orientation": "v",
         "showlegend": true,
         "textposition": "auto",
         "type": "bar",
         "x": [
          "error1"
         ],
         "xaxis": "x",
         "y": [
          0
         ],
         "yaxis": "y"
        },
        {
         "alignmentgroup": "True",
         "hovertemplate": "errorcode=%{x}<br>datetime=20<br>on/off=%{y}<extra></extra>",
         "legendgroup": "error2",
         "marker": {
          "color": "#000002",
          "pattern": {
           "shape": ""
          }
         },
         "name": "error2",
         "offsetgroup": "error2",
         "orientation": "v",
         "showlegend": true,
         "textposition": "auto",
         "type": "bar",
         "x": [
          "error2"
         ],
         "xaxis": "x",
         "y": [
          0
         ],
         "yaxis": "y"
        },
        {
         "alignmentgroup": "True",
         "hovertemplate": "errorcode=%{x}<br>datetime=20<br>on/off=%{y}<extra></extra>",
         "legendgroup": "error3",
         "marker": {
          "color": "#000003",
          "pattern": {
           "shape": ""
          }
         },
         "name": "error3",
         "offsetgroup": "error3",
         "orientation": "v",
         "showlegend": true,
         "textposition": "auto",
         "type": "bar",
         "x": [
          "error3"
         ],
         "xaxis": "x",
         "y": [
          0
         ],
         "yaxis": "y"
        },
        {
         "alignmentgroup": "True",
         "hovertemplate": "errorcode=%{x}<br>datetime=20<br>on/off=%{y}<extra></extra>",
         "legendgroup": "error4",
         "marker": {
          "color": "#000004",
          "pattern": {
           "shape": ""
          }
         },
         "name": "error4",
         "offsetgroup": "error4",
         "orientation": "v",
         "showlegend": true,
         "textposition": "auto",
         "type": "bar",
         "x": [
          "error4"
         ],
         "xaxis": "x",
         "y": [
          0
         ],
         "yaxis": "y"
        },
        {
         "alignmentgroup": "True",
         "hovertemplate": "errorcode=%{x}<br>datetime=20<br>on/off=%{y}<extra></extra>",
         "legendgroup": "error5",
         "marker": {
          "color": "#000005",
          "pattern": {
           "shape": ""
          }
         },
         "name": "error5",
         "offsetgroup": "error5",
         "orientation": "v",
         "showlegend": true,
         "textposition": "auto",
         "type": "bar",
         "x": [
          "error5"
         ],
         "xaxis": "x",
         "y": [
          0
         ],
         "yaxis": "y"
        }
       ],
       "frames": [
        {
         "data": [
          {
           "alignmentgroup": "True",
           "hovertemplate": "errorcode=%{x}<br>datetime=20<br>on/off=%{y}<extra></extra>",
           "legendgroup": "error1",
           "marker": {
            "color": "#000001",
            "pattern": {
             "shape": ""
            }
           },
           "name": "error1",
           "offsetgroup": "error1",
           "orientation": "v",
           "showlegend": true,
           "textposition": "auto",
           "type": "bar",
           "x": [
            "error1"
           ],
           "xaxis": "x",
           "y": [
            0
           ],
           "yaxis": "y"
          },
          {
           "alignmentgroup": "True",
           "hovertemplate": "errorcode=%{x}<br>datetime=20<br>on/off=%{y}<extra></extra>",
           "legendgroup": "error2",
           "marker": {
            "color": "#000002",
            "pattern": {
             "shape": ""
            }
           },
           "name": "error2",
           "offsetgroup": "error2",
           "orientation": "v",
           "showlegend": true,
           "textposition": "auto",
           "type": "bar",
           "x": [
            "error2"
           ],
           "xaxis": "x",
           "y": [
            0
           ],
           "yaxis": "y"
          },
          {
           "alignmentgroup": "True",
           "hovertemplate": "errorcode=%{x}<br>datetime=20<br>on/off=%{y}<extra></extra>",
           "legendgroup": "error3",
           "marker": {
            "color": "#000003",
            "pattern": {
             "shape": ""
            }
           },
           "name": "error3",
           "offsetgroup": "error3",
           "orientation": "v",
           "showlegend": true,
           "textposition": "auto",
           "type": "bar",
           "x": [
            "error3"
           ],
           "xaxis": "x",
           "y": [
            0
           ],
           "yaxis": "y"
          },
          {
           "alignmentgroup": "True",
           "hovertemplate": "errorcode=%{x}<br>datetime=20<br>on/off=%{y}<extra></extra>",
           "legendgroup": "error4",
           "marker": {
            "color": "#000004",
            "pattern": {
             "shape": ""
            }
           },
           "name": "error4",
           "offsetgroup": "error4",
           "orientation": "v",
           "showlegend": true,
           "textposition": "auto",
           "type": "bar",
           "x": [
            "error4"
           ],
           "xaxis": "x",
           "y": [
            0
           ],
           "yaxis": "y"
          },
          {
           "alignmentgroup": "True",
           "hovertemplate": "errorcode=%{x}<br>datetime=20<br>on/off=%{y}<extra></extra>",
           "legendgroup": "error5",
           "marker": {
            "color": "#000005",
            "pattern": {
             "shape": ""
            }
           },
           "name": "error5",
           "offsetgroup": "error5",
           "orientation": "v",
           "showlegend": true,
           "textposition": "auto",
           "type": "bar",
           "x": [
            "error5"
           ],
           "xaxis": "x",
           "y": [
            0
           ],
           "yaxis": "y"
          }
         ],
         "name": "20"
        },
        {
         "data": [
          {
           "alignmentgroup": "True",
           "hovertemplate": "errorcode=%{x}<br>datetime=21<br>on/off=%{y}<extra></extra>",
           "legendgroup": "error1",
           "marker": {
            "color": "#000001",
            "pattern": {
             "shape": ""
            }
           },
           "name": "error1",
           "offsetgroup": "error1",
           "orientation": "v",
           "showlegend": true,
           "textposition": "auto",
           "type": "bar",
           "x": [
            "error1"
           ],
           "xaxis": "x",
           "y": [
            0
           ],
           "yaxis": "y"
          },
          {
           "alignmentgroup": "True",
           "hovertemplate": "errorcode=%{x}<br>datetime=21<br>on/off=%{y}<extra></extra>",
           "legendgroup": "error2",
           "marker": {
            "color": "#000002",
            "pattern": {
             "shape": ""
            }
           },
           "name": "error2",
           "offsetgroup": "error2",
           "orientation": "v",
           "showlegend": true,
           "textposition": "auto",
           "type": "bar",
           "x": [
            "error2"
           ],
           "xaxis": "x",
           "y": [
            0
           ],
           "yaxis": "y"
          },
          {
           "alignmentgroup": "True",
           "hovertemplate": "errorcode=%{x}<br>datetime=21<br>on/off=%{y}<extra></extra>",
           "legendgroup": "error3",
           "marker": {
            "color": "#000003",
            "pattern": {
             "shape": ""
            }
           },
           "name": "error3",
           "offsetgroup": "error3",
           "orientation": "v",
           "showlegend": true,
           "textposition": "auto",
           "type": "bar",
           "x": [
            "error3"
           ],
           "xaxis": "x",
           "y": [
            0
           ],
           "yaxis": "y"
          },
          {
           "alignmentgroup": "True",
           "hovertemplate": "errorcode=%{x}<br>datetime=21<br>on/off=%{y}<extra></extra>",
           "legendgroup": "error4",
           "marker": {
            "color": "#000004",
            "pattern": {
             "shape": ""
            }
           },
           "name": "error4",
           "offsetgroup": "error4",
           "orientation": "v",
           "showlegend": true,
           "textposition": "auto",
           "type": "bar",
           "x": [
            "error4"
           ],
           "xaxis": "x",
           "y": [
            0
           ],
           "yaxis": "y"
          },
          {
           "alignmentgroup": "True",
           "hovertemplate": "errorcode=%{x}<br>datetime=21<br>on/off=%{y}<extra></extra>",
           "legendgroup": "error5",
           "marker": {
            "color": "#000005",
            "pattern": {
             "shape": ""
            }
           },
           "name": "error5",
           "offsetgroup": "error5",
           "orientation": "v",
           "showlegend": true,
           "textposition": "auto",
           "type": "bar",
           "x": [
            "error5"
           ],
           "xaxis": "x",
           "y": [
            0
           ],
           "yaxis": "y"
          }
         ],
         "name": "21"
        },
        {
         "data": [
          {
           "alignmentgroup": "True",
           "hovertemplate": "errorcode=%{x}<br>datetime=22<br>on/off=%{y}<extra></extra>",
           "legendgroup": "error1",
           "marker": {
            "color": "#000001",
            "pattern": {
             "shape": ""
            }
           },
           "name": "error1",
           "offsetgroup": "error1",
           "orientation": "v",
           "showlegend": true,
           "textposition": "auto",
           "type": "bar",
           "x": [
            "error1"
           ],
           "xaxis": "x",
           "y": [
            0
           ],
           "yaxis": "y"
          },
          {
           "alignmentgroup": "True",
           "hovertemplate": "errorcode=%{x}<br>datetime=22<br>on/off=%{y}<extra></extra>",
           "legendgroup": "error2",
           "marker": {
            "color": "#000002",
            "pattern": {
             "shape": ""
            }
           },
           "name": "error2",
           "offsetgroup": "error2",
           "orientation": "v",
           "showlegend": true,
           "textposition": "auto",
           "type": "bar",
           "x": [
            "error2"
           ],
           "xaxis": "x",
           "y": [
            0
           ],
           "yaxis": "y"
          },
          {
           "alignmentgroup": "True",
           "hovertemplate": "errorcode=%{x}<br>datetime=22<br>on/off=%{y}<extra></extra>",
           "legendgroup": "error3",
           "marker": {
            "color": "#000003",
            "pattern": {
             "shape": ""
            }
           },
           "name": "error3",
           "offsetgroup": "error3",
           "orientation": "v",
           "showlegend": true,
           "textposition": "auto",
           "type": "bar",
           "x": [
            "error3"
           ],
           "xaxis": "x",
           "y": [
            0
           ],
           "yaxis": "y"
          },
          {
           "alignmentgroup": "True",
           "hovertemplate": "errorcode=%{x}<br>datetime=22<br>on/off=%{y}<extra></extra>",
           "legendgroup": "error4",
           "marker": {
            "color": "#000004",
            "pattern": {
             "shape": ""
            }
           },
           "name": "error4",
           "offsetgroup": "error4",
           "orientation": "v",
           "showlegend": true,
           "textposition": "auto",
           "type": "bar",
           "x": [
            "error4"
           ],
           "xaxis": "x",
           "y": [
            0
           ],
           "yaxis": "y"
          },
          {
           "alignmentgroup": "True",
           "hovertemplate": "errorcode=%{x}<br>datetime=22<br>on/off=%{y}<extra></extra>",
           "legendgroup": "error5",
           "marker": {
            "color": "#000005",
            "pattern": {
             "shape": ""
            }
           },
           "name": "error5",
           "offsetgroup": "error5",
           "orientation": "v",
           "showlegend": true,
           "textposition": "auto",
           "type": "bar",
           "x": [
            "error5"
           ],
           "xaxis": "x",
           "y": [
            0
           ],
           "yaxis": "y"
          }
         ],
         "name": "22"
        },
        {
         "data": [
          {
           "alignmentgroup": "True",
           "hovertemplate": "errorcode=%{x}<br>datetime=23<br>on/off=%{y}<extra></extra>",
           "legendgroup": "error1",
           "marker": {
            "color": "#000001",
            "pattern": {
             "shape": ""
            }
           },
           "name": "error1",
           "offsetgroup": "error1",
           "orientation": "v",
           "showlegend": true,
           "textposition": "auto",
           "type": "bar",
           "x": [
            "error1"
           ],
           "xaxis": "x",
           "y": [
            0
           ],
           "yaxis": "y"
          },
          {
           "alignmentgroup": "True",
           "hovertemplate": "errorcode=%{x}<br>datetime=23<br>on/off=%{y}<extra></extra>",
           "legendgroup": "error2",
           "marker": {
            "color": "#000002",
            "pattern": {
             "shape": ""
            }
           },
           "name": "error2",
           "offsetgroup": "error2",
           "orientation": "v",
           "showlegend": true,
           "textposition": "auto",
           "type": "bar",
           "x": [
            "error2"
           ],
           "xaxis": "x",
           "y": [
            0
           ],
           "yaxis": "y"
          },
          {
           "alignmentgroup": "True",
           "hovertemplate": "errorcode=%{x}<br>datetime=23<br>on/off=%{y}<extra></extra>",
           "legendgroup": "error3",
           "marker": {
            "color": "#000003",
            "pattern": {
             "shape": ""
            }
           },
           "name": "error3",
           "offsetgroup": "error3",
           "orientation": "v",
           "showlegend": true,
           "textposition": "auto",
           "type": "bar",
           "x": [
            "error3"
           ],
           "xaxis": "x",
           "y": [
            0
           ],
           "yaxis": "y"
          },
          {
           "alignmentgroup": "True",
           "hovertemplate": "errorcode=%{x}<br>datetime=23<br>on/off=%{y}<extra></extra>",
           "legendgroup": "error4",
           "marker": {
            "color": "#000004",
            "pattern": {
             "shape": ""
            }
           },
           "name": "error4",
           "offsetgroup": "error4",
           "orientation": "v",
           "showlegend": true,
           "textposition": "auto",
           "type": "bar",
           "x": [
            "error4"
           ],
           "xaxis": "x",
           "y": [
            0
           ],
           "yaxis": "y"
          },
          {
           "alignmentgroup": "True",
           "hovertemplate": "errorcode=%{x}<br>datetime=23<br>on/off=%{y}<extra></extra>",
           "legendgroup": "error5",
           "marker": {
            "color": "#000005",
            "pattern": {
             "shape": ""
            }
           },
           "name": "error5",
           "offsetgroup": "error5",
           "orientation": "v",
           "showlegend": true,
           "textposition": "auto",
           "type": "bar",
           "x": [
            "error5"
           ],
           "xaxis": "x",
           "y": [
            0
           ],
           "yaxis": "y"
          }
         ],
         "name": "23"
        },
        {
         "data": [
          {
           "alignmentgroup": "True",
           "hovertemplate": "errorcode=%{x}<br>datetime=0<br>on/off=%{y}<extra></extra>",
           "legendgroup": "error1",
           "marker": {
            "color": "#000001",
            "pattern": {
             "shape": ""
            }
           },
           "name": "error1",
           "offsetgroup": "error1",
           "orientation": "v",
           "showlegend": true,
           "textposition": "auto",
           "type": "bar",
           "x": [
            "error1"
           ],
           "xaxis": "x",
           "y": [
            0
           ],
           "yaxis": "y"
          },
          {
           "alignmentgroup": "True",
           "hovertemplate": "errorcode=%{x}<br>datetime=0<br>on/off=%{y}<extra></extra>",
           "legendgroup": "error2",
           "marker": {
            "color": "#000002",
            "pattern": {
             "shape": ""
            }
           },
           "name": "error2",
           "offsetgroup": "error2",
           "orientation": "v",
           "showlegend": true,
           "textposition": "auto",
           "type": "bar",
           "x": [
            "error2"
           ],
           "xaxis": "x",
           "y": [
            0
           ],
           "yaxis": "y"
          },
          {
           "alignmentgroup": "True",
           "hovertemplate": "errorcode=%{x}<br>datetime=0<br>on/off=%{y}<extra></extra>",
           "legendgroup": "error3",
           "marker": {
            "color": "#000003",
            "pattern": {
             "shape": ""
            }
           },
           "name": "error3",
           "offsetgroup": "error3",
           "orientation": "v",
           "showlegend": true,
           "textposition": "auto",
           "type": "bar",
           "x": [
            "error3"
           ],
           "xaxis": "x",
           "y": [
            0
           ],
           "yaxis": "y"
          },
          {
           "alignmentgroup": "True",
           "hovertemplate": "errorcode=%{x}<br>datetime=0<br>on/off=%{y}<extra></extra>",
           "legendgroup": "error4",
           "marker": {
            "color": "#000004",
            "pattern": {
             "shape": ""
            }
           },
           "name": "error4",
           "offsetgroup": "error4",
           "orientation": "v",
           "showlegend": true,
           "textposition": "auto",
           "type": "bar",
           "x": [
            "error4"
           ],
           "xaxis": "x",
           "y": [
            0
           ],
           "yaxis": "y"
          },
          {
           "alignmentgroup": "True",
           "hovertemplate": "errorcode=%{x}<br>datetime=0<br>on/off=%{y}<extra></extra>",
           "legendgroup": "error5",
           "marker": {
            "color": "#000005",
            "pattern": {
             "shape": ""
            }
           },
           "name": "error5",
           "offsetgroup": "error5",
           "orientation": "v",
           "showlegend": true,
           "textposition": "auto",
           "type": "bar",
           "x": [
            "error5"
           ],
           "xaxis": "x",
           "y": [
            0
           ],
           "yaxis": "y"
          }
         ],
         "name": "0"
        },
        {
         "data": [
          {
           "alignmentgroup": "True",
           "hovertemplate": "errorcode=%{x}<br>datetime=1<br>on/off=%{y}<extra></extra>",
           "legendgroup": "error1",
           "marker": {
            "color": "#000001",
            "pattern": {
             "shape": ""
            }
           },
           "name": "error1",
           "offsetgroup": "error1",
           "orientation": "v",
           "showlegend": true,
           "textposition": "auto",
           "type": "bar",
           "x": [
            "error1"
           ],
           "xaxis": "x",
           "y": [
            0
           ],
           "yaxis": "y"
          },
          {
           "alignmentgroup": "True",
           "hovertemplate": "errorcode=%{x}<br>datetime=1<br>on/off=%{y}<extra></extra>",
           "legendgroup": "error2",
           "marker": {
            "color": "#000002",
            "pattern": {
             "shape": ""
            }
           },
           "name": "error2",
           "offsetgroup": "error2",
           "orientation": "v",
           "showlegend": true,
           "textposition": "auto",
           "type": "bar",
           "x": [
            "error2"
           ],
           "xaxis": "x",
           "y": [
            0
           ],
           "yaxis": "y"
          },
          {
           "alignmentgroup": "True",
           "hovertemplate": "errorcode=%{x}<br>datetime=1<br>on/off=%{y}<extra></extra>",
           "legendgroup": "error3",
           "marker": {
            "color": "#000003",
            "pattern": {
             "shape": ""
            }
           },
           "name": "error3",
           "offsetgroup": "error3",
           "orientation": "v",
           "showlegend": true,
           "textposition": "auto",
           "type": "bar",
           "x": [
            "error3"
           ],
           "xaxis": "x",
           "y": [
            0
           ],
           "yaxis": "y"
          },
          {
           "alignmentgroup": "True",
           "hovertemplate": "errorcode=%{x}<br>datetime=1<br>on/off=%{y}<extra></extra>",
           "legendgroup": "error4",
           "marker": {
            "color": "#000004",
            "pattern": {
             "shape": ""
            }
           },
           "name": "error4",
           "offsetgroup": "error4",
           "orientation": "v",
           "showlegend": true,
           "textposition": "auto",
           "type": "bar",
           "x": [
            "error4"
           ],
           "xaxis": "x",
           "y": [
            0
           ],
           "yaxis": "y"
          },
          {
           "alignmentgroup": "True",
           "hovertemplate": "errorcode=%{x}<br>datetime=1<br>on/off=%{y}<extra></extra>",
           "legendgroup": "error5",
           "marker": {
            "color": "#000005",
            "pattern": {
             "shape": ""
            }
           },
           "name": "error5",
           "offsetgroup": "error5",
           "orientation": "v",
           "showlegend": true,
           "textposition": "auto",
           "type": "bar",
           "x": [
            "error5"
           ],
           "xaxis": "x",
           "y": [
            0
           ],
           "yaxis": "y"
          }
         ],
         "name": "1"
        },
        {
         "data": [
          {
           "alignmentgroup": "True",
           "hovertemplate": "errorcode=%{x}<br>datetime=2<br>on/off=%{y}<extra></extra>",
           "legendgroup": "error1",
           "marker": {
            "color": "#000001",
            "pattern": {
             "shape": ""
            }
           },
           "name": "error1",
           "offsetgroup": "error1",
           "orientation": "v",
           "showlegend": true,
           "textposition": "auto",
           "type": "bar",
           "x": [
            "error1"
           ],
           "xaxis": "x",
           "y": [
            0
           ],
           "yaxis": "y"
          },
          {
           "alignmentgroup": "True",
           "hovertemplate": "errorcode=%{x}<br>datetime=2<br>on/off=%{y}<extra></extra>",
           "legendgroup": "error2",
           "marker": {
            "color": "#000002",
            "pattern": {
             "shape": ""
            }
           },
           "name": "error2",
           "offsetgroup": "error2",
           "orientation": "v",
           "showlegend": true,
           "textposition": "auto",
           "type": "bar",
           "x": [
            "error2"
           ],
           "xaxis": "x",
           "y": [
            0
           ],
           "yaxis": "y"
          },
          {
           "alignmentgroup": "True",
           "hovertemplate": "errorcode=%{x}<br>datetime=2<br>on/off=%{y}<extra></extra>",
           "legendgroup": "error3",
           "marker": {
            "color": "#000003",
            "pattern": {
             "shape": ""
            }
           },
           "name": "error3",
           "offsetgroup": "error3",
           "orientation": "v",
           "showlegend": true,
           "textposition": "auto",
           "type": "bar",
           "x": [
            "error3"
           ],
           "xaxis": "x",
           "y": [
            0
           ],
           "yaxis": "y"
          },
          {
           "alignmentgroup": "True",
           "hovertemplate": "errorcode=%{x}<br>datetime=2<br>on/off=%{y}<extra></extra>",
           "legendgroup": "error4",
           "marker": {
            "color": "#000004",
            "pattern": {
             "shape": ""
            }
           },
           "name": "error4",
           "offsetgroup": "error4",
           "orientation": "v",
           "showlegend": true,
           "textposition": "auto",
           "type": "bar",
           "x": [
            "error4"
           ],
           "xaxis": "x",
           "y": [
            0
           ],
           "yaxis": "y"
          },
          {
           "alignmentgroup": "True",
           "hovertemplate": "errorcode=%{x}<br>datetime=2<br>on/off=%{y}<extra></extra>",
           "legendgroup": "error5",
           "marker": {
            "color": "#000005",
            "pattern": {
             "shape": ""
            }
           },
           "name": "error5",
           "offsetgroup": "error5",
           "orientation": "v",
           "showlegend": true,
           "textposition": "auto",
           "type": "bar",
           "x": [
            "error5"
           ],
           "xaxis": "x",
           "y": [
            0
           ],
           "yaxis": "y"
          }
         ],
         "name": "2"
        },
        {
         "data": [
          {
           "alignmentgroup": "True",
           "hovertemplate": "errorcode=%{x}<br>datetime=3<br>on/off=%{y}<extra></extra>",
           "legendgroup": "error1",
           "marker": {
            "color": "#000001",
            "pattern": {
             "shape": ""
            }
           },
           "name": "error1",
           "offsetgroup": "error1",
           "orientation": "v",
           "showlegend": true,
           "textposition": "auto",
           "type": "bar",
           "x": [
            "error1"
           ],
           "xaxis": "x",
           "y": [
            0
           ],
           "yaxis": "y"
          },
          {
           "alignmentgroup": "True",
           "hovertemplate": "errorcode=%{x}<br>datetime=3<br>on/off=%{y}<extra></extra>",
           "legendgroup": "error2",
           "marker": {
            "color": "#000002",
            "pattern": {
             "shape": ""
            }
           },
           "name": "error2",
           "offsetgroup": "error2",
           "orientation": "v",
           "showlegend": true,
           "textposition": "auto",
           "type": "bar",
           "x": [
            "error2"
           ],
           "xaxis": "x",
           "y": [
            0
           ],
           "yaxis": "y"
          },
          {
           "alignmentgroup": "True",
           "hovertemplate": "errorcode=%{x}<br>datetime=3<br>on/off=%{y}<extra></extra>",
           "legendgroup": "error3",
           "marker": {
            "color": "#000003",
            "pattern": {
             "shape": ""
            }
           },
           "name": "error3",
           "offsetgroup": "error3",
           "orientation": "v",
           "showlegend": true,
           "textposition": "auto",
           "type": "bar",
           "x": [
            "error3"
           ],
           "xaxis": "x",
           "y": [
            0
           ],
           "yaxis": "y"
          },
          {
           "alignmentgroup": "True",
           "hovertemplate": "errorcode=%{x}<br>datetime=3<br>on/off=%{y}<extra></extra>",
           "legendgroup": "error4",
           "marker": {
            "color": "#000004",
            "pattern": {
             "shape": ""
            }
           },
           "name": "error4",
           "offsetgroup": "error4",
           "orientation": "v",
           "showlegend": true,
           "textposition": "auto",
           "type": "bar",
           "x": [
            "error4"
           ],
           "xaxis": "x",
           "y": [
            0
           ],
           "yaxis": "y"
          },
          {
           "alignmentgroup": "True",
           "hovertemplate": "errorcode=%{x}<br>datetime=3<br>on/off=%{y}<extra></extra>",
           "legendgroup": "error5",
           "marker": {
            "color": "#000005",
            "pattern": {
             "shape": ""
            }
           },
           "name": "error5",
           "offsetgroup": "error5",
           "orientation": "v",
           "showlegend": true,
           "textposition": "auto",
           "type": "bar",
           "x": [
            "error5"
           ],
           "xaxis": "x",
           "y": [
            0
           ],
           "yaxis": "y"
          }
         ],
         "name": "3"
        },
        {
         "data": [
          {
           "alignmentgroup": "True",
           "hovertemplate": "errorcode=%{x}<br>datetime=4<br>on/off=%{y}<extra></extra>",
           "legendgroup": "error1",
           "marker": {
            "color": "#000001",
            "pattern": {
             "shape": ""
            }
           },
           "name": "error1",
           "offsetgroup": "error1",
           "orientation": "v",
           "showlegend": true,
           "textposition": "auto",
           "type": "bar",
           "x": [
            "error1"
           ],
           "xaxis": "x",
           "y": [
            0
           ],
           "yaxis": "y"
          },
          {
           "alignmentgroup": "True",
           "hovertemplate": "errorcode=%{x}<br>datetime=4<br>on/off=%{y}<extra></extra>",
           "legendgroup": "error2",
           "marker": {
            "color": "#000002",
            "pattern": {
             "shape": ""
            }
           },
           "name": "error2",
           "offsetgroup": "error2",
           "orientation": "v",
           "showlegend": true,
           "textposition": "auto",
           "type": "bar",
           "x": [
            "error2"
           ],
           "xaxis": "x",
           "y": [
            0
           ],
           "yaxis": "y"
          },
          {
           "alignmentgroup": "True",
           "hovertemplate": "errorcode=%{x}<br>datetime=4<br>on/off=%{y}<extra></extra>",
           "legendgroup": "error3",
           "marker": {
            "color": "#000003",
            "pattern": {
             "shape": ""
            }
           },
           "name": "error3",
           "offsetgroup": "error3",
           "orientation": "v",
           "showlegend": true,
           "textposition": "auto",
           "type": "bar",
           "x": [
            "error3"
           ],
           "xaxis": "x",
           "y": [
            0
           ],
           "yaxis": "y"
          },
          {
           "alignmentgroup": "True",
           "hovertemplate": "errorcode=%{x}<br>datetime=4<br>on/off=%{y}<extra></extra>",
           "legendgroup": "error4",
           "marker": {
            "color": "#000004",
            "pattern": {
             "shape": ""
            }
           },
           "name": "error4",
           "offsetgroup": "error4",
           "orientation": "v",
           "showlegend": true,
           "textposition": "auto",
           "type": "bar",
           "x": [
            "error4"
           ],
           "xaxis": "x",
           "y": [
            0
           ],
           "yaxis": "y"
          },
          {
           "alignmentgroup": "True",
           "hovertemplate": "errorcode=%{x}<br>datetime=4<br>on/off=%{y}<extra></extra>",
           "legendgroup": "error5",
           "marker": {
            "color": "#000005",
            "pattern": {
             "shape": ""
            }
           },
           "name": "error5",
           "offsetgroup": "error5",
           "orientation": "v",
           "showlegend": true,
           "textposition": "auto",
           "type": "bar",
           "x": [
            "error5"
           ],
           "xaxis": "x",
           "y": [
            0
           ],
           "yaxis": "y"
          }
         ],
         "name": "4"
        },
        {
         "data": [
          {
           "alignmentgroup": "True",
           "hovertemplate": "errorcode=%{x}<br>datetime=5<br>on/off=%{y}<extra></extra>",
           "legendgroup": "error1",
           "marker": {
            "color": "#000001",
            "pattern": {
             "shape": ""
            }
           },
           "name": "error1",
           "offsetgroup": "error1",
           "orientation": "v",
           "showlegend": true,
           "textposition": "auto",
           "type": "bar",
           "x": [
            "error1"
           ],
           "xaxis": "x",
           "y": [
            0
           ],
           "yaxis": "y"
          },
          {
           "alignmentgroup": "True",
           "hovertemplate": "errorcode=%{x}<br>datetime=5<br>on/off=%{y}<extra></extra>",
           "legendgroup": "error2",
           "marker": {
            "color": "#000002",
            "pattern": {
             "shape": ""
            }
           },
           "name": "error2",
           "offsetgroup": "error2",
           "orientation": "v",
           "showlegend": true,
           "textposition": "auto",
           "type": "bar",
           "x": [
            "error2"
           ],
           "xaxis": "x",
           "y": [
            0
           ],
           "yaxis": "y"
          },
          {
           "alignmentgroup": "True",
           "hovertemplate": "errorcode=%{x}<br>datetime=5<br>on/off=%{y}<extra></extra>",
           "legendgroup": "error3",
           "marker": {
            "color": "#000003",
            "pattern": {
             "shape": ""
            }
           },
           "name": "error3",
           "offsetgroup": "error3",
           "orientation": "v",
           "showlegend": true,
           "textposition": "auto",
           "type": "bar",
           "x": [
            "error3"
           ],
           "xaxis": "x",
           "y": [
            0
           ],
           "yaxis": "y"
          },
          {
           "alignmentgroup": "True",
           "hovertemplate": "errorcode=%{x}<br>datetime=5<br>on/off=%{y}<extra></extra>",
           "legendgroup": "error4",
           "marker": {
            "color": "#000004",
            "pattern": {
             "shape": ""
            }
           },
           "name": "error4",
           "offsetgroup": "error4",
           "orientation": "v",
           "showlegend": true,
           "textposition": "auto",
           "type": "bar",
           "x": [
            "error4"
           ],
           "xaxis": "x",
           "y": [
            0
           ],
           "yaxis": "y"
          },
          {
           "alignmentgroup": "True",
           "hovertemplate": "errorcode=%{x}<br>datetime=5<br>on/off=%{y}<extra></extra>",
           "legendgroup": "error5",
           "marker": {
            "color": "#000005",
            "pattern": {
             "shape": ""
            }
           },
           "name": "error5",
           "offsetgroup": "error5",
           "orientation": "v",
           "showlegend": true,
           "textposition": "auto",
           "type": "bar",
           "x": [
            "error5"
           ],
           "xaxis": "x",
           "y": [
            0
           ],
           "yaxis": "y"
          }
         ],
         "name": "5"
        },
        {
         "data": [
          {
           "alignmentgroup": "True",
           "hovertemplate": "errorcode=%{x}<br>datetime=6<br>on/off=%{y}<extra></extra>",
           "legendgroup": "error1",
           "marker": {
            "color": "#000001",
            "pattern": {
             "shape": ""
            }
           },
           "name": "error1",
           "offsetgroup": "error1",
           "orientation": "v",
           "showlegend": true,
           "textposition": "auto",
           "type": "bar",
           "x": [
            "error1"
           ],
           "xaxis": "x",
           "y": [
            0
           ],
           "yaxis": "y"
          },
          {
           "alignmentgroup": "True",
           "hovertemplate": "errorcode=%{x}<br>datetime=6<br>on/off=%{y}<extra></extra>",
           "legendgroup": "error2",
           "marker": {
            "color": "#000002",
            "pattern": {
             "shape": ""
            }
           },
           "name": "error2",
           "offsetgroup": "error2",
           "orientation": "v",
           "showlegend": true,
           "textposition": "auto",
           "type": "bar",
           "x": [
            "error2"
           ],
           "xaxis": "x",
           "y": [
            1
           ],
           "yaxis": "y"
          },
          {
           "alignmentgroup": "True",
           "hovertemplate": "errorcode=%{x}<br>datetime=6<br>on/off=%{y}<extra></extra>",
           "legendgroup": "error3",
           "marker": {
            "color": "#000003",
            "pattern": {
             "shape": ""
            }
           },
           "name": "error3",
           "offsetgroup": "error3",
           "orientation": "v",
           "showlegend": true,
           "textposition": "auto",
           "type": "bar",
           "x": [
            "error3"
           ],
           "xaxis": "x",
           "y": [
            1
           ],
           "yaxis": "y"
          },
          {
           "alignmentgroup": "True",
           "hovertemplate": "errorcode=%{x}<br>datetime=6<br>on/off=%{y}<extra></extra>",
           "legendgroup": "error4",
           "marker": {
            "color": "#000004",
            "pattern": {
             "shape": ""
            }
           },
           "name": "error4",
           "offsetgroup": "error4",
           "orientation": "v",
           "showlegend": true,
           "textposition": "auto",
           "type": "bar",
           "x": [
            "error4"
           ],
           "xaxis": "x",
           "y": [
            0
           ],
           "yaxis": "y"
          },
          {
           "alignmentgroup": "True",
           "hovertemplate": "errorcode=%{x}<br>datetime=6<br>on/off=%{y}<extra></extra>",
           "legendgroup": "error5",
           "marker": {
            "color": "#000005",
            "pattern": {
             "shape": ""
            }
           },
           "name": "error5",
           "offsetgroup": "error5",
           "orientation": "v",
           "showlegend": true,
           "textposition": "auto",
           "type": "bar",
           "x": [
            "error5"
           ],
           "xaxis": "x",
           "y": [
            0
           ],
           "yaxis": "y"
          }
         ],
         "name": "6"
        },
        {
         "data": [
          {
           "alignmentgroup": "True",
           "hovertemplate": "errorcode=%{x}<br>datetime=7<br>on/off=%{y}<extra></extra>",
           "legendgroup": "error1",
           "marker": {
            "color": "#000001",
            "pattern": {
             "shape": ""
            }
           },
           "name": "error1",
           "offsetgroup": "error1",
           "orientation": "v",
           "showlegend": true,
           "textposition": "auto",
           "type": "bar",
           "x": [
            "error1"
           ],
           "xaxis": "x",
           "y": [
            0
           ],
           "yaxis": "y"
          },
          {
           "alignmentgroup": "True",
           "hovertemplate": "errorcode=%{x}<br>datetime=7<br>on/off=%{y}<extra></extra>",
           "legendgroup": "error2",
           "marker": {
            "color": "#000002",
            "pattern": {
             "shape": ""
            }
           },
           "name": "error2",
           "offsetgroup": "error2",
           "orientation": "v",
           "showlegend": true,
           "textposition": "auto",
           "type": "bar",
           "x": [
            "error2"
           ],
           "xaxis": "x",
           "y": [
            0
           ],
           "yaxis": "y"
          },
          {
           "alignmentgroup": "True",
           "hovertemplate": "errorcode=%{x}<br>datetime=7<br>on/off=%{y}<extra></extra>",
           "legendgroup": "error3",
           "marker": {
            "color": "#000003",
            "pattern": {
             "shape": ""
            }
           },
           "name": "error3",
           "offsetgroup": "error3",
           "orientation": "v",
           "showlegend": true,
           "textposition": "auto",
           "type": "bar",
           "x": [
            "error3"
           ],
           "xaxis": "x",
           "y": [
            0
           ],
           "yaxis": "y"
          },
          {
           "alignmentgroup": "True",
           "hovertemplate": "errorcode=%{x}<br>datetime=7<br>on/off=%{y}<extra></extra>",
           "legendgroup": "error4",
           "marker": {
            "color": "#000004",
            "pattern": {
             "shape": ""
            }
           },
           "name": "error4",
           "offsetgroup": "error4",
           "orientation": "v",
           "showlegend": true,
           "textposition": "auto",
           "type": "bar",
           "x": [
            "error4"
           ],
           "xaxis": "x",
           "y": [
            0
           ],
           "yaxis": "y"
          },
          {
           "alignmentgroup": "True",
           "hovertemplate": "errorcode=%{x}<br>datetime=7<br>on/off=%{y}<extra></extra>",
           "legendgroup": "error5",
           "marker": {
            "color": "#000005",
            "pattern": {
             "shape": ""
            }
           },
           "name": "error5",
           "offsetgroup": "error5",
           "orientation": "v",
           "showlegend": true,
           "textposition": "auto",
           "type": "bar",
           "x": [
            "error5"
           ],
           "xaxis": "x",
           "y": [
            0
           ],
           "yaxis": "y"
          }
         ],
         "name": "7"
        },
        {
         "data": [
          {
           "alignmentgroup": "True",
           "hovertemplate": "errorcode=%{x}<br>datetime=8<br>on/off=%{y}<extra></extra>",
           "legendgroup": "error1",
           "marker": {
            "color": "#000001",
            "pattern": {
             "shape": ""
            }
           },
           "name": "error1",
           "offsetgroup": "error1",
           "orientation": "v",
           "showlegend": true,
           "textposition": "auto",
           "type": "bar",
           "x": [
            "error1"
           ],
           "xaxis": "x",
           "y": [
            0
           ],
           "yaxis": "y"
          },
          {
           "alignmentgroup": "True",
           "hovertemplate": "errorcode=%{x}<br>datetime=8<br>on/off=%{y}<extra></extra>",
           "legendgroup": "error2",
           "marker": {
            "color": "#000002",
            "pattern": {
             "shape": ""
            }
           },
           "name": "error2",
           "offsetgroup": "error2",
           "orientation": "v",
           "showlegend": true,
           "textposition": "auto",
           "type": "bar",
           "x": [
            "error2"
           ],
           "xaxis": "x",
           "y": [
            0
           ],
           "yaxis": "y"
          },
          {
           "alignmentgroup": "True",
           "hovertemplate": "errorcode=%{x}<br>datetime=8<br>on/off=%{y}<extra></extra>",
           "legendgroup": "error3",
           "marker": {
            "color": "#000003",
            "pattern": {
             "shape": ""
            }
           },
           "name": "error3",
           "offsetgroup": "error3",
           "orientation": "v",
           "showlegend": true,
           "textposition": "auto",
           "type": "bar",
           "x": [
            "error3"
           ],
           "xaxis": "x",
           "y": [
            0
           ],
           "yaxis": "y"
          },
          {
           "alignmentgroup": "True",
           "hovertemplate": "errorcode=%{x}<br>datetime=8<br>on/off=%{y}<extra></extra>",
           "legendgroup": "error4",
           "marker": {
            "color": "#000004",
            "pattern": {
             "shape": ""
            }
           },
           "name": "error4",
           "offsetgroup": "error4",
           "orientation": "v",
           "showlegend": true,
           "textposition": "auto",
           "type": "bar",
           "x": [
            "error4"
           ],
           "xaxis": "x",
           "y": [
            0
           ],
           "yaxis": "y"
          },
          {
           "alignmentgroup": "True",
           "hovertemplate": "errorcode=%{x}<br>datetime=8<br>on/off=%{y}<extra></extra>",
           "legendgroup": "error5",
           "marker": {
            "color": "#000005",
            "pattern": {
             "shape": ""
            }
           },
           "name": "error5",
           "offsetgroup": "error5",
           "orientation": "v",
           "showlegend": true,
           "textposition": "auto",
           "type": "bar",
           "x": [
            "error5"
           ],
           "xaxis": "x",
           "y": [
            0
           ],
           "yaxis": "y"
          }
         ],
         "name": "8"
        }
       ],
       "layout": {
        "barmode": "relative",
        "legend": {
         "title": {
          "text": "errorcode"
         },
         "tracegroupgap": 0
        },
        "margin": {
         "t": 60
        },
        "sliders": [
         {
          "active": 0,
          "currentvalue": {
           "prefix": "datetime="
          },
          "len": 0.9,
          "pad": {
           "b": 10,
           "t": 60
          },
          "steps": [
           {
            "args": [
             [
              "20"
             ],
             {
              "frame": {
               "duration": 0,
               "redraw": true
              },
              "fromcurrent": true,
              "mode": "immediate",
              "transition": {
               "duration": 0,
               "easing": "linear"
              }
             }
            ],
            "label": "20",
            "method": "animate"
           },
           {
            "args": [
             [
              "21"
             ],
             {
              "frame": {
               "duration": 0,
               "redraw": true
              },
              "fromcurrent": true,
              "mode": "immediate",
              "transition": {
               "duration": 0,
               "easing": "linear"
              }
             }
            ],
            "label": "21",
            "method": "animate"
           },
           {
            "args": [
             [
              "22"
             ],
             {
              "frame": {
               "duration": 0,
               "redraw": true
              },
              "fromcurrent": true,
              "mode": "immediate",
              "transition": {
               "duration": 0,
               "easing": "linear"
              }
             }
            ],
            "label": "22",
            "method": "animate"
           },
           {
            "args": [
             [
              "23"
             ],
             {
              "frame": {
               "duration": 0,
               "redraw": true
              },
              "fromcurrent": true,
              "mode": "immediate",
              "transition": {
               "duration": 0,
               "easing": "linear"
              }
             }
            ],
            "label": "23",
            "method": "animate"
           },
           {
            "args": [
             [
              "0"
             ],
             {
              "frame": {
               "duration": 0,
               "redraw": true
              },
              "fromcurrent": true,
              "mode": "immediate",
              "transition": {
               "duration": 0,
               "easing": "linear"
              }
             }
            ],
            "label": "0",
            "method": "animate"
           },
           {
            "args": [
             [
              "1"
             ],
             {
              "frame": {
               "duration": 0,
               "redraw": true
              },
              "fromcurrent": true,
              "mode": "immediate",
              "transition": {
               "duration": 0,
               "easing": "linear"
              }
             }
            ],
            "label": "1",
            "method": "animate"
           },
           {
            "args": [
             [
              "2"
             ],
             {
              "frame": {
               "duration": 0,
               "redraw": true
              },
              "fromcurrent": true,
              "mode": "immediate",
              "transition": {
               "duration": 0,
               "easing": "linear"
              }
             }
            ],
            "label": "2",
            "method": "animate"
           },
           {
            "args": [
             [
              "3"
             ],
             {
              "frame": {
               "duration": 0,
               "redraw": true
              },
              "fromcurrent": true,
              "mode": "immediate",
              "transition": {
               "duration": 0,
               "easing": "linear"
              }
             }
            ],
            "label": "3",
            "method": "animate"
           },
           {
            "args": [
             [
              "4"
             ],
             {
              "frame": {
               "duration": 0,
               "redraw": true
              },
              "fromcurrent": true,
              "mode": "immediate",
              "transition": {
               "duration": 0,
               "easing": "linear"
              }
             }
            ],
            "label": "4",
            "method": "animate"
           },
           {
            "args": [
             [
              "5"
             ],
             {
              "frame": {
               "duration": 0,
               "redraw": true
              },
              "fromcurrent": true,
              "mode": "immediate",
              "transition": {
               "duration": 0,
               "easing": "linear"
              }
             }
            ],
            "label": "5",
            "method": "animate"
           },
           {
            "args": [
             [
              "6"
             ],
             {
              "frame": {
               "duration": 0,
               "redraw": true
              },
              "fromcurrent": true,
              "mode": "immediate",
              "transition": {
               "duration": 0,
               "easing": "linear"
              }
             }
            ],
            "label": "6",
            "method": "animate"
           },
           {
            "args": [
             [
              "7"
             ],
             {
              "frame": {
               "duration": 0,
               "redraw": true
              },
              "fromcurrent": true,
              "mode": "immediate",
              "transition": {
               "duration": 0,
               "easing": "linear"
              }
             }
            ],
            "label": "7",
            "method": "animate"
           },
           {
            "args": [
             [
              "8"
             ],
             {
              "frame": {
               "duration": 0,
               "redraw": true
              },
              "fromcurrent": true,
              "mode": "immediate",
              "transition": {
               "duration": 0,
               "easing": "linear"
              }
             }
            ],
            "label": "8",
            "method": "animate"
           }
          ],
          "x": 0.1,
          "xanchor": "left",
          "y": 0,
          "yanchor": "top"
         }
        ],
        "template": {
         "data": {
          "candlestick": [
           {
            "decreasing": {
             "line": {
              "color": "#000033"
             }
            },
            "increasing": {
             "line": {
              "color": "#000032"
             }
            },
            "type": "candlestick"
           }
          ],
          "contour": [
           {
            "colorscale": [
             [
              0,
              "#000011"
             ],
             [
              0.1111111111111111,
              "#000012"
             ],
             [
              0.2222222222222222,
              "#000013"
             ],
             [
              0.3333333333333333,
              "#000014"
             ],
             [
              0.4444444444444444,
              "#000015"
             ],
             [
              0.5555555555555556,
              "#000016"
             ],
             [
              0.6666666666666666,
              "#000017"
             ],
             [
              0.7777777777777778,
              "#000018"
             ],
             [
              0.8888888888888888,
              "#000019"
             ],
             [
              1,
              "#000020"
             ]
            ],
            "type": "contour"
           }
          ],
          "contourcarpet": [
           {
            "colorscale": [
             [
              0,
              "#000011"
             ],
             [
              0.1111111111111111,
              "#000012"
             ],
             [
              0.2222222222222222,
              "#000013"
             ],
             [
              0.3333333333333333,
              "#000014"
             ],
             [
              0.4444444444444444,
              "#000015"
             ],
             [
              0.5555555555555556,
              "#000016"
             ],
             [
              0.6666666666666666,
              "#000017"
             ],
             [
              0.7777777777777778,
              "#000018"
             ],
             [
              0.8888888888888888,
              "#000019"
             ],
             [
              1,
              "#000020"
             ]
            ],
            "type": "contourcarpet"
           }
          ],
          "heatmap": [
           {
            "colorscale": [
             [
              0,
              "#000011"
             ],
             [
              0.1111111111111111,
              "#000012"
             ],
             [
              0.2222222222222222,
              "#000013"
             ],
             [
              0.3333333333333333,
              "#000014"
             ],
             [
              0.4444444444444444,
              "#000015"
             ],
             [
              0.5555555555555556,
              "#000016"
             ],
             [
              0.6666666666666666,
              "#000017"
             ],
             [
              0.7777777777777778,
              "#000018"
             ],
             [
              0.8888888888888888,
              "#000019"
             ],
             [
              1,
              "#000020"
             ]
            ],
            "type": "heatmap"
           }
          ],
          "histogram2d": [
           {
            "colorscale": [
             [
              0,
              "#000011"
             ],
             [
              0.1111111111111111,
              "#000012"
             ],
             [
              0.2222222222222222,
              "#000013"
             ],
             [
              0.3333333333333333,
              "#000014"
             ],
             [
              0.4444444444444444,
              "#000015"
             ],
             [
              0.5555555555555556,
              "#000016"
             ],
             [
              0.6666666666666666,
              "#000017"
             ],
             [
              0.7777777777777778,
              "#000018"
             ],
             [
              0.8888888888888888,
              "#000019"
             ],
             [
              1,
              "#000020"
             ]
            ],
            "type": "histogram2d"
           }
          ],
          "icicle": [
           {
            "textfont": {
             "color": "white"
            },
            "type": "icicle"
           }
          ],
          "sankey": [
           {
            "textfont": {
             "color": "#000036"
            },
            "type": "sankey"
           }
          ],
          "scatter": [
           {
            "marker": {
             "line": {
              "width": 0
             }
            },
            "type": "scatter"
           }
          ],
          "table": [
           {
            "cells": {
             "fill": {
              "color": "#000038"
             },
             "font": {
              "color": "#000037"
             },
             "line": {
              "color": "#000039"
             }
            },
            "header": {
             "fill": {
              "color": "#000040"
             },
             "font": {
              "color": "#000036"
             },
             "line": {
              "color": "#000039"
             }
            },
            "type": "table"
           }
          ],
          "waterfall": [
           {
            "connector": {
             "line": {
              "color": "#000036",
              "width": 2
             }
            },
            "decreasing": {
             "marker": {
              "color": "#000033"
             }
            },
            "increasing": {
             "marker": {
              "color": "#000032"
             }
            },
            "totals": {
             "marker": {
              "color": "#000034"
             }
            },
            "type": "waterfall"
           }
          ]
         },
         "layout": {
          "coloraxis": {
           "colorscale": [
            [
             0,
             "#000011"
            ],
            [
             0.1111111111111111,
             "#000012"
            ],
            [
             0.2222222222222222,
             "#000013"
            ],
            [
             0.3333333333333333,
             "#000014"
            ],
            [
             0.4444444444444444,
             "#000015"
            ],
            [
             0.5555555555555556,
             "#000016"
            ],
            [
             0.6666666666666666,
             "#000017"
            ],
            [
             0.7777777777777778,
             "#000018"
            ],
            [
             0.8888888888888888,
             "#000019"
            ],
            [
             1,
             "#000020"
            ]
           ]
          },
          "colorscale": {
           "diverging": [
            [
             0,
             "#000021"
            ],
            [
             0.1,
             "#000022"
            ],
            [
             0.2,
             "#000023"
            ],
            [
             0.3,
             "#000024"
            ],
            [
             0.4,
             "#000025"
            ],
            [
             0.5,
             "#000026"
            ],
            [
             0.6,
             "#000027"
            ],
            [
             0.7,
             "#000028"
            ],
            [
             0.8,
             "#000029"
            ],
            [
             0.9,
             "#000030"
            ],
            [
             1,
             "#000031"
            ]
           ],
           "sequential": [
            [
             0,
             "#000011"
            ],
            [
             0.1111111111111111,
             "#000012"
            ],
            [
             0.2222222222222222,
             "#000013"
            ],
            [
             0.3333333333333333,
             "#000014"
            ],
            [
             0.4444444444444444,
             "#000015"
            ],
            [
             0.5555555555555556,
             "#000016"
            ],
            [
             0.6666666666666666,
             "#000017"
            ],
            [
             0.7777777777777778,
             "#000018"
            ],
            [
             0.8888888888888888,
             "#000019"
            ],
            [
             1,
             "#000020"
            ]
           ],
           "sequentialminus": [
            [
             0,
             "#000011"
            ],
            [
             0.1111111111111111,
             "#000012"
            ],
            [
             0.2222222222222222,
             "#000013"
            ],
            [
             0.3333333333333333,
             "#000014"
            ],
            [
             0.4444444444444444,
             "#000015"
            ],
            [
             0.5555555555555556,
             "#000016"
            ],
            [
             0.6666666666666666,
             "#000017"
            ],
            [
             0.7777777777777778,
             "#000018"
            ],
            [
             0.8888888888888888,
             "#000019"
            ],
            [
             1,
             "#000020"
            ]
           ]
          },
          "colorway": [
           "#000001",
           "#000002",
           "#000003",
           "#000004",
           "#000005",
           "#000006",
           "#000007",
           "#000008",
           "#000009",
           "#000010"
          ]
         }
        },
        "updatemenus": [
         {
          "buttons": [
           {
            "args": [
             null,
             {
              "frame": {
               "duration": 500,
               "redraw": true
              },
              "fromcurrent": true,
              "mode": "immediate",
              "transition": {
               "duration": 500,
               "easing": "linear"
              }
             }
            ],
            "label": "&#9654;",
            "method": "animate"
           },
           {
            "args": [
             [
              null
             ],
             {
              "frame": {
               "duration": 0,
               "redraw": true
              },
              "fromcurrent": true,
              "mode": "immediate",
              "transition": {
               "duration": 0,
               "easing": "linear"
              }
             }
            ],
            "label": "&#9724;",
            "method": "animate"
           }
          ],
          "direction": "left",
          "pad": {
           "r": 10,
           "t": 70
          },
          "showactive": false,
          "type": "buttons",
          "x": 0.1,
          "xanchor": "right",
          "y": 0,
          "yanchor": "top"
         }
        ],
        "xaxis": {
         "anchor": "y",
         "categoryarray": [
          "error1",
          "error2",
          "error3",
          "error4",
          "error5"
         ],
         "categoryorder": "array",
         "domain": [
          0,
          1
         ],
         "title": {
          "text": "errorcode"
         }
        },
        "yaxis": {
         "anchor": "x",
         "domain": [
          0,
          1
         ],
         "range": [
          0,
          1
         ],
         "title": {
          "text": "on/off"
         }
        }
       }
      }
     },
     "metadata": {},
     "output_type": "display_data"
    }
   ],
   "source": [
    "import plotly.express as px\n",
    "\n",
    "fig = px.bar(melted, x=\"errorcode\", y=\"on/off\", color=\"errorcode\",\n",
    "  animation_frame=\"datetime\", range_y=[0,1])\n",
    "fig.show()"
   ]
  },
  {
   "cell_type": "code",
   "execution_count": 74,
   "metadata": {},
   "outputs": [],
   "source": [
    "\n",
    "telem = COLUMNS[3:7]\n",
    "telem_signal = time_window_signal.iloc[:, np.r_[1, 3:7]]"
   ]
  },
  {
   "cell_type": "code",
   "execution_count": 117,
   "metadata": {},
   "outputs": [],
   "source": [
    "\n",
    "telemetry_columns = [\"Hours Before Failure\", \"Voltage (V)\", \"Rotation (degrees)\", \"Pressure (kPa)\", \"Vibration (No Unit)\"]\n",
    "telem_signal.columns = telemetry_columns\n",
    "melted = pd.melt(telem_signal, id_vars=\"Hours Before Failure\", var_name=\"Measure\", value_name=\"Value\")\n",
    "melted.iloc[:,0] = melted[\"Hours Before Failure\"].dt.round(\"H\").dt.hour"
   ]
  },
  {
   "cell_type": "code",
   "execution_count": 132,
   "metadata": {},
   "outputs": [],
   "source": [
    "import re\n",
    "MARGIN = 10\n",
    "y_min = min(melted.iloc[:, 2]) - MARGIN\n",
    "y_max = max(melted.iloc[:, 2]) + MARGIN\n",
    "axes = [\"yaxis\", \"yaxis2\", \"yaxis3\", \"yaxis4\"]\n",
    "limits = {}\n",
    "for axis, col in zip(axes, telemetry_columns[1:]):\n",
    "    column_df = melted.loc[melted[\"Measure\"] == col]\n",
    "    limits[axis] = [min(column_df.iloc[:, 2]) - MARGIN,\n",
    "                    max(column_df.iloc[:, 2]) + MARGIN]"
   ]
  },
  {
   "cell_type": "code",
   "execution_count": 133,
   "metadata": {},
   "outputs": [
    {
     "data": {
      "text/plain": [
       "{'yaxis': [139.54580418457, 231.082230603882],\n",
       " 'yaxis2': [249.21405178441802, 452.364181015774],\n",
       " 'yaxis3': [78.2759445298425, 127.362052781559],\n",
       " 'yaxis4': [19.574590638522, 67.4967688104268]}"
      ]
     },
     "execution_count": 133,
     "metadata": {},
     "output_type": "execute_result"
    }
   ],
   "source": [
    "limits"
   ]
  },
  {
   "cell_type": "code",
   "execution_count": 138,
   "metadata": {},
   "outputs": [
    {
     "data": {
      "application/vnd.plotly.v1+json": {
       "config": {
        "plotlyServerURL": "https://plot.ly"
       },
       "data": [
        {
         "alignmentgroup": "True",
         "hovertemplate": "Measure=%{x}<br>Hours Before Failure=20<br>Value=%{y}<extra></extra>",
         "ids": [
          "Voltage (V)"
         ],
         "legendgroup": "Voltage (V)",
         "marker": {
          "color": "#636EFA",
          "pattern": {
           "shape": ""
          }
         },
         "name": "Voltage (V)",
         "offsetgroup": "Voltage (V)",
         "orientation": "v",
         "showlegend": true,
         "textposition": "auto",
         "type": "bar",
         "x": [
          "Voltage (V)"
         ],
         "xaxis": "x",
         "y": [
          177.031399898653
         ],
         "yaxis": "y"
        },
        {
         "alignmentgroup": "True",
         "hovertemplate": "Measure=%{x}<br>Hours Before Failure=20<br>Value=%{y}<extra></extra>",
         "ids": [
          "Rotation (degrees)"
         ],
         "legendgroup": "Rotation (degrees)",
         "marker": {
          "color": "#EF553B",
          "pattern": {
           "shape": ""
          }
         },
         "name": "Rotation (degrees)",
         "offsetgroup": "Rotation (degrees)",
         "orientation": "v",
         "showlegend": true,
         "textposition": "auto",
         "type": "bar",
         "x": [
          "Rotation (degrees)"
         ],
         "xaxis": "x2",
         "y": [
          282.243056034647
         ],
         "yaxis": "y2"
        },
        {
         "alignmentgroup": "True",
         "hovertemplate": "Measure=%{x}<br>Hours Before Failure=20<br>Value=%{y}<extra></extra>",
         "ids": [
          "Pressure (kPa)"
         ],
         "legendgroup": "Pressure (kPa)",
         "marker": {
          "color": "#00CC96",
          "pattern": {
           "shape": ""
          }
         },
         "name": "Pressure (kPa)",
         "offsetgroup": "Pressure (kPa)",
         "orientation": "v",
         "showlegend": true,
         "textposition": "auto",
         "type": "bar",
         "x": [
          "Pressure (kPa)"
         ],
         "xaxis": "x3",
         "y": [
          104.643539065445
         ],
         "yaxis": "y3"
        },
        {
         "alignmentgroup": "True",
         "hovertemplate": "Measure=%{x}<br>Hours Before Failure=20<br>Value=%{y}<extra></extra>",
         "ids": [
          "Vibration (No Unit)"
         ],
         "legendgroup": "Vibration (No Unit)",
         "marker": {
          "color": "#AB63FA",
          "pattern": {
           "shape": ""
          }
         },
         "name": "Vibration (No Unit)",
         "offsetgroup": "Vibration (No Unit)",
         "orientation": "v",
         "showlegend": true,
         "textposition": "auto",
         "type": "bar",
         "x": [
          "Vibration (No Unit)"
         ],
         "xaxis": "x4",
         "y": [
          57.4967688104268
         ],
         "yaxis": "y4"
        }
       ],
       "frames": [
        {
         "data": [
          {
           "alignmentgroup": "True",
           "hovertemplate": "Measure=%{x}<br>Hours Before Failure=20<br>Value=%{y}<extra></extra>",
           "ids": [
            "Voltage (V)"
           ],
           "legendgroup": "Voltage (V)",
           "marker": {
            "color": "#636EFA",
            "pattern": {
             "shape": ""
            }
           },
           "name": "Voltage (V)",
           "offsetgroup": "Voltage (V)",
           "orientation": "v",
           "showlegend": true,
           "textposition": "auto",
           "type": "bar",
           "x": [
            "Voltage (V)"
           ],
           "xaxis": "x",
           "y": [
            177.031399898653
           ],
           "yaxis": "y"
          },
          {
           "alignmentgroup": "True",
           "hovertemplate": "Measure=%{x}<br>Hours Before Failure=20<br>Value=%{y}<extra></extra>",
           "ids": [
            "Rotation (degrees)"
           ],
           "legendgroup": "Rotation (degrees)",
           "marker": {
            "color": "#EF553B",
            "pattern": {
             "shape": ""
            }
           },
           "name": "Rotation (degrees)",
           "offsetgroup": "Rotation (degrees)",
           "orientation": "v",
           "showlegend": true,
           "textposition": "auto",
           "type": "bar",
           "x": [
            "Rotation (degrees)"
           ],
           "xaxis": "x2",
           "y": [
            282.243056034647
           ],
           "yaxis": "y2"
          },
          {
           "alignmentgroup": "True",
           "hovertemplate": "Measure=%{x}<br>Hours Before Failure=20<br>Value=%{y}<extra></extra>",
           "ids": [
            "Pressure (kPa)"
           ],
           "legendgroup": "Pressure (kPa)",
           "marker": {
            "color": "#00CC96",
            "pattern": {
             "shape": ""
            }
           },
           "name": "Pressure (kPa)",
           "offsetgroup": "Pressure (kPa)",
           "orientation": "v",
           "showlegend": true,
           "textposition": "auto",
           "type": "bar",
           "x": [
            "Pressure (kPa)"
           ],
           "xaxis": "x3",
           "y": [
            104.643539065445
           ],
           "yaxis": "y3"
          },
          {
           "alignmentgroup": "True",
           "hovertemplate": "Measure=%{x}<br>Hours Before Failure=20<br>Value=%{y}<extra></extra>",
           "ids": [
            "Vibration (No Unit)"
           ],
           "legendgroup": "Vibration (No Unit)",
           "marker": {
            "color": "#AB63FA",
            "pattern": {
             "shape": ""
            }
           },
           "name": "Vibration (No Unit)",
           "offsetgroup": "Vibration (No Unit)",
           "orientation": "v",
           "showlegend": true,
           "textposition": "auto",
           "type": "bar",
           "x": [
            "Vibration (No Unit)"
           ],
           "xaxis": "x4",
           "y": [
            57.4967688104268
           ],
           "yaxis": "y4"
          }
         ],
         "name": "20"
        },
        {
         "data": [
          {
           "alignmentgroup": "True",
           "hovertemplate": "Measure=%{x}<br>Hours Before Failure=21<br>Value=%{y}<extra></extra>",
           "ids": [
            "Voltage (V)"
           ],
           "legendgroup": "Voltage (V)",
           "marker": {
            "color": "#636EFA",
            "pattern": {
             "shape": ""
            }
           },
           "name": "Voltage (V)",
           "offsetgroup": "Voltage (V)",
           "orientation": "v",
           "showlegend": true,
           "textposition": "auto",
           "type": "bar",
           "x": [
            "Voltage (V)"
           ],
           "xaxis": "x",
           "y": [
            179.920212572969
           ],
           "yaxis": "y"
          },
          {
           "alignmentgroup": "True",
           "hovertemplate": "Measure=%{x}<br>Hours Before Failure=21<br>Value=%{y}<extra></extra>",
           "ids": [
            "Rotation (degrees)"
           ],
           "legendgroup": "Rotation (degrees)",
           "marker": {
            "color": "#EF553B",
            "pattern": {
             "shape": ""
            }
           },
           "name": "Rotation (degrees)",
           "offsetgroup": "Rotation (degrees)",
           "orientation": "v",
           "showlegend": true,
           "textposition": "auto",
           "type": "bar",
           "x": [
            "Rotation (degrees)"
           ],
           "xaxis": "x2",
           "y": [
            410.862787673669
           ],
           "yaxis": "y2"
          },
          {
           "alignmentgroup": "True",
           "hovertemplate": "Measure=%{x}<br>Hours Before Failure=21<br>Value=%{y}<extra></extra>",
           "ids": [
            "Pressure (kPa)"
           ],
           "legendgroup": "Pressure (kPa)",
           "marker": {
            "color": "#00CC96",
            "pattern": {
             "shape": ""
            }
           },
           "name": "Pressure (kPa)",
           "offsetgroup": "Pressure (kPa)",
           "orientation": "v",
           "showlegend": true,
           "textposition": "auto",
           "type": "bar",
           "x": [
            "Pressure (kPa)"
           ],
           "xaxis": "x3",
           "y": [
            88.7213989998308
           ],
           "yaxis": "y3"
          },
          {
           "alignmentgroup": "True",
           "hovertemplate": "Measure=%{x}<br>Hours Before Failure=21<br>Value=%{y}<extra></extra>",
           "ids": [
            "Vibration (No Unit)"
           ],
           "legendgroup": "Vibration (No Unit)",
           "marker": {
            "color": "#AB63FA",
            "pattern": {
             "shape": ""
            }
           },
           "name": "Vibration (No Unit)",
           "offsetgroup": "Vibration (No Unit)",
           "orientation": "v",
           "showlegend": true,
           "textposition": "auto",
           "type": "bar",
           "x": [
            "Vibration (No Unit)"
           ],
           "xaxis": "x4",
           "y": [
            35.9263948494315
           ],
           "yaxis": "y4"
          }
         ],
         "name": "21"
        },
        {
         "data": [
          {
           "alignmentgroup": "True",
           "hovertemplate": "Measure=%{x}<br>Hours Before Failure=22<br>Value=%{y}<extra></extra>",
           "ids": [
            "Voltage (V)"
           ],
           "legendgroup": "Voltage (V)",
           "marker": {
            "color": "#636EFA",
            "pattern": {
             "shape": ""
            }
           },
           "name": "Voltage (V)",
           "offsetgroup": "Voltage (V)",
           "orientation": "v",
           "showlegend": true,
           "textposition": "auto",
           "type": "bar",
           "x": [
            "Voltage (V)"
           ],
           "xaxis": "x",
           "y": [
            168.062393105192
           ],
           "yaxis": "y"
          },
          {
           "alignmentgroup": "True",
           "hovertemplate": "Measure=%{x}<br>Hours Before Failure=22<br>Value=%{y}<extra></extra>",
           "ids": [
            "Rotation (degrees)"
           ],
           "legendgroup": "Rotation (degrees)",
           "marker": {
            "color": "#EF553B",
            "pattern": {
             "shape": ""
            }
           },
           "name": "Rotation (degrees)",
           "offsetgroup": "Rotation (degrees)",
           "orientation": "v",
           "showlegend": true,
           "textposition": "auto",
           "type": "bar",
           "x": [
            "Rotation (degrees)"
           ],
           "xaxis": "x2",
           "y": [
            324.643643777775
           ],
           "yaxis": "y2"
          },
          {
           "alignmentgroup": "True",
           "hovertemplate": "Measure=%{x}<br>Hours Before Failure=22<br>Value=%{y}<extra></extra>",
           "ids": [
            "Pressure (kPa)"
           ],
           "legendgroup": "Pressure (kPa)",
           "marker": {
            "color": "#00CC96",
            "pattern": {
             "shape": ""
            }
           },
           "name": "Pressure (kPa)",
           "offsetgroup": "Pressure (kPa)",
           "orientation": "v",
           "showlegend": true,
           "textposition": "auto",
           "type": "bar",
           "x": [
            "Pressure (kPa)"
           ],
           "xaxis": "x3",
           "y": [
            94.6999966572415
           ],
           "yaxis": "y3"
          },
          {
           "alignmentgroup": "True",
           "hovertemplate": "Measure=%{x}<br>Hours Before Failure=22<br>Value=%{y}<extra></extra>",
           "ids": [
            "Vibration (No Unit)"
           ],
           "legendgroup": "Vibration (No Unit)",
           "marker": {
            "color": "#AB63FA",
            "pattern": {
             "shape": ""
            }
           },
           "name": "Vibration (No Unit)",
           "offsetgroup": "Vibration (No Unit)",
           "orientation": "v",
           "showlegend": true,
           "textposition": "auto",
           "type": "bar",
           "x": [
            "Vibration (No Unit)"
           ],
           "xaxis": "x4",
           "y": [
            40.7592970563245
           ],
           "yaxis": "y4"
          }
         ],
         "name": "22"
        },
        {
         "data": [
          {
           "alignmentgroup": "True",
           "hovertemplate": "Measure=%{x}<br>Hours Before Failure=23<br>Value=%{y}<extra></extra>",
           "ids": [
            "Voltage (V)"
           ],
           "legendgroup": "Voltage (V)",
           "marker": {
            "color": "#636EFA",
            "pattern": {
             "shape": ""
            }
           },
           "name": "Voltage (V)",
           "offsetgroup": "Voltage (V)",
           "orientation": "v",
           "showlegend": true,
           "textposition": "auto",
           "type": "bar",
           "x": [
            "Voltage (V)"
           ],
           "xaxis": "x",
           "y": [
            221.082230603882
           ],
           "yaxis": "y"
          },
          {
           "alignmentgroup": "True",
           "hovertemplate": "Measure=%{x}<br>Hours Before Failure=23<br>Value=%{y}<extra></extra>",
           "ids": [
            "Rotation (degrees)"
           ],
           "legendgroup": "Rotation (degrees)",
           "marker": {
            "color": "#EF553B",
            "pattern": {
             "shape": ""
            }
           },
           "name": "Rotation (degrees)",
           "offsetgroup": "Rotation (degrees)",
           "orientation": "v",
           "showlegend": true,
           "textposition": "auto",
           "type": "bar",
           "x": [
            "Rotation (degrees)"
           ],
           "xaxis": "x2",
           "y": [
            433.173051129756
           ],
           "yaxis": "y2"
          },
          {
           "alignmentgroup": "True",
           "hovertemplate": "Measure=%{x}<br>Hours Before Failure=23<br>Value=%{y}<extra></extra>",
           "ids": [
            "Pressure (kPa)"
           ],
           "legendgroup": "Pressure (kPa)",
           "marker": {
            "color": "#00CC96",
            "pattern": {
             "shape": ""
            }
           },
           "name": "Pressure (kPa)",
           "offsetgroup": "Pressure (kPa)",
           "orientation": "v",
           "showlegend": true,
           "textposition": "auto",
           "type": "bar",
           "x": [
            "Pressure (kPa)"
           ],
           "xaxis": "x3",
           "y": [
            95.9714699619835
           ],
           "yaxis": "y3"
          },
          {
           "alignmentgroup": "True",
           "hovertemplate": "Measure=%{x}<br>Hours Before Failure=23<br>Value=%{y}<extra></extra>",
           "ids": [
            "Vibration (No Unit)"
           ],
           "legendgroup": "Vibration (No Unit)",
           "marker": {
            "color": "#AB63FA",
            "pattern": {
             "shape": ""
            }
           },
           "name": "Vibration (No Unit)",
           "offsetgroup": "Vibration (No Unit)",
           "orientation": "v",
           "showlegend": true,
           "textposition": "auto",
           "type": "bar",
           "x": [
            "Vibration (No Unit)"
           ],
           "xaxis": "x4",
           "y": [
            46.9692742351959
           ],
           "yaxis": "y4"
          }
         ],
         "name": "23"
        },
        {
         "data": [
          {
           "alignmentgroup": "True",
           "hovertemplate": "Measure=%{x}<br>Hours Before Failure=0<br>Value=%{y}<extra></extra>",
           "ids": [
            "Voltage (V)"
           ],
           "legendgroup": "Voltage (V)",
           "marker": {
            "color": "#636EFA",
            "pattern": {
             "shape": ""
            }
           },
           "name": "Voltage (V)",
           "offsetgroup": "Voltage (V)",
           "orientation": "v",
           "showlegend": true,
           "textposition": "auto",
           "type": "bar",
           "x": [
            "Voltage (V)"
           ],
           "xaxis": "x",
           "y": [
            173.102234171519
           ],
           "yaxis": "y"
          },
          {
           "alignmentgroup": "True",
           "hovertemplate": "Measure=%{x}<br>Hours Before Failure=0<br>Value=%{y}<extra></extra>",
           "ids": [
            "Rotation (degrees)"
           ],
           "legendgroup": "Rotation (degrees)",
           "marker": {
            "color": "#EF553B",
            "pattern": {
             "shape": ""
            }
           },
           "name": "Rotation (degrees)",
           "offsetgroup": "Rotation (degrees)",
           "orientation": "v",
           "showlegend": true,
           "textposition": "auto",
           "type": "bar",
           "x": [
            "Rotation (degrees)"
           ],
           "xaxis": "x2",
           "y": [
            393.058438958542
           ],
           "yaxis": "y2"
          },
          {
           "alignmentgroup": "True",
           "hovertemplate": "Measure=%{x}<br>Hours Before Failure=0<br>Value=%{y}<extra></extra>",
           "ids": [
            "Pressure (kPa)"
           ],
           "legendgroup": "Pressure (kPa)",
           "marker": {
            "color": "#00CC96",
            "pattern": {
             "shape": ""
            }
           },
           "name": "Pressure (kPa)",
           "offsetgroup": "Pressure (kPa)",
           "orientation": "v",
           "showlegend": true,
           "textposition": "auto",
           "type": "bar",
           "x": [
            "Pressure (kPa)"
           ],
           "xaxis": "x3",
           "y": [
            117.307843946405
           ],
           "yaxis": "y3"
          },
          {
           "alignmentgroup": "True",
           "hovertemplate": "Measure=%{x}<br>Hours Before Failure=0<br>Value=%{y}<extra></extra>",
           "ids": [
            "Vibration (No Unit)"
           ],
           "legendgroup": "Vibration (No Unit)",
           "marker": {
            "color": "#AB63FA",
            "pattern": {
             "shape": ""
            }
           },
           "name": "Vibration (No Unit)",
           "offsetgroup": "Vibration (No Unit)",
           "orientation": "v",
           "showlegend": true,
           "textposition": "auto",
           "type": "bar",
           "x": [
            "Vibration (No Unit)"
           ],
           "xaxis": "x4",
           "y": [
            29.574590638522
           ],
           "yaxis": "y4"
          }
         ],
         "name": "0"
        },
        {
         "data": [
          {
           "alignmentgroup": "True",
           "hovertemplate": "Measure=%{x}<br>Hours Before Failure=1<br>Value=%{y}<extra></extra>",
           "ids": [
            "Voltage (V)"
           ],
           "legendgroup": "Voltage (V)",
           "marker": {
            "color": "#636EFA",
            "pattern": {
             "shape": ""
            }
           },
           "name": "Voltage (V)",
           "offsetgroup": "Voltage (V)",
           "orientation": "v",
           "showlegend": true,
           "textposition": "auto",
           "type": "bar",
           "x": [
            "Voltage (V)"
           ],
           "xaxis": "x",
           "y": [
            149.54580418457
           ],
           "yaxis": "y"
          },
          {
           "alignmentgroup": "True",
           "hovertemplate": "Measure=%{x}<br>Hours Before Failure=1<br>Value=%{y}<extra></extra>",
           "ids": [
            "Rotation (degrees)"
           ],
           "legendgroup": "Rotation (degrees)",
           "marker": {
            "color": "#EF553B",
            "pattern": {
             "shape": ""
            }
           },
           "name": "Rotation (degrees)",
           "offsetgroup": "Rotation (degrees)",
           "orientation": "v",
           "showlegend": true,
           "textposition": "auto",
           "type": "bar",
           "x": [
            "Rotation (degrees)"
           ],
           "xaxis": "x2",
           "y": [
            309.416777399078
           ],
           "yaxis": "y2"
          },
          {
           "alignmentgroup": "True",
           "hovertemplate": "Measure=%{x}<br>Hours Before Failure=1<br>Value=%{y}<extra></extra>",
           "ids": [
            "Pressure (kPa)"
           ],
           "legendgroup": "Pressure (kPa)",
           "marker": {
            "color": "#00CC96",
            "pattern": {
             "shape": ""
            }
           },
           "name": "Pressure (kPa)",
           "offsetgroup": "Pressure (kPa)",
           "orientation": "v",
           "showlegend": true,
           "textposition": "auto",
           "type": "bar",
           "x": [
            "Pressure (kPa)"
           ],
           "xaxis": "x3",
           "y": [
            88.4367261993551
           ],
           "yaxis": "y3"
          },
          {
           "alignmentgroup": "True",
           "hovertemplate": "Measure=%{x}<br>Hours Before Failure=1<br>Value=%{y}<extra></extra>",
           "ids": [
            "Vibration (No Unit)"
           ],
           "legendgroup": "Vibration (No Unit)",
           "marker": {
            "color": "#AB63FA",
            "pattern": {
             "shape": ""
            }
           },
           "name": "Vibration (No Unit)",
           "offsetgroup": "Vibration (No Unit)",
           "orientation": "v",
           "showlegend": true,
           "textposition": "auto",
           "type": "bar",
           "x": [
            "Vibration (No Unit)"
           ],
           "xaxis": "x4",
           "y": [
            41.3648004519045
           ],
           "yaxis": "y4"
          }
         ],
         "name": "1"
        },
        {
         "data": [
          {
           "alignmentgroup": "True",
           "hovertemplate": "Measure=%{x}<br>Hours Before Failure=2<br>Value=%{y}<extra></extra>",
           "ids": [
            "Voltage (V)"
           ],
           "legendgroup": "Voltage (V)",
           "marker": {
            "color": "#636EFA",
            "pattern": {
             "shape": ""
            }
           },
           "name": "Voltage (V)",
           "offsetgroup": "Voltage (V)",
           "orientation": "v",
           "showlegend": true,
           "textposition": "auto",
           "type": "bar",
           "x": [
            "Voltage (V)"
           ],
           "xaxis": "x",
           "y": [
            159.179896569578
           ],
           "yaxis": "y"
          },
          {
           "alignmentgroup": "True",
           "hovertemplate": "Measure=%{x}<br>Hours Before Failure=2<br>Value=%{y}<extra></extra>",
           "ids": [
            "Rotation (degrees)"
           ],
           "legendgroup": "Rotation (degrees)",
           "marker": {
            "color": "#EF553B",
            "pattern": {
             "shape": ""
            }
           },
           "name": "Rotation (degrees)",
           "offsetgroup": "Rotation (degrees)",
           "orientation": "v",
           "showlegend": true,
           "textposition": "auto",
           "type": "bar",
           "x": [
            "Rotation (degrees)"
           ],
           "xaxis": "x2",
           "y": [
            359.049111498828
           ],
           "yaxis": "y2"
          },
          {
           "alignmentgroup": "True",
           "hovertemplate": "Measure=%{x}<br>Hours Before Failure=2<br>Value=%{y}<extra></extra>",
           "ids": [
            "Pressure (kPa)"
           ],
           "legendgroup": "Pressure (kPa)",
           "marker": {
            "color": "#00CC96",
            "pattern": {
             "shape": ""
            }
           },
           "name": "Pressure (kPa)",
           "offsetgroup": "Pressure (kPa)",
           "orientation": "v",
           "showlegend": true,
           "textposition": "auto",
           "type": "bar",
           "x": [
            "Pressure (kPa)"
           ],
           "xaxis": "x3",
           "y": [
            88.2759445298425
           ],
           "yaxis": "y3"
          },
          {
           "alignmentgroup": "True",
           "hovertemplate": "Measure=%{x}<br>Hours Before Failure=2<br>Value=%{y}<extra></extra>",
           "ids": [
            "Vibration (No Unit)"
           ],
           "legendgroup": "Vibration (No Unit)",
           "marker": {
            "color": "#AB63FA",
            "pattern": {
             "shape": ""
            }
           },
           "name": "Vibration (No Unit)",
           "offsetgroup": "Vibration (No Unit)",
           "orientation": "v",
           "showlegend": true,
           "textposition": "auto",
           "type": "bar",
           "x": [
            "Vibration (No Unit)"
           ],
           "xaxis": "x4",
           "y": [
            36.0090264946858
           ],
           "yaxis": "y4"
          }
         ],
         "name": "2"
        },
        {
         "data": [
          {
           "alignmentgroup": "True",
           "hovertemplate": "Measure=%{x}<br>Hours Before Failure=3<br>Value=%{y}<extra></extra>",
           "ids": [
            "Voltage (V)"
           ],
           "legendgroup": "Voltage (V)",
           "marker": {
            "color": "#636EFA",
            "pattern": {
             "shape": ""
            }
           },
           "name": "Voltage (V)",
           "offsetgroup": "Voltage (V)",
           "orientation": "v",
           "showlegend": true,
           "textposition": "auto",
           "type": "bar",
           "x": [
            "Voltage (V)"
           ],
           "xaxis": "x",
           "y": [
            155.363262913141
           ],
           "yaxis": "y"
          },
          {
           "alignmentgroup": "True",
           "hovertemplate": "Measure=%{x}<br>Hours Before Failure=3<br>Value=%{y}<extra></extra>",
           "ids": [
            "Rotation (degrees)"
           ],
           "legendgroup": "Rotation (degrees)",
           "marker": {
            "color": "#EF553B",
            "pattern": {
             "shape": ""
            }
           },
           "name": "Rotation (degrees)",
           "offsetgroup": "Rotation (degrees)",
           "orientation": "v",
           "showlegend": true,
           "textposition": "auto",
           "type": "bar",
           "x": [
            "Rotation (degrees)"
           ],
           "xaxis": "x2",
           "y": [
            259.214051784418
           ],
           "yaxis": "y2"
          },
          {
           "alignmentgroup": "True",
           "hovertemplate": "Measure=%{x}<br>Hours Before Failure=3<br>Value=%{y}<extra></extra>",
           "ids": [
            "Pressure (kPa)"
           ],
           "legendgroup": "Pressure (kPa)",
           "marker": {
            "color": "#00CC96",
            "pattern": {
             "shape": ""
            }
           },
           "name": "Pressure (kPa)",
           "offsetgroup": "Pressure (kPa)",
           "orientation": "v",
           "showlegend": true,
           "textposition": "auto",
           "type": "bar",
           "x": [
            "Pressure (kPa)"
           ],
           "xaxis": "x3",
           "y": [
            117.362052781559
           ],
           "yaxis": "y3"
          },
          {
           "alignmentgroup": "True",
           "hovertemplate": "Measure=%{x}<br>Hours Before Failure=3<br>Value=%{y}<extra></extra>",
           "ids": [
            "Vibration (No Unit)"
           ],
           "legendgroup": "Vibration (No Unit)",
           "marker": {
            "color": "#AB63FA",
            "pattern": {
             "shape": ""
            }
           },
           "name": "Vibration (No Unit)",
           "offsetgroup": "Vibration (No Unit)",
           "orientation": "v",
           "showlegend": true,
           "textposition": "auto",
           "type": "bar",
           "x": [
            "Vibration (No Unit)"
           ],
           "xaxis": "x4",
           "y": [
            42.0010490026113
           ],
           "yaxis": "y4"
          }
         ],
         "name": "3"
        },
        {
         "data": [
          {
           "alignmentgroup": "True",
           "hovertemplate": "Measure=%{x}<br>Hours Before Failure=4<br>Value=%{y}<extra></extra>",
           "ids": [
            "Voltage (V)"
           ],
           "legendgroup": "Voltage (V)",
           "marker": {
            "color": "#636EFA",
            "pattern": {
             "shape": ""
            }
           },
           "name": "Voltage (V)",
           "offsetgroup": "Voltage (V)",
           "orientation": "v",
           "showlegend": true,
           "textposition": "auto",
           "type": "bar",
           "x": [
            "Voltage (V)"
           ],
           "xaxis": "x",
           "y": [
            157.553056680015
           ],
           "yaxis": "y"
          },
          {
           "alignmentgroup": "True",
           "hovertemplate": "Measure=%{x}<br>Hours Before Failure=4<br>Value=%{y}<extra></extra>",
           "ids": [
            "Rotation (degrees)"
           ],
           "legendgroup": "Rotation (degrees)",
           "marker": {
            "color": "#EF553B",
            "pattern": {
             "shape": ""
            }
           },
           "name": "Rotation (degrees)",
           "offsetgroup": "Rotation (degrees)",
           "orientation": "v",
           "showlegend": true,
           "textposition": "auto",
           "type": "bar",
           "x": [
            "Rotation (degrees)"
           ],
           "xaxis": "x2",
           "y": [
            332.865060534561
           ],
           "yaxis": "y2"
          },
          {
           "alignmentgroup": "True",
           "hovertemplate": "Measure=%{x}<br>Hours Before Failure=4<br>Value=%{y}<extra></extra>",
           "ids": [
            "Pressure (kPa)"
           ],
           "legendgroup": "Pressure (kPa)",
           "marker": {
            "color": "#00CC96",
            "pattern": {
             "shape": ""
            }
           },
           "name": "Pressure (kPa)",
           "offsetgroup": "Pressure (kPa)",
           "orientation": "v",
           "showlegend": true,
           "textposition": "auto",
           "type": "bar",
           "x": [
            "Pressure (kPa)"
           ],
           "xaxis": "x3",
           "y": [
            106.725805756385
           ],
           "yaxis": "y3"
          },
          {
           "alignmentgroup": "True",
           "hovertemplate": "Measure=%{x}<br>Hours Before Failure=4<br>Value=%{y}<extra></extra>",
           "ids": [
            "Vibration (No Unit)"
           ],
           "legendgroup": "Vibration (No Unit)",
           "marker": {
            "color": "#AB63FA",
            "pattern": {
             "shape": ""
            }
           },
           "name": "Vibration (No Unit)",
           "offsetgroup": "Vibration (No Unit)",
           "orientation": "v",
           "showlegend": true,
           "textposition": "auto",
           "type": "bar",
           "x": [
            "Vibration (No Unit)"
           ],
           "xaxis": "x4",
           "y": [
            40.0923027777403
           ],
           "yaxis": "y4"
          }
         ],
         "name": "4"
        },
        {
         "data": [
          {
           "alignmentgroup": "True",
           "hovertemplate": "Measure=%{x}<br>Hours Before Failure=5<br>Value=%{y}<extra></extra>",
           "ids": [
            "Voltage (V)"
           ],
           "legendgroup": "Voltage (V)",
           "marker": {
            "color": "#636EFA",
            "pattern": {
             "shape": ""
            }
           },
           "name": "Voltage (V)",
           "offsetgroup": "Voltage (V)",
           "orientation": "v",
           "showlegend": true,
           "textposition": "auto",
           "type": "bar",
           "x": [
            "Voltage (V)"
           ],
           "xaxis": "x",
           "y": [
            157.750222128505
           ],
           "yaxis": "y"
          },
          {
           "alignmentgroup": "True",
           "hovertemplate": "Measure=%{x}<br>Hours Before Failure=5<br>Value=%{y}<extra></extra>",
           "ids": [
            "Rotation (degrees)"
           ],
           "legendgroup": "Rotation (degrees)",
           "marker": {
            "color": "#EF553B",
            "pattern": {
             "shape": ""
            }
           },
           "name": "Rotation (degrees)",
           "offsetgroup": "Rotation (degrees)",
           "orientation": "v",
           "showlegend": true,
           "textposition": "auto",
           "type": "bar",
           "x": [
            "Rotation (degrees)"
           ],
           "xaxis": "x2",
           "y": [
            420.986999470783
           ],
           "yaxis": "y2"
          },
          {
           "alignmentgroup": "True",
           "hovertemplate": "Measure=%{x}<br>Hours Before Failure=5<br>Value=%{y}<extra></extra>",
           "ids": [
            "Pressure (kPa)"
           ],
           "legendgroup": "Pressure (kPa)",
           "marker": {
            "color": "#00CC96",
            "pattern": {
             "shape": ""
            }
           },
           "name": "Pressure (kPa)",
           "offsetgroup": "Pressure (kPa)",
           "orientation": "v",
           "showlegend": true,
           "textposition": "auto",
           "type": "bar",
           "x": [
            "Pressure (kPa)"
           ],
           "xaxis": "x3",
           "y": [
            96.4542303527965
           ],
           "yaxis": "y3"
          },
          {
           "alignmentgroup": "True",
           "hovertemplate": "Measure=%{x}<br>Hours Before Failure=5<br>Value=%{y}<extra></extra>",
           "ids": [
            "Vibration (No Unit)"
           ],
           "legendgroup": "Vibration (No Unit)",
           "marker": {
            "color": "#AB63FA",
            "pattern": {
             "shape": ""
            }
           },
           "name": "Vibration (No Unit)",
           "offsetgroup": "Vibration (No Unit)",
           "orientation": "v",
           "showlegend": true,
           "textposition": "auto",
           "type": "bar",
           "x": [
            "Vibration (No Unit)"
           ],
           "xaxis": "x4",
           "y": [
            50.5450663542507
           ],
           "yaxis": "y4"
          }
         ],
         "name": "5"
        },
        {
         "data": [
          {
           "alignmentgroup": "True",
           "hovertemplate": "Measure=%{x}<br>Hours Before Failure=6<br>Value=%{y}<extra></extra>",
           "ids": [
            "Voltage (V)"
           ],
           "legendgroup": "Voltage (V)",
           "marker": {
            "color": "#636EFA",
            "pattern": {
             "shape": ""
            }
           },
           "name": "Voltage (V)",
           "offsetgroup": "Voltage (V)",
           "orientation": "v",
           "showlegend": true,
           "textposition": "auto",
           "type": "bar",
           "x": [
            "Voltage (V)"
           ],
           "xaxis": "x",
           "y": [
            189.7388468288
           ],
           "yaxis": "y"
          },
          {
           "alignmentgroup": "True",
           "hovertemplate": "Measure=%{x}<br>Hours Before Failure=6<br>Value=%{y}<extra></extra>",
           "ids": [
            "Rotation (degrees)"
           ],
           "legendgroup": "Rotation (degrees)",
           "marker": {
            "color": "#EF553B",
            "pattern": {
             "shape": ""
            }
           },
           "name": "Rotation (degrees)",
           "offsetgroup": "Rotation (degrees)",
           "orientation": "v",
           "showlegend": true,
           "textposition": "auto",
           "type": "bar",
           "x": [
            "Rotation (degrees)"
           ],
           "xaxis": "x2",
           "y": [
            308.484610514503
           ],
           "yaxis": "y2"
          },
          {
           "alignmentgroup": "True",
           "hovertemplate": "Measure=%{x}<br>Hours Before Failure=6<br>Value=%{y}<extra></extra>",
           "ids": [
            "Pressure (kPa)"
           ],
           "legendgroup": "Pressure (kPa)",
           "marker": {
            "color": "#00CC96",
            "pattern": {
             "shape": ""
            }
           },
           "name": "Pressure (kPa)",
           "offsetgroup": "Pressure (kPa)",
           "orientation": "v",
           "showlegend": true,
           "textposition": "auto",
           "type": "bar",
           "x": [
            "Pressure (kPa)"
           ],
           "xaxis": "x3",
           "y": [
            99.2014692635845
           ],
           "yaxis": "y3"
          },
          {
           "alignmentgroup": "True",
           "hovertemplate": "Measure=%{x}<br>Hours Before Failure=6<br>Value=%{y}<extra></extra>",
           "ids": [
            "Vibration (No Unit)"
           ],
           "legendgroup": "Vibration (No Unit)",
           "marker": {
            "color": "#AB63FA",
            "pattern": {
             "shape": ""
            }
           },
           "name": "Vibration (No Unit)",
           "offsetgroup": "Vibration (No Unit)",
           "orientation": "v",
           "showlegend": true,
           "textposition": "auto",
           "type": "bar",
           "x": [
            "Vibration (No Unit)"
           ],
           "xaxis": "x4",
           "y": [
            36.8624508058482
           ],
           "yaxis": "y4"
          }
         ],
         "name": "6"
        },
        {
         "data": [
          {
           "alignmentgroup": "True",
           "hovertemplate": "Measure=%{x}<br>Hours Before Failure=7<br>Value=%{y}<extra></extra>",
           "ids": [
            "Voltage (V)"
           ],
           "legendgroup": "Voltage (V)",
           "marker": {
            "color": "#636EFA",
            "pattern": {
             "shape": ""
            }
           },
           "name": "Voltage (V)",
           "offsetgroup": "Voltage (V)",
           "orientation": "v",
           "showlegend": true,
           "textposition": "auto",
           "type": "bar",
           "x": [
            "Voltage (V)"
           ],
           "xaxis": "x",
           "y": [
            185.530838085903
           ],
           "yaxis": "y"
          },
          {
           "alignmentgroup": "True",
           "hovertemplate": "Measure=%{x}<br>Hours Before Failure=7<br>Value=%{y}<extra></extra>",
           "ids": [
            "Rotation (degrees)"
           ],
           "legendgroup": "Rotation (degrees)",
           "marker": {
            "color": "#EF553B",
            "pattern": {
             "shape": ""
            }
           },
           "name": "Rotation (degrees)",
           "offsetgroup": "Rotation (degrees)",
           "orientation": "v",
           "showlegend": true,
           "textposition": "auto",
           "type": "bar",
           "x": [
            "Rotation (degrees)"
           ],
           "xaxis": "x2",
           "y": [
            427.090123816738
           ],
           "yaxis": "y2"
          },
          {
           "alignmentgroup": "True",
           "hovertemplate": "Measure=%{x}<br>Hours Before Failure=7<br>Value=%{y}<extra></extra>",
           "ids": [
            "Pressure (kPa)"
           ],
           "legendgroup": "Pressure (kPa)",
           "marker": {
            "color": "#00CC96",
            "pattern": {
             "shape": ""
            }
           },
           "name": "Pressure (kPa)",
           "offsetgroup": "Pressure (kPa)",
           "orientation": "v",
           "showlegend": true,
           "textposition": "auto",
           "type": "bar",
           "x": [
            "Pressure (kPa)"
           ],
           "xaxis": "x3",
           "y": [
            98.2186060484402
           ],
           "yaxis": "y3"
          },
          {
           "alignmentgroup": "True",
           "hovertemplate": "Measure=%{x}<br>Hours Before Failure=7<br>Value=%{y}<extra></extra>",
           "ids": [
            "Vibration (No Unit)"
           ],
           "legendgroup": "Vibration (No Unit)",
           "marker": {
            "color": "#AB63FA",
            "pattern": {
             "shape": ""
            }
           },
           "name": "Vibration (No Unit)",
           "offsetgroup": "Vibration (No Unit)",
           "orientation": "v",
           "showlegend": true,
           "textposition": "auto",
           "type": "bar",
           "x": [
            "Vibration (No Unit)"
           ],
           "xaxis": "x4",
           "y": [
            38.6101202456069
           ],
           "yaxis": "y4"
          }
         ],
         "name": "7"
        },
        {
         "data": [
          {
           "alignmentgroup": "True",
           "hovertemplate": "Measure=%{x}<br>Hours Before Failure=8<br>Value=%{y}<extra></extra>",
           "ids": [
            "Voltage (V)"
           ],
           "legendgroup": "Voltage (V)",
           "marker": {
            "color": "#636EFA",
            "pattern": {
             "shape": ""
            }
           },
           "name": "Voltage (V)",
           "offsetgroup": "Voltage (V)",
           "orientation": "v",
           "showlegend": true,
           "textposition": "auto",
           "type": "bar",
           "x": [
            "Voltage (V)"
           ],
           "xaxis": "x",
           "y": [
            180.921216622226
           ],
           "yaxis": "y"
          },
          {
           "alignmentgroup": "True",
           "hovertemplate": "Measure=%{x}<br>Hours Before Failure=8<br>Value=%{y}<extra></extra>",
           "ids": [
            "Rotation (degrees)"
           ],
           "legendgroup": "Rotation (degrees)",
           "marker": {
            "color": "#EF553B",
            "pattern": {
             "shape": ""
            }
           },
           "name": "Rotation (degrees)",
           "offsetgroup": "Rotation (degrees)",
           "orientation": "v",
           "showlegend": true,
           "textposition": "auto",
           "type": "bar",
           "x": [
            "Rotation (degrees)"
           ],
           "xaxis": "x2",
           "y": [
            442.364181015774
           ],
           "yaxis": "y2"
          },
          {
           "alignmentgroup": "True",
           "hovertemplate": "Measure=%{x}<br>Hours Before Failure=8<br>Value=%{y}<extra></extra>",
           "ids": [
            "Pressure (kPa)"
           ],
           "legendgroup": "Pressure (kPa)",
           "marker": {
            "color": "#00CC96",
            "pattern": {
             "shape": ""
            }
           },
           "name": "Pressure (kPa)",
           "offsetgroup": "Pressure (kPa)",
           "orientation": "v",
           "showlegend": true,
           "textposition": "auto",
           "type": "bar",
           "x": [
            "Pressure (kPa)"
           ],
           "xaxis": "x3",
           "y": [
            97.4922237035294
           ],
           "yaxis": "y3"
          },
          {
           "alignmentgroup": "True",
           "hovertemplate": "Measure=%{x}<br>Hours Before Failure=8<br>Value=%{y}<extra></extra>",
           "ids": [
            "Vibration (No Unit)"
           ],
           "legendgroup": "Vibration (No Unit)",
           "marker": {
            "color": "#AB63FA",
            "pattern": {
             "shape": ""
            }
           },
           "name": "Vibration (No Unit)",
           "offsetgroup": "Vibration (No Unit)",
           "orientation": "v",
           "showlegend": true,
           "textposition": "auto",
           "type": "bar",
           "x": [
            "Vibration (No Unit)"
           ],
           "xaxis": "x4",
           "y": [
            38.0219868851789
           ],
           "yaxis": "y4"
          }
         ],
         "name": "8"
        }
       ],
       "layout": {
        "annotations": [
         {
          "font": {},
          "showarrow": false,
          "text": "",
          "x": 0.1175,
          "xanchor": "center",
          "xref": "paper",
          "y": 1,
          "yanchor": "bottom",
          "yref": "paper"
         },
         {
          "font": {},
          "showarrow": false,
          "text": "",
          "x": 0.3725,
          "xanchor": "center",
          "xref": "paper",
          "y": 1,
          "yanchor": "bottom",
          "yref": "paper"
         },
         {
          "font": {},
          "showarrow": false,
          "text": "",
          "x": 0.6275,
          "xanchor": "center",
          "xref": "paper",
          "y": 1,
          "yanchor": "bottom",
          "yref": "paper"
         },
         {
          "font": {},
          "showarrow": false,
          "text": "",
          "x": 0.8824999999999998,
          "xanchor": "center",
          "xref": "paper",
          "y": 1,
          "yanchor": "bottom",
          "yref": "paper"
         }
        ],
        "barmode": "relative",
        "legend": {
         "title": {
          "text": "Measure"
         },
         "tracegroupgap": 0
        },
        "sliders": [
         {
          "active": 0,
          "currentvalue": {
           "prefix": "Hours Before Failure="
          },
          "len": 0.9,
          "pad": {
           "b": 10,
           "t": 60
          },
          "steps": [
           {
            "args": [
             [
              "20"
             ],
             {
              "frame": {
               "duration": 0,
               "redraw": true
              },
              "fromcurrent": true,
              "mode": "immediate",
              "transition": {
               "duration": 0,
               "easing": "linear"
              }
             }
            ],
            "label": "20",
            "method": "animate"
           },
           {
            "args": [
             [
              "21"
             ],
             {
              "frame": {
               "duration": 0,
               "redraw": true
              },
              "fromcurrent": true,
              "mode": "immediate",
              "transition": {
               "duration": 0,
               "easing": "linear"
              }
             }
            ],
            "label": "21",
            "method": "animate"
           },
           {
            "args": [
             [
              "22"
             ],
             {
              "frame": {
               "duration": 0,
               "redraw": true
              },
              "fromcurrent": true,
              "mode": "immediate",
              "transition": {
               "duration": 0,
               "easing": "linear"
              }
             }
            ],
            "label": "22",
            "method": "animate"
           },
           {
            "args": [
             [
              "23"
             ],
             {
              "frame": {
               "duration": 0,
               "redraw": true
              },
              "fromcurrent": true,
              "mode": "immediate",
              "transition": {
               "duration": 0,
               "easing": "linear"
              }
             }
            ],
            "label": "23",
            "method": "animate"
           },
           {
            "args": [
             [
              "0"
             ],
             {
              "frame": {
               "duration": 0,
               "redraw": true
              },
              "fromcurrent": true,
              "mode": "immediate",
              "transition": {
               "duration": 0,
               "easing": "linear"
              }
             }
            ],
            "label": "0",
            "method": "animate"
           },
           {
            "args": [
             [
              "1"
             ],
             {
              "frame": {
               "duration": 0,
               "redraw": true
              },
              "fromcurrent": true,
              "mode": "immediate",
              "transition": {
               "duration": 0,
               "easing": "linear"
              }
             }
            ],
            "label": "1",
            "method": "animate"
           },
           {
            "args": [
             [
              "2"
             ],
             {
              "frame": {
               "duration": 0,
               "redraw": true
              },
              "fromcurrent": true,
              "mode": "immediate",
              "transition": {
               "duration": 0,
               "easing": "linear"
              }
             }
            ],
            "label": "2",
            "method": "animate"
           },
           {
            "args": [
             [
              "3"
             ],
             {
              "frame": {
               "duration": 0,
               "redraw": true
              },
              "fromcurrent": true,
              "mode": "immediate",
              "transition": {
               "duration": 0,
               "easing": "linear"
              }
             }
            ],
            "label": "3",
            "method": "animate"
           },
           {
            "args": [
             [
              "4"
             ],
             {
              "frame": {
               "duration": 0,
               "redraw": true
              },
              "fromcurrent": true,
              "mode": "immediate",
              "transition": {
               "duration": 0,
               "easing": "linear"
              }
             }
            ],
            "label": "4",
            "method": "animate"
           },
           {
            "args": [
             [
              "5"
             ],
             {
              "frame": {
               "duration": 0,
               "redraw": true
              },
              "fromcurrent": true,
              "mode": "immediate",
              "transition": {
               "duration": 0,
               "easing": "linear"
              }
             }
            ],
            "label": "5",
            "method": "animate"
           },
           {
            "args": [
             [
              "6"
             ],
             {
              "frame": {
               "duration": 0,
               "redraw": true
              },
              "fromcurrent": true,
              "mode": "immediate",
              "transition": {
               "duration": 0,
               "easing": "linear"
              }
             }
            ],
            "label": "6",
            "method": "animate"
           },
           {
            "args": [
             [
              "7"
             ],
             {
              "frame": {
               "duration": 0,
               "redraw": true
              },
              "fromcurrent": true,
              "mode": "immediate",
              "transition": {
               "duration": 0,
               "easing": "linear"
              }
             }
            ],
            "label": "7",
            "method": "animate"
           },
           {
            "args": [
             [
              "8"
             ],
             {
              "frame": {
               "duration": 0,
               "redraw": true
              },
              "fromcurrent": true,
              "mode": "immediate",
              "transition": {
               "duration": 0,
               "easing": "linear"
              }
             }
            ],
            "label": "8",
            "method": "animate"
           }
          ],
          "x": 0.1,
          "xanchor": "left",
          "y": 0,
          "yanchor": "top"
         }
        ],
        "template": {
         "data": {
          "candlestick": [
           {
            "decreasing": {
             "line": {
              "color": "#000033"
             }
            },
            "increasing": {
             "line": {
              "color": "#000032"
             }
            },
            "type": "candlestick"
           }
          ],
          "contour": [
           {
            "colorscale": [
             [
              0,
              "#000011"
             ],
             [
              0.1111111111111111,
              "#000012"
             ],
             [
              0.2222222222222222,
              "#000013"
             ],
             [
              0.3333333333333333,
              "#000014"
             ],
             [
              0.4444444444444444,
              "#000015"
             ],
             [
              0.5555555555555556,
              "#000016"
             ],
             [
              0.6666666666666666,
              "#000017"
             ],
             [
              0.7777777777777778,
              "#000018"
             ],
             [
              0.8888888888888888,
              "#000019"
             ],
             [
              1,
              "#000020"
             ]
            ],
            "type": "contour"
           }
          ],
          "contourcarpet": [
           {
            "colorscale": [
             [
              0,
              "#000011"
             ],
             [
              0.1111111111111111,
              "#000012"
             ],
             [
              0.2222222222222222,
              "#000013"
             ],
             [
              0.3333333333333333,
              "#000014"
             ],
             [
              0.4444444444444444,
              "#000015"
             ],
             [
              0.5555555555555556,
              "#000016"
             ],
             [
              0.6666666666666666,
              "#000017"
             ],
             [
              0.7777777777777778,
              "#000018"
             ],
             [
              0.8888888888888888,
              "#000019"
             ],
             [
              1,
              "#000020"
             ]
            ],
            "type": "contourcarpet"
           }
          ],
          "heatmap": [
           {
            "colorscale": [
             [
              0,
              "#000011"
             ],
             [
              0.1111111111111111,
              "#000012"
             ],
             [
              0.2222222222222222,
              "#000013"
             ],
             [
              0.3333333333333333,
              "#000014"
             ],
             [
              0.4444444444444444,
              "#000015"
             ],
             [
              0.5555555555555556,
              "#000016"
             ],
             [
              0.6666666666666666,
              "#000017"
             ],
             [
              0.7777777777777778,
              "#000018"
             ],
             [
              0.8888888888888888,
              "#000019"
             ],
             [
              1,
              "#000020"
             ]
            ],
            "type": "heatmap"
           }
          ],
          "histogram2d": [
           {
            "colorscale": [
             [
              0,
              "#000011"
             ],
             [
              0.1111111111111111,
              "#000012"
             ],
             [
              0.2222222222222222,
              "#000013"
             ],
             [
              0.3333333333333333,
              "#000014"
             ],
             [
              0.4444444444444444,
              "#000015"
             ],
             [
              0.5555555555555556,
              "#000016"
             ],
             [
              0.6666666666666666,
              "#000017"
             ],
             [
              0.7777777777777778,
              "#000018"
             ],
             [
              0.8888888888888888,
              "#000019"
             ],
             [
              1,
              "#000020"
             ]
            ],
            "type": "histogram2d"
           }
          ],
          "icicle": [
           {
            "textfont": {
             "color": "white"
            },
            "type": "icicle"
           }
          ],
          "sankey": [
           {
            "textfont": {
             "color": "#000036"
            },
            "type": "sankey"
           }
          ],
          "scatter": [
           {
            "marker": {
             "line": {
              "width": 0
             }
            },
            "type": "scatter"
           }
          ],
          "table": [
           {
            "cells": {
             "fill": {
              "color": "#000038"
             },
             "font": {
              "color": "#000037"
             },
             "line": {
              "color": "#000039"
             }
            },
            "header": {
             "fill": {
              "color": "#000040"
             },
             "font": {
              "color": "#000036"
             },
             "line": {
              "color": "#000039"
             }
            },
            "type": "table"
           }
          ],
          "waterfall": [
           {
            "connector": {
             "line": {
              "color": "#000036",
              "width": 2
             }
            },
            "decreasing": {
             "marker": {
              "color": "#000033"
             }
            },
            "increasing": {
             "marker": {
              "color": "#000032"
             }
            },
            "totals": {
             "marker": {
              "color": "#000034"
             }
            },
            "type": "waterfall"
           }
          ]
         },
         "layout": {
          "coloraxis": {
           "colorscale": [
            [
             0,
             "#000011"
            ],
            [
             0.1111111111111111,
             "#000012"
            ],
            [
             0.2222222222222222,
             "#000013"
            ],
            [
             0.3333333333333333,
             "#000014"
            ],
            [
             0.4444444444444444,
             "#000015"
            ],
            [
             0.5555555555555556,
             "#000016"
            ],
            [
             0.6666666666666666,
             "#000017"
            ],
            [
             0.7777777777777778,
             "#000018"
            ],
            [
             0.8888888888888888,
             "#000019"
            ],
            [
             1,
             "#000020"
            ]
           ]
          },
          "colorscale": {
           "diverging": [
            [
             0,
             "#000021"
            ],
            [
             0.1,
             "#000022"
            ],
            [
             0.2,
             "#000023"
            ],
            [
             0.3,
             "#000024"
            ],
            [
             0.4,
             "#000025"
            ],
            [
             0.5,
             "#000026"
            ],
            [
             0.6,
             "#000027"
            ],
            [
             0.7,
             "#000028"
            ],
            [
             0.8,
             "#000029"
            ],
            [
             0.9,
             "#000030"
            ],
            [
             1,
             "#000031"
            ]
           ],
           "sequential": [
            [
             0,
             "#000011"
            ],
            [
             0.1111111111111111,
             "#000012"
            ],
            [
             0.2222222222222222,
             "#000013"
            ],
            [
             0.3333333333333333,
             "#000014"
            ],
            [
             0.4444444444444444,
             "#000015"
            ],
            [
             0.5555555555555556,
             "#000016"
            ],
            [
             0.6666666666666666,
             "#000017"
            ],
            [
             0.7777777777777778,
             "#000018"
            ],
            [
             0.8888888888888888,
             "#000019"
            ],
            [
             1,
             "#000020"
            ]
           ],
           "sequentialminus": [
            [
             0,
             "#000011"
            ],
            [
             0.1111111111111111,
             "#000012"
            ],
            [
             0.2222222222222222,
             "#000013"
            ],
            [
             0.3333333333333333,
             "#000014"
            ],
            [
             0.4444444444444444,
             "#000015"
            ],
            [
             0.5555555555555556,
             "#000016"
            ],
            [
             0.6666666666666666,
             "#000017"
            ],
            [
             0.7777777777777778,
             "#000018"
            ],
            [
             0.8888888888888888,
             "#000019"
            ],
            [
             1,
             "#000020"
            ]
           ]
          },
          "colorway": [
           "#000001",
           "#000002",
           "#000003",
           "#000004",
           "#000005",
           "#000006",
           "#000007",
           "#000008",
           "#000009",
           "#000010"
          ]
         }
        },
        "title": {
         "text": "Telemetric Data"
        },
        "updatemenus": [
         {
          "buttons": [
           {
            "args": [
             null,
             {
              "frame": {
               "duration": 500,
               "redraw": true
              },
              "fromcurrent": true,
              "mode": "immediate",
              "transition": {
               "duration": 500,
               "easing": "linear"
              }
             }
            ],
            "label": "&#9654;",
            "method": "animate"
           },
           {
            "args": [
             [
              null
             ],
             {
              "frame": {
               "duration": 0,
               "redraw": true
              },
              "fromcurrent": true,
              "mode": "immediate",
              "transition": {
               "duration": 0,
               "easing": "linear"
              }
             }
            ],
            "label": "&#9724;",
            "method": "animate"
           }
          ],
          "direction": "left",
          "pad": {
           "r": 10,
           "t": 70
          },
          "showactive": false,
          "type": "buttons",
          "x": 0.1,
          "xanchor": "right",
          "y": 0,
          "yanchor": "top"
         }
        ],
        "xaxis": {
         "anchor": "y",
         "categoryarray": [
          "Voltage (V)",
          "Rotation (degrees)",
          "Pressure (kPa)",
          "Vibration (No Unit)"
         ],
         "categoryorder": "array",
         "domain": [
          0,
          0.235
         ],
         "title": {
          "text": "Measure"
         }
        },
        "xaxis2": {
         "anchor": "y2",
         "categoryarray": [
          "Voltage (V)",
          "Rotation (degrees)",
          "Pressure (kPa)",
          "Vibration (No Unit)"
         ],
         "categoryorder": "array",
         "domain": [
          0.255,
          0.49
         ],
         "title": {
          "text": "Measure"
         }
        },
        "xaxis3": {
         "anchor": "y3",
         "categoryarray": [
          "Voltage (V)",
          "Rotation (degrees)",
          "Pressure (kPa)",
          "Vibration (No Unit)"
         ],
         "categoryorder": "array",
         "domain": [
          0.51,
          0.745
         ],
         "title": {
          "text": "Measure"
         }
        },
        "xaxis4": {
         "anchor": "y4",
         "categoryarray": [
          "Voltage (V)",
          "Rotation (degrees)",
          "Pressure (kPa)",
          "Vibration (No Unit)"
         ],
         "categoryorder": "array",
         "domain": [
          0.7649999999999999,
          0.9999999999999999
         ],
         "title": {
          "text": "Measure"
         }
        },
        "yaxis": {
         "anchor": "x",
         "domain": [
          0,
          1
         ],
         "range": [
          139.54580418457,
          231.082230603882
         ],
         "showticklabels": true,
         "title": {
          "text": "Value"
         }
        },
        "yaxis2": {
         "anchor": "x2",
         "domain": [
          0,
          1
         ],
         "range": [
          249.21405178441802,
          452.364181015774
         ],
         "showticklabels": true
        },
        "yaxis3": {
         "anchor": "x3",
         "domain": [
          0,
          1
         ],
         "range": [
          78.2759445298425,
          127.362052781559
         ],
         "showticklabels": true
        },
        "yaxis4": {
         "anchor": "x4",
         "domain": [
          0,
          1
         ],
         "range": [
          19.574590638522,
          67.4967688104268
         ],
         "showticklabels": true
        }
       }
      }
     },
     "metadata": {},
     "output_type": "display_data"
    }
   ],
   "source": [
    "fig = px.bar(melted, x=\"Measure\", y=\"Value\", color=\"Measure\",\n",
    "             # color_discrete_map=color_discrete_map,\n",
    "             color_discrete_sequence=px.colors.qualitative.Plotly,\n",
    "             animation_group=\"Measure\",\n",
    "             animation_frame=\"Hours Before Failure\",\n",
    "             facet_col=\"Measure\",\n",
    "             title=\"Telemetric Data\")\n",
    "             #range_y=[y_min, y_max])\n",
    "fig.update_yaxes(matches=None, showticklabels=True)\n",
    "for l in limits:\n",
    "    fig.layout[l].update(range=limits[l])\n",
    "\n",
    "fig.for_each_annotation(lambda a: a.update(text=\"\"))\n",
    "fig.update_xaxes(matches=None)\n",
    "fig.show()"
   ]
  },
  {
   "cell_type": "code",
   "execution_count": 137,
   "metadata": {},
   "outputs": [
    {
     "data": {
      "text/plain": [
       "Layout({\n",
       "    'annotations': [{'font': {},\n",
       "                     'showarrow': False,\n",
       "                     'text': '',\n",
       "                     'x': 0.1175,\n",
       "                     'xanchor': 'center',\n",
       "                     'xref': 'paper',\n",
       "                     'y': 1.0,\n",
       "                     'yanchor': 'bottom',\n",
       "                     'yref': 'paper'},\n",
       "                    {'font': {},\n",
       "                     'showarrow': False,\n",
       "                     'text': '',\n",
       "                     'x': 0.3725,\n",
       "                     'xanchor': 'center',\n",
       "                     'xref': 'paper',\n",
       "                     'y': 1.0,\n",
       "                     'yanchor': 'bottom',\n",
       "                     'yref': 'paper'},\n",
       "                    {'font': {},\n",
       "                     'showarrow': False,\n",
       "                     'text': '',\n",
       "                     'x': 0.6275,\n",
       "                     'xanchor': 'center',\n",
       "                     'xref': 'paper',\n",
       "                     'y': 1.0,\n",
       "                     'yanchor': 'bottom',\n",
       "                     'yref': 'paper'},\n",
       "                    {'font': {},\n",
       "                     'showarrow': False,\n",
       "                     'text': '',\n",
       "                     'x': 0.8824999999999998,\n",
       "                     'xanchor': 'center',\n",
       "                     'xref': 'paper',\n",
       "                     'y': 1.0,\n",
       "                     'yanchor': 'bottom',\n",
       "                     'yref': 'paper'}],\n",
       "    'barmode': 'relative',\n",
       "    'legend': {'title': {'text': 'Measure'}, 'tracegroupgap': 0},\n",
       "    'sliders': [{'active': 0,\n",
       "                 'currentvalue': {'prefix': 'Hours Before Failure='},\n",
       "                 'len': 0.9,\n",
       "                 'pad': {'b': 10, 't': 60},\n",
       "                 'steps': [{'args': [['20'], {'frame': {'duration': 0, 'redraw':\n",
       "                                     True}, 'mode': 'immediate', 'fromcurrent':\n",
       "                                     True, 'transition': {'duration': 0, 'easing':\n",
       "                                     'linear'}}],\n",
       "                            'label': '20',\n",
       "                            'method': 'animate'},\n",
       "                           {'args': [['21'], {'frame': {'duration': 0, 'redraw':\n",
       "                                     True}, 'mode': 'immediate', 'fromcurrent':\n",
       "                                     True, 'transition': {'duration': 0, 'easing':\n",
       "                                     'linear'}}],\n",
       "                            'label': '21',\n",
       "                            'method': 'animate'},\n",
       "                           {'args': [['22'], {'frame': {'duration': 0, 'redraw':\n",
       "                                     True}, 'mode': 'immediate', 'fromcurrent':\n",
       "                                     True, 'transition': {'duration': 0, 'easing':\n",
       "                                     'linear'}}],\n",
       "                            'label': '22',\n",
       "                            'method': 'animate'},\n",
       "                           {'args': [['23'], {'frame': {'duration': 0, 'redraw':\n",
       "                                     True}, 'mode': 'immediate', 'fromcurrent':\n",
       "                                     True, 'transition': {'duration': 0, 'easing':\n",
       "                                     'linear'}}],\n",
       "                            'label': '23',\n",
       "                            'method': 'animate'},\n",
       "                           {'args': [['0'], {'frame': {'duration': 0, 'redraw':\n",
       "                                     True}, 'mode': 'immediate', 'fromcurrent':\n",
       "                                     True, 'transition': {'duration': 0, 'easing':\n",
       "                                     'linear'}}],\n",
       "                            'label': '0',\n",
       "                            'method': 'animate'},\n",
       "                           {'args': [['1'], {'frame': {'duration': 0, 'redraw':\n",
       "                                     True}, 'mode': 'immediate', 'fromcurrent':\n",
       "                                     True, 'transition': {'duration': 0, 'easing':\n",
       "                                     'linear'}}],\n",
       "                            'label': '1',\n",
       "                            'method': 'animate'},\n",
       "                           {'args': [['2'], {'frame': {'duration': 0, 'redraw':\n",
       "                                     True}, 'mode': 'immediate', 'fromcurrent':\n",
       "                                     True, 'transition': {'duration': 0, 'easing':\n",
       "                                     'linear'}}],\n",
       "                            'label': '2',\n",
       "                            'method': 'animate'},\n",
       "                           {'args': [['3'], {'frame': {'duration': 0, 'redraw':\n",
       "                                     True}, 'mode': 'immediate', 'fromcurrent':\n",
       "                                     True, 'transition': {'duration': 0, 'easing':\n",
       "                                     'linear'}}],\n",
       "                            'label': '3',\n",
       "                            'method': 'animate'},\n",
       "                           {'args': [['4'], {'frame': {'duration': 0, 'redraw':\n",
       "                                     True}, 'mode': 'immediate', 'fromcurrent':\n",
       "                                     True, 'transition': {'duration': 0, 'easing':\n",
       "                                     'linear'}}],\n",
       "                            'label': '4',\n",
       "                            'method': 'animate'},\n",
       "                           {'args': [['5'], {'frame': {'duration': 0, 'redraw':\n",
       "                                     True}, 'mode': 'immediate', 'fromcurrent':\n",
       "                                     True, 'transition': {'duration': 0, 'easing':\n",
       "                                     'linear'}}],\n",
       "                            'label': '5',\n",
       "                            'method': 'animate'},\n",
       "                           {'args': [['6'], {'frame': {'duration': 0, 'redraw':\n",
       "                                     True}, 'mode': 'immediate', 'fromcurrent':\n",
       "                                     True, 'transition': {'duration': 0, 'easing':\n",
       "                                     'linear'}}],\n",
       "                            'label': '6',\n",
       "                            'method': 'animate'},\n",
       "                           {'args': [['7'], {'frame': {'duration': 0, 'redraw':\n",
       "                                     True}, 'mode': 'immediate', 'fromcurrent':\n",
       "                                     True, 'transition': {'duration': 0, 'easing':\n",
       "                                     'linear'}}],\n",
       "                            'label': '7',\n",
       "                            'method': 'animate'},\n",
       "                           {'args': [['8'], {'frame': {'duration': 0, 'redraw':\n",
       "                                     True}, 'mode': 'immediate', 'fromcurrent':\n",
       "                                     True, 'transition': {'duration': 0, 'easing':\n",
       "                                     'linear'}}],\n",
       "                            'label': '8',\n",
       "                            'method': 'animate'}],\n",
       "                 'x': 0.1,\n",
       "                 'xanchor': 'left',\n",
       "                 'y': 0,\n",
       "                 'yanchor': 'top'}],\n",
       "    'template': '...',\n",
       "    'title': {'text': 'Telemetric Data'},\n",
       "    'updatemenus': [{'buttons': [{'args': [None, {'frame': {'duration': 500,\n",
       "                                           'redraw': True}, 'mode': 'immediate',\n",
       "                                           'fromcurrent': True, 'transition':\n",
       "                                           {'duration': 500, 'easing': 'linear'}}],\n",
       "                                  'label': '&#9654;',\n",
       "                                  'method': 'animate'},\n",
       "                                 {'args': [[None], {'frame': {'duration': 0,\n",
       "                                           'redraw': True}, 'mode': 'immediate',\n",
       "                                           'fromcurrent': True, 'transition':\n",
       "                                           {'duration': 0, 'easing': 'linear'}}],\n",
       "                                  'label': '&#9724;',\n",
       "                                  'method': 'animate'}],\n",
       "                     'direction': 'left',\n",
       "                     'pad': {'r': 10, 't': 70},\n",
       "                     'showactive': False,\n",
       "                     'type': 'buttons',\n",
       "                     'x': 0.1,\n",
       "                     'xanchor': 'right',\n",
       "                     'y': 0,\n",
       "                     'yanchor': 'top'}],\n",
       "    'xaxis': {'anchor': 'y',\n",
       "              'categoryarray': [Voltage (V), Rotation (degrees), Pressure (kPa),\n",
       "                                Vibration (No Unit)],\n",
       "              'categoryorder': 'array',\n",
       "              'domain': [0.0, 0.235],\n",
       "              'title': {'text': 'Measure'}},\n",
       "    'xaxis2': {'anchor': 'y2',\n",
       "               'categoryarray': [Voltage (V), Rotation (degrees), Pressure (kPa),\n",
       "                                 Vibration (No Unit)],\n",
       "               'categoryorder': 'array',\n",
       "               'domain': [0.255, 0.49],\n",
       "               'title': {'text': 'Measure'}},\n",
       "    'xaxis3': {'anchor': 'y3',\n",
       "               'categoryarray': [Voltage (V), Rotation (degrees), Pressure (kPa),\n",
       "                                 Vibration (No Unit)],\n",
       "               'categoryorder': 'array',\n",
       "               'domain': [0.51, 0.745],\n",
       "               'title': {'text': 'Measure'}},\n",
       "    'xaxis4': {'anchor': 'y4',\n",
       "               'categoryarray': [Voltage (V), Rotation (degrees), Pressure (kPa),\n",
       "                                 Vibration (No Unit)],\n",
       "               'categoryorder': 'array',\n",
       "               'domain': [0.7649999999999999, 0.9999999999999999],\n",
       "               'title': {'text': 'Measure'}},\n",
       "    'yaxis': {'anchor': 'x',\n",
       "              'domain': [0.0, 1.0],\n",
       "              'range': [139.54580418457, 231.082230603882],\n",
       "              'showticklabels': True,\n",
       "              'title': {'text': 'Value'}},\n",
       "    'yaxis2': {'anchor': 'x2',\n",
       "               'domain': [0.0, 1.0],\n",
       "               'range': [249.21405178441802, 452.364181015774],\n",
       "               'showticklabels': True},\n",
       "    'yaxis3': {'anchor': 'x3',\n",
       "               'domain': [0.0, 1.0],\n",
       "               'range': [78.2759445298425, 127.362052781559],\n",
       "               'showticklabels': True},\n",
       "    'yaxis4': {'anchor': 'x4', 'domain': [0.0, 1.0], 'range': [19.574590638522, 67.4967688104268], 'showticklabels': True}\n",
       "})"
      ]
     },
     "execution_count": 137,
     "metadata": {},
     "output_type": "execute_result"
    }
   ],
   "source": [
    "fig.layout"
   ]
  },
  {
   "cell_type": "code",
   "execution_count": null,
   "metadata": {},
   "outputs": [],
   "source": []
  },
  {
   "attachments": {},
   "cell_type": "markdown",
   "metadata": {},
   "source": [
    "# Homepage Viz"
   ]
  },
  {
   "cell_type": "code",
   "execution_count": 380,
   "metadata": {},
   "outputs": [],
   "source": [
    "df.columns = COLUMNS\n",
    "end_date = datetime(year=2015, month=12, day=31)\n",
    "start_date = end_date - timedelta(days=30)\n",
    "\n",
    "time_window_signal = df[(df['datetime'] >= start_date) & (df['datetime'] <= end_date)]"
   ]
  },
  {
   "cell_type": "code",
   "execution_count": 381,
   "metadata": {},
   "outputs": [],
   "source": [
    "import math\n",
    "machine_id_coord_map = {idx: (idx % 10, 10*math.floor(idx/10)) for idx in range(100)}"
   ]
  },
  {
   "cell_type": "code",
   "execution_count": 385,
   "metadata": {},
   "outputs": [],
   "source": [
    "import copy\n",
    "for idx in machine_id_coord_map:\n",
    "    m_signal = time_window_signal.loc[time_window_signal[COLUMNS[2]] == idx + 1]\n",
    "    day_skip = m_signal[::24]\n",
    "    day_skip = day_skip.iloc[:, [0,1]]\n",
    "    day_skip[\"x\"] = machine_id_coord_map[idx][0]\n",
    "    day_skip[\"y\"] = machine_id_coord_map[idx][1]\n",
    "    if idx == 0:\n",
    "        pp_df = copy.deepcopy(day_skip)\n",
    "    else:\n",
    "        pp_df = pp_df.append(day_skip)"
   ]
  },
  {
   "cell_type": "code",
   "execution_count": 386,
   "metadata": {},
   "outputs": [
    {
     "data": {
      "text/html": [
       "<div>\n",
       "<style scoped>\n",
       "    .dataframe tbody tr th:only-of-type {\n",
       "        vertical-align: middle;\n",
       "    }\n",
       "\n",
       "    .dataframe tbody tr th {\n",
       "        vertical-align: top;\n",
       "    }\n",
       "\n",
       "    .dataframe thead th {\n",
       "        text-align: right;\n",
       "    }\n",
       "</style>\n",
       "<table border=\"1\" class=\"dataframe\">\n",
       "  <thead>\n",
       "    <tr style=\"text-align: right;\">\n",
       "      <th></th>\n",
       "      <th>status</th>\n",
       "      <th>day</th>\n",
       "      <th>x</th>\n",
       "      <th>y</th>\n",
       "    </tr>\n",
       "  </thead>\n",
       "  <tbody>\n",
       "    <tr>\n",
       "      <th>100137</th>\n",
       "      <td>OK</td>\n",
       "      <td>1</td>\n",
       "      <td>0</td>\n",
       "      <td>0</td>\n",
       "    </tr>\n",
       "    <tr>\n",
       "      <th>102611</th>\n",
       "      <td>OK</td>\n",
       "      <td>2</td>\n",
       "      <td>0</td>\n",
       "      <td>0</td>\n",
       "    </tr>\n",
       "    <tr>\n",
       "      <th>104955</th>\n",
       "      <td>OK</td>\n",
       "      <td>3</td>\n",
       "      <td>0</td>\n",
       "      <td>0</td>\n",
       "    </tr>\n",
       "    <tr>\n",
       "      <th>107341</th>\n",
       "      <td>OK</td>\n",
       "      <td>4</td>\n",
       "      <td>0</td>\n",
       "      <td>0</td>\n",
       "    </tr>\n",
       "    <tr>\n",
       "      <th>109724</th>\n",
       "      <td>OK</td>\n",
       "      <td>5</td>\n",
       "      <td>0</td>\n",
       "      <td>0</td>\n",
       "    </tr>\n",
       "    <tr>\n",
       "      <th>...</th>\n",
       "      <td>...</td>\n",
       "      <td>...</td>\n",
       "      <td>...</td>\n",
       "      <td>...</td>\n",
       "    </tr>\n",
       "    <tr>\n",
       "      <th>162582</th>\n",
       "      <td>OK</td>\n",
       "      <td>27</td>\n",
       "      <td>9</td>\n",
       "      <td>90</td>\n",
       "    </tr>\n",
       "    <tr>\n",
       "      <th>164978</th>\n",
       "      <td>OK</td>\n",
       "      <td>28</td>\n",
       "      <td>9</td>\n",
       "      <td>90</td>\n",
       "    </tr>\n",
       "    <tr>\n",
       "      <th>167390</th>\n",
       "      <td>OK</td>\n",
       "      <td>29</td>\n",
       "      <td>9</td>\n",
       "      <td>90</td>\n",
       "    </tr>\n",
       "    <tr>\n",
       "      <th>169795</th>\n",
       "      <td>OK</td>\n",
       "      <td>30</td>\n",
       "      <td>9</td>\n",
       "      <td>90</td>\n",
       "    </tr>\n",
       "    <tr>\n",
       "      <th>172137</th>\n",
       "      <td>OK</td>\n",
       "      <td>31</td>\n",
       "      <td>9</td>\n",
       "      <td>90</td>\n",
       "    </tr>\n",
       "  </tbody>\n",
       "</table>\n",
       "<p>3100 rows × 4 columns</p>\n",
       "</div>"
      ],
      "text/plain": [
       "       status  day  x   y\n",
       "100137     OK    1  0   0\n",
       "102611     OK    2  0   0\n",
       "104955     OK    3  0   0\n",
       "107341     OK    4  0   0\n",
       "109724     OK    5  0   0\n",
       "...       ...  ... ..  ..\n",
       "162582     OK   27  9  90\n",
       "164978     OK   28  9  90\n",
       "167390     OK   29  9  90\n",
       "169795     OK   30  9  90\n",
       "172137     OK   31  9  90\n",
       "\n",
       "[3100 rows x 4 columns]"
      ]
     },
     "execution_count": 386,
     "metadata": {},
     "output_type": "execute_result"
    }
   ],
   "source": [
    "pp_df.iloc[:,1] = pp_df[\"datetime\"].dt.round(\"D\").dt.day\n",
    "pp_df['failure_comp2'] = pp_df['failure_comp2'].astype('bool')\n",
    "pp_df = pp_df.replace(False, 'OK')\n",
    "pp_df = pp_df.replace(True, 'FAIL')\n",
    "pp_df.rename(columns={'datetime': 'day'}, inplace=True)\n",
    "pp_df.rename(columns={'failure_comp2': 'status'}, inplace=True)\n",
    "pp_df"
   ]
  },
  {
   "cell_type": "code",
   "execution_count": 393,
   "metadata": {},
   "outputs": [
    {
     "data": {
      "application/vnd.plotly.v1+json": {
       "config": {
        "plotlyServerURL": "https://plot.ly"
       },
       "data": [
        {
         "hovertemplate": "status=OK<br>day=1<br>x=%{x}<br>y=%{y}<extra></extra>",
         "legendgroup": "OK",
         "marker": {
          "color": "#00FF00",
          "size": 10,
          "symbol": "circle"
         },
         "mode": "markers",
         "name": "OK",
         "orientation": "v",
         "showlegend": true,
         "type": "scatter",
         "x": [
          0,
          1,
          2,
          3,
          4,
          5,
          6,
          7,
          8,
          9,
          0,
          1,
          2,
          3,
          4,
          5,
          6,
          7,
          8,
          9,
          0,
          1,
          2,
          3,
          4,
          5,
          6,
          7,
          8,
          9,
          0,
          1,
          2,
          3,
          4,
          5,
          6,
          7,
          8,
          9,
          0,
          1,
          2,
          3,
          4,
          5,
          6,
          7,
          8,
          9,
          0,
          1,
          2,
          3,
          4,
          5,
          6,
          7,
          8,
          9,
          0,
          1,
          2,
          3,
          4,
          5,
          6,
          7,
          8,
          9,
          0,
          1,
          2,
          3,
          4,
          5,
          6,
          7,
          8,
          9,
          0,
          1,
          2,
          3,
          4,
          5,
          6,
          7,
          8,
          0,
          1,
          2,
          3,
          4,
          5,
          6,
          7,
          8,
          9
         ],
         "xaxis": "x",
         "y": [
          0,
          0,
          0,
          0,
          0,
          0,
          0,
          0,
          0,
          0,
          10,
          10,
          10,
          10,
          10,
          10,
          10,
          10,
          10,
          10,
          20,
          20,
          20,
          20,
          20,
          20,
          20,
          20,
          20,
          20,
          30,
          30,
          30,
          30,
          30,
          30,
          30,
          30,
          30,
          30,
          40,
          40,
          40,
          40,
          40,
          40,
          40,
          40,
          40,
          40,
          50,
          50,
          50,
          50,
          50,
          50,
          50,
          50,
          50,
          50,
          60,
          60,
          60,
          60,
          60,
          60,
          60,
          60,
          60,
          60,
          70,
          70,
          70,
          70,
          70,
          70,
          70,
          70,
          70,
          70,
          80,
          80,
          80,
          80,
          80,
          80,
          80,
          80,
          80,
          90,
          90,
          90,
          90,
          90,
          90,
          90,
          90,
          90,
          90
         ],
         "yaxis": "y"
        },
        {
         "hovertemplate": "status=FAIL<br>day=1<br>x=%{x}<br>y=%{y}<extra></extra>",
         "legendgroup": "FAIL",
         "marker": {
          "color": "#FF0000",
          "size": 10,
          "symbol": "circle"
         },
         "mode": "markers",
         "name": "FAIL",
         "orientation": "v",
         "showlegend": true,
         "type": "scatter",
         "x": [
          9
         ],
         "xaxis": "x",
         "y": [
          80
         ],
         "yaxis": "y"
        }
       ],
       "frames": [
        {
         "data": [
          {
           "hovertemplate": "status=OK<br>day=1<br>x=%{x}<br>y=%{y}<extra></extra>",
           "legendgroup": "OK",
           "marker": {
            "color": "#00FF00",
            "symbol": "circle"
           },
           "mode": "markers",
           "name": "OK",
           "orientation": "v",
           "showlegend": true,
           "type": "scatter",
           "x": [
            0,
            1,
            2,
            3,
            4,
            5,
            6,
            7,
            8,
            9,
            0,
            1,
            2,
            3,
            4,
            5,
            6,
            7,
            8,
            9,
            0,
            1,
            2,
            3,
            4,
            5,
            6,
            7,
            8,
            9,
            0,
            1,
            2,
            3,
            4,
            5,
            6,
            7,
            8,
            9,
            0,
            1,
            2,
            3,
            4,
            5,
            6,
            7,
            8,
            9,
            0,
            1,
            2,
            3,
            4,
            5,
            6,
            7,
            8,
            9,
            0,
            1,
            2,
            3,
            4,
            5,
            6,
            7,
            8,
            9,
            0,
            1,
            2,
            3,
            4,
            5,
            6,
            7,
            8,
            9,
            0,
            1,
            2,
            3,
            4,
            5,
            6,
            7,
            8,
            0,
            1,
            2,
            3,
            4,
            5,
            6,
            7,
            8,
            9
           ],
           "xaxis": "x",
           "y": [
            0,
            0,
            0,
            0,
            0,
            0,
            0,
            0,
            0,
            0,
            10,
            10,
            10,
            10,
            10,
            10,
            10,
            10,
            10,
            10,
            20,
            20,
            20,
            20,
            20,
            20,
            20,
            20,
            20,
            20,
            30,
            30,
            30,
            30,
            30,
            30,
            30,
            30,
            30,
            30,
            40,
            40,
            40,
            40,
            40,
            40,
            40,
            40,
            40,
            40,
            50,
            50,
            50,
            50,
            50,
            50,
            50,
            50,
            50,
            50,
            60,
            60,
            60,
            60,
            60,
            60,
            60,
            60,
            60,
            60,
            70,
            70,
            70,
            70,
            70,
            70,
            70,
            70,
            70,
            70,
            80,
            80,
            80,
            80,
            80,
            80,
            80,
            80,
            80,
            90,
            90,
            90,
            90,
            90,
            90,
            90,
            90,
            90,
            90
           ],
           "yaxis": "y"
          },
          {
           "hovertemplate": "status=FAIL<br>day=1<br>x=%{x}<br>y=%{y}<extra></extra>",
           "legendgroup": "FAIL",
           "marker": {
            "color": "#FF0000",
            "symbol": "circle"
           },
           "mode": "markers",
           "name": "FAIL",
           "orientation": "v",
           "showlegend": true,
           "type": "scatter",
           "x": [
            9
           ],
           "xaxis": "x",
           "y": [
            80
           ],
           "yaxis": "y"
          }
         ],
         "name": "1"
        },
        {
         "data": [
          {
           "hovertemplate": "status=OK<br>day=2<br>x=%{x}<br>y=%{y}<extra></extra>",
           "legendgroup": "OK",
           "marker": {
            "color": "#00FF00",
            "symbol": "circle"
           },
           "mode": "markers",
           "name": "OK",
           "orientation": "v",
           "showlegend": true,
           "type": "scatter",
           "x": [
            0,
            1,
            2,
            3,
            4,
            5,
            6,
            7,
            8,
            9,
            0,
            1,
            2,
            3,
            4,
            5,
            6,
            7,
            8,
            9,
            0,
            1,
            2,
            3,
            4,
            5,
            6,
            7,
            8,
            9,
            0,
            1,
            2,
            3,
            4,
            5,
            6,
            7,
            8,
            9,
            0,
            1,
            2,
            3,
            4,
            5,
            6,
            7,
            8,
            9,
            0,
            1,
            2,
            3,
            4,
            5,
            6,
            7,
            8,
            9,
            0,
            1,
            2,
            3,
            4,
            5,
            6,
            7,
            8,
            9,
            0,
            1,
            2,
            3,
            4,
            5,
            6,
            7,
            8,
            9,
            0,
            1,
            2,
            3,
            4,
            5,
            6,
            7,
            8,
            9,
            0,
            1,
            2,
            3,
            4,
            5,
            6,
            7,
            8,
            9
           ],
           "xaxis": "x",
           "y": [
            0,
            0,
            0,
            0,
            0,
            0,
            0,
            0,
            0,
            0,
            10,
            10,
            10,
            10,
            10,
            10,
            10,
            10,
            10,
            10,
            20,
            20,
            20,
            20,
            20,
            20,
            20,
            20,
            20,
            20,
            30,
            30,
            30,
            30,
            30,
            30,
            30,
            30,
            30,
            30,
            40,
            40,
            40,
            40,
            40,
            40,
            40,
            40,
            40,
            40,
            50,
            50,
            50,
            50,
            50,
            50,
            50,
            50,
            50,
            50,
            60,
            60,
            60,
            60,
            60,
            60,
            60,
            60,
            60,
            60,
            70,
            70,
            70,
            70,
            70,
            70,
            70,
            70,
            70,
            70,
            80,
            80,
            80,
            80,
            80,
            80,
            80,
            80,
            80,
            80,
            90,
            90,
            90,
            90,
            90,
            90,
            90,
            90,
            90,
            90
           ],
           "yaxis": "y"
          }
         ],
         "name": "2"
        },
        {
         "data": [
          {
           "hovertemplate": "status=OK<br>day=3<br>x=%{x}<br>y=%{y}<extra></extra>",
           "legendgroup": "OK",
           "marker": {
            "color": "#00FF00",
            "symbol": "circle"
           },
           "mode": "markers",
           "name": "OK",
           "orientation": "v",
           "showlegend": true,
           "type": "scatter",
           "x": [
            0,
            1,
            3,
            4,
            5,
            6,
            7,
            8,
            9,
            0,
            1,
            2,
            3,
            4,
            5,
            6,
            7,
            8,
            9,
            0,
            1,
            2,
            3,
            4,
            5,
            6,
            7,
            8,
            9,
            0,
            1,
            2,
            3,
            4,
            5,
            6,
            7,
            8,
            9,
            0,
            1,
            2,
            3,
            4,
            5,
            6,
            7,
            8,
            9,
            0,
            1,
            2,
            3,
            4,
            5,
            6,
            7,
            8,
            9,
            0,
            1,
            2,
            3,
            4,
            5,
            6,
            7,
            8,
            9,
            0,
            1,
            2,
            3,
            4,
            5,
            6,
            7,
            8,
            9,
            0,
            1,
            2,
            3,
            4,
            5,
            6,
            7,
            8,
            9,
            0,
            1,
            2,
            3,
            4,
            5,
            6,
            7,
            8,
            9
           ],
           "xaxis": "x",
           "y": [
            0,
            0,
            0,
            0,
            0,
            0,
            0,
            0,
            0,
            10,
            10,
            10,
            10,
            10,
            10,
            10,
            10,
            10,
            10,
            20,
            20,
            20,
            20,
            20,
            20,
            20,
            20,
            20,
            20,
            30,
            30,
            30,
            30,
            30,
            30,
            30,
            30,
            30,
            30,
            40,
            40,
            40,
            40,
            40,
            40,
            40,
            40,
            40,
            40,
            50,
            50,
            50,
            50,
            50,
            50,
            50,
            50,
            50,
            50,
            60,
            60,
            60,
            60,
            60,
            60,
            60,
            60,
            60,
            60,
            70,
            70,
            70,
            70,
            70,
            70,
            70,
            70,
            70,
            70,
            80,
            80,
            80,
            80,
            80,
            80,
            80,
            80,
            80,
            80,
            90,
            90,
            90,
            90,
            90,
            90,
            90,
            90,
            90,
            90
           ],
           "yaxis": "y"
          },
          {
           "hovertemplate": "status=FAIL<br>day=3<br>x=%{x}<br>y=%{y}<extra></extra>",
           "legendgroup": "FAIL",
           "marker": {
            "color": "#FF0000",
            "symbol": "circle"
           },
           "mode": "markers",
           "name": "FAIL",
           "orientation": "v",
           "showlegend": true,
           "type": "scatter",
           "x": [
            2
           ],
           "xaxis": "x",
           "y": [
            0
           ],
           "yaxis": "y"
          }
         ],
         "name": "3"
        },
        {
         "data": [
          {
           "hovertemplate": "status=OK<br>day=4<br>x=%{x}<br>y=%{y}<extra></extra>",
           "legendgroup": "OK",
           "marker": {
            "color": "#00FF00",
            "symbol": "circle"
           },
           "mode": "markers",
           "name": "OK",
           "orientation": "v",
           "showlegend": true,
           "type": "scatter",
           "x": [
            0,
            1,
            2,
            3,
            4,
            5,
            6,
            7,
            8,
            9,
            0,
            1,
            2,
            3,
            4,
            5,
            6,
            7,
            8,
            9,
            1,
            2,
            3,
            4,
            5,
            6,
            7,
            8,
            9,
            0,
            1,
            2,
            3,
            4,
            5,
            6,
            7,
            8,
            9,
            0,
            1,
            2,
            3,
            4,
            5,
            6,
            7,
            8,
            9,
            0,
            1,
            2,
            3,
            4,
            5,
            6,
            7,
            8,
            9,
            0,
            1,
            2,
            3,
            4,
            5,
            6,
            7,
            8,
            9,
            0,
            1,
            2,
            3,
            4,
            5,
            6,
            7,
            8,
            9,
            0,
            1,
            2,
            3,
            4,
            5,
            6,
            7,
            8,
            9,
            0,
            1,
            2,
            3,
            4,
            5,
            6,
            7,
            8,
            9
           ],
           "xaxis": "x",
           "y": [
            0,
            0,
            0,
            0,
            0,
            0,
            0,
            0,
            0,
            0,
            10,
            10,
            10,
            10,
            10,
            10,
            10,
            10,
            10,
            10,
            20,
            20,
            20,
            20,
            20,
            20,
            20,
            20,
            20,
            30,
            30,
            30,
            30,
            30,
            30,
            30,
            30,
            30,
            30,
            40,
            40,
            40,
            40,
            40,
            40,
            40,
            40,
            40,
            40,
            50,
            50,
            50,
            50,
            50,
            50,
            50,
            50,
            50,
            50,
            60,
            60,
            60,
            60,
            60,
            60,
            60,
            60,
            60,
            60,
            70,
            70,
            70,
            70,
            70,
            70,
            70,
            70,
            70,
            70,
            80,
            80,
            80,
            80,
            80,
            80,
            80,
            80,
            80,
            80,
            90,
            90,
            90,
            90,
            90,
            90,
            90,
            90,
            90,
            90
           ],
           "yaxis": "y"
          },
          {
           "hovertemplate": "status=FAIL<br>day=4<br>x=%{x}<br>y=%{y}<extra></extra>",
           "legendgroup": "FAIL",
           "marker": {
            "color": "#FF0000",
            "symbol": "circle"
           },
           "mode": "markers",
           "name": "FAIL",
           "orientation": "v",
           "showlegend": true,
           "type": "scatter",
           "x": [
            0
           ],
           "xaxis": "x",
           "y": [
            20
           ],
           "yaxis": "y"
          }
         ],
         "name": "4"
        },
        {
         "data": [
          {
           "hovertemplate": "status=OK<br>day=5<br>x=%{x}<br>y=%{y}<extra></extra>",
           "legendgroup": "OK",
           "marker": {
            "color": "#00FF00",
            "symbol": "circle"
           },
           "mode": "markers",
           "name": "OK",
           "orientation": "v",
           "showlegend": true,
           "type": "scatter",
           "x": [
            0,
            1,
            2,
            3,
            4,
            5,
            6,
            7,
            8,
            9,
            0,
            1,
            2,
            3,
            4,
            5,
            6,
            7,
            8,
            9,
            0,
            1,
            2,
            3,
            4,
            5,
            6,
            7,
            8,
            9,
            0,
            1,
            2,
            3,
            4,
            5,
            6,
            7,
            8,
            9,
            0,
            1,
            2,
            3,
            4,
            5,
            6,
            7,
            8,
            9,
            0,
            1,
            2,
            3,
            4,
            5,
            6,
            7,
            8,
            9,
            0,
            1,
            2,
            3,
            4,
            5,
            6,
            7,
            8,
            9,
            0,
            1,
            2,
            3,
            4,
            5,
            6,
            7,
            8,
            9,
            0,
            1,
            2,
            3,
            4,
            5,
            6,
            7,
            8,
            9,
            0,
            1,
            2,
            3,
            4,
            5,
            6,
            7,
            8,
            9
           ],
           "xaxis": "x",
           "y": [
            0,
            0,
            0,
            0,
            0,
            0,
            0,
            0,
            0,
            0,
            10,
            10,
            10,
            10,
            10,
            10,
            10,
            10,
            10,
            10,
            20,
            20,
            20,
            20,
            20,
            20,
            20,
            20,
            20,
            20,
            30,
            30,
            30,
            30,
            30,
            30,
            30,
            30,
            30,
            30,
            40,
            40,
            40,
            40,
            40,
            40,
            40,
            40,
            40,
            40,
            50,
            50,
            50,
            50,
            50,
            50,
            50,
            50,
            50,
            50,
            60,
            60,
            60,
            60,
            60,
            60,
            60,
            60,
            60,
            60,
            70,
            70,
            70,
            70,
            70,
            70,
            70,
            70,
            70,
            70,
            80,
            80,
            80,
            80,
            80,
            80,
            80,
            80,
            80,
            80,
            90,
            90,
            90,
            90,
            90,
            90,
            90,
            90,
            90,
            90
           ],
           "yaxis": "y"
          }
         ],
         "name": "5"
        },
        {
         "data": [
          {
           "hovertemplate": "status=OK<br>day=6<br>x=%{x}<br>y=%{y}<extra></extra>",
           "legendgroup": "OK",
           "marker": {
            "color": "#00FF00",
            "symbol": "circle"
           },
           "mode": "markers",
           "name": "OK",
           "orientation": "v",
           "showlegend": true,
           "type": "scatter",
           "x": [
            0,
            1,
            2,
            3,
            4,
            5,
            6,
            7,
            8,
            9,
            0,
            1,
            2,
            3,
            4,
            5,
            6,
            7,
            8,
            9,
            0,
            1,
            2,
            3,
            4,
            5,
            6,
            7,
            8,
            9,
            0,
            1,
            2,
            3,
            4,
            5,
            6,
            7,
            8,
            9,
            0,
            1,
            2,
            3,
            4,
            5,
            6,
            7,
            8,
            9,
            0,
            1,
            2,
            3,
            4,
            5,
            6,
            7,
            8,
            9,
            0,
            1,
            2,
            3,
            4,
            5,
            6,
            7,
            8,
            9,
            0,
            1,
            2,
            3,
            4,
            5,
            6,
            7,
            8,
            9,
            0,
            1,
            2,
            3,
            4,
            5,
            6,
            7,
            8,
            9,
            0,
            1,
            2,
            3,
            4,
            5,
            6,
            7,
            8,
            9
           ],
           "xaxis": "x",
           "y": [
            0,
            0,
            0,
            0,
            0,
            0,
            0,
            0,
            0,
            0,
            10,
            10,
            10,
            10,
            10,
            10,
            10,
            10,
            10,
            10,
            20,
            20,
            20,
            20,
            20,
            20,
            20,
            20,
            20,
            20,
            30,
            30,
            30,
            30,
            30,
            30,
            30,
            30,
            30,
            30,
            40,
            40,
            40,
            40,
            40,
            40,
            40,
            40,
            40,
            40,
            50,
            50,
            50,
            50,
            50,
            50,
            50,
            50,
            50,
            50,
            60,
            60,
            60,
            60,
            60,
            60,
            60,
            60,
            60,
            60,
            70,
            70,
            70,
            70,
            70,
            70,
            70,
            70,
            70,
            70,
            80,
            80,
            80,
            80,
            80,
            80,
            80,
            80,
            80,
            80,
            90,
            90,
            90,
            90,
            90,
            90,
            90,
            90,
            90,
            90
           ],
           "yaxis": "y"
          }
         ],
         "name": "6"
        },
        {
         "data": [
          {
           "hovertemplate": "status=OK<br>day=7<br>x=%{x}<br>y=%{y}<extra></extra>",
           "legendgroup": "OK",
           "marker": {
            "color": "#00FF00",
            "symbol": "circle"
           },
           "mode": "markers",
           "name": "OK",
           "orientation": "v",
           "showlegend": true,
           "type": "scatter",
           "x": [
            0,
            1,
            2,
            3,
            4,
            5,
            6,
            7,
            8,
            9,
            0,
            1,
            2,
            3,
            4,
            5,
            6,
            7,
            8,
            9,
            0,
            1,
            2,
            3,
            4,
            5,
            6,
            7,
            8,
            9,
            0,
            1,
            2,
            3,
            4,
            5,
            6,
            7,
            8,
            9,
            0,
            1,
            2,
            3,
            4,
            5,
            6,
            7,
            8,
            9,
            0,
            1,
            2,
            3,
            4,
            5,
            6,
            7,
            8,
            9,
            0,
            1,
            2,
            3,
            4,
            5,
            6,
            7,
            8,
            9,
            0,
            1,
            2,
            3,
            4,
            5,
            6,
            7,
            8,
            9,
            0,
            1,
            2,
            3,
            4,
            5,
            6,
            7,
            8,
            9,
            0,
            1,
            2,
            3,
            4,
            5,
            6,
            7,
            8,
            9
           ],
           "xaxis": "x",
           "y": [
            0,
            0,
            0,
            0,
            0,
            0,
            0,
            0,
            0,
            0,
            10,
            10,
            10,
            10,
            10,
            10,
            10,
            10,
            10,
            10,
            20,
            20,
            20,
            20,
            20,
            20,
            20,
            20,
            20,
            20,
            30,
            30,
            30,
            30,
            30,
            30,
            30,
            30,
            30,
            30,
            40,
            40,
            40,
            40,
            40,
            40,
            40,
            40,
            40,
            40,
            50,
            50,
            50,
            50,
            50,
            50,
            50,
            50,
            50,
            50,
            60,
            60,
            60,
            60,
            60,
            60,
            60,
            60,
            60,
            60,
            70,
            70,
            70,
            70,
            70,
            70,
            70,
            70,
            70,
            70,
            80,
            80,
            80,
            80,
            80,
            80,
            80,
            80,
            80,
            80,
            90,
            90,
            90,
            90,
            90,
            90,
            90,
            90,
            90,
            90
           ],
           "yaxis": "y"
          }
         ],
         "name": "7"
        },
        {
         "data": [
          {
           "hovertemplate": "status=OK<br>day=8<br>x=%{x}<br>y=%{y}<extra></extra>",
           "legendgroup": "OK",
           "marker": {
            "color": "#00FF00",
            "symbol": "circle"
           },
           "mode": "markers",
           "name": "OK",
           "orientation": "v",
           "showlegend": true,
           "type": "scatter",
           "x": [
            0,
            1,
            2,
            3,
            4,
            5,
            6,
            7,
            8,
            9,
            0,
            1,
            2,
            3,
            4,
            5,
            6,
            7,
            8,
            9,
            0,
            1,
            2,
            3,
            4,
            5,
            6,
            7,
            8,
            9,
            0,
            1,
            2,
            3,
            4,
            5,
            6,
            7,
            8,
            9,
            0,
            1,
            2,
            3,
            4,
            5,
            6,
            7,
            8,
            9,
            0,
            1,
            2,
            3,
            4,
            5,
            6,
            7,
            8,
            9,
            0,
            1,
            2,
            3,
            4,
            5,
            6,
            7,
            8,
            9,
            0,
            1,
            2,
            3,
            4,
            5,
            6,
            7,
            8,
            9,
            0,
            1,
            2,
            3,
            4,
            5,
            6,
            7,
            8,
            9,
            0,
            1,
            2,
            3,
            4,
            5,
            6,
            7,
            8,
            9
           ],
           "xaxis": "x",
           "y": [
            0,
            0,
            0,
            0,
            0,
            0,
            0,
            0,
            0,
            0,
            10,
            10,
            10,
            10,
            10,
            10,
            10,
            10,
            10,
            10,
            20,
            20,
            20,
            20,
            20,
            20,
            20,
            20,
            20,
            20,
            30,
            30,
            30,
            30,
            30,
            30,
            30,
            30,
            30,
            30,
            40,
            40,
            40,
            40,
            40,
            40,
            40,
            40,
            40,
            40,
            50,
            50,
            50,
            50,
            50,
            50,
            50,
            50,
            50,
            50,
            60,
            60,
            60,
            60,
            60,
            60,
            60,
            60,
            60,
            60,
            70,
            70,
            70,
            70,
            70,
            70,
            70,
            70,
            70,
            70,
            80,
            80,
            80,
            80,
            80,
            80,
            80,
            80,
            80,
            80,
            90,
            90,
            90,
            90,
            90,
            90,
            90,
            90,
            90,
            90
           ],
           "yaxis": "y"
          }
         ],
         "name": "8"
        },
        {
         "data": [
          {
           "hovertemplate": "status=OK<br>day=9<br>x=%{x}<br>y=%{y}<extra></extra>",
           "legendgroup": "OK",
           "marker": {
            "color": "#00FF00",
            "symbol": "circle"
           },
           "mode": "markers",
           "name": "OK",
           "orientation": "v",
           "showlegend": true,
           "type": "scatter",
           "x": [
            0,
            1,
            2,
            3,
            4,
            5,
            6,
            7,
            8,
            9,
            0,
            1,
            2,
            3,
            4,
            5,
            6,
            7,
            8,
            9,
            0,
            1,
            2,
            3,
            4,
            5,
            6,
            7,
            8,
            9,
            0,
            1,
            2,
            3,
            4,
            5,
            6,
            7,
            8,
            9,
            0,
            1,
            2,
            3,
            4,
            5,
            6,
            7,
            8,
            9,
            0,
            1,
            3,
            4,
            5,
            6,
            7,
            8,
            9,
            0,
            1,
            2,
            3,
            4,
            5,
            6,
            7,
            8,
            0,
            1,
            2,
            3,
            4,
            5,
            6,
            7,
            8,
            0,
            2,
            3,
            4,
            5,
            6,
            7,
            8,
            9,
            0,
            1,
            2,
            3,
            4,
            5,
            6,
            7,
            8
           ],
           "xaxis": "x",
           "y": [
            0,
            0,
            0,
            0,
            0,
            0,
            0,
            0,
            0,
            0,
            10,
            10,
            10,
            10,
            10,
            10,
            10,
            10,
            10,
            10,
            20,
            20,
            20,
            20,
            20,
            20,
            20,
            20,
            20,
            20,
            30,
            30,
            30,
            30,
            30,
            30,
            30,
            30,
            30,
            30,
            40,
            40,
            40,
            40,
            40,
            40,
            40,
            40,
            40,
            40,
            50,
            50,
            50,
            50,
            50,
            50,
            50,
            50,
            50,
            60,
            60,
            60,
            60,
            60,
            60,
            60,
            60,
            60,
            70,
            70,
            70,
            70,
            70,
            70,
            70,
            70,
            70,
            80,
            80,
            80,
            80,
            80,
            80,
            80,
            80,
            80,
            90,
            90,
            90,
            90,
            90,
            90,
            90,
            90,
            90
           ],
           "yaxis": "y"
          },
          {
           "hovertemplate": "status=FAIL<br>day=9<br>x=%{x}<br>y=%{y}<extra></extra>",
           "legendgroup": "FAIL",
           "marker": {
            "color": "#FF0000",
            "symbol": "circle"
           },
           "mode": "markers",
           "name": "FAIL",
           "orientation": "v",
           "showlegend": true,
           "type": "scatter",
           "x": [
            2,
            9,
            9,
            1,
            9
           ],
           "xaxis": "x",
           "y": [
            50,
            60,
            70,
            80,
            90
           ],
           "yaxis": "y"
          }
         ],
         "name": "9"
        },
        {
         "data": [
          {
           "hovertemplate": "status=OK<br>day=10<br>x=%{x}<br>y=%{y}<extra></extra>",
           "legendgroup": "OK",
           "marker": {
            "color": "#00FF00",
            "symbol": "circle"
           },
           "mode": "markers",
           "name": "OK",
           "orientation": "v",
           "showlegend": true,
           "type": "scatter",
           "x": [
            0,
            1,
            2,
            3,
            4,
            5,
            6,
            7,
            8,
            9,
            0,
            1,
            2,
            3,
            4,
            5,
            6,
            7,
            8,
            9,
            0,
            1,
            2,
            3,
            4,
            5,
            6,
            7,
            8,
            9,
            0,
            1,
            2,
            3,
            4,
            5,
            6,
            7,
            8,
            9,
            0,
            1,
            2,
            3,
            4,
            5,
            6,
            7,
            8,
            9,
            0,
            1,
            2,
            3,
            4,
            5,
            6,
            7,
            8,
            9,
            0,
            1,
            2,
            3,
            4,
            5,
            6,
            7,
            8,
            9,
            0,
            1,
            2,
            3,
            4,
            5,
            6,
            7,
            8,
            9,
            0,
            1,
            2,
            3,
            4,
            5,
            6,
            7,
            8,
            9,
            0,
            1,
            2,
            3,
            4,
            5,
            6,
            7,
            8,
            9
           ],
           "xaxis": "x",
           "y": [
            0,
            0,
            0,
            0,
            0,
            0,
            0,
            0,
            0,
            0,
            10,
            10,
            10,
            10,
            10,
            10,
            10,
            10,
            10,
            10,
            20,
            20,
            20,
            20,
            20,
            20,
            20,
            20,
            20,
            20,
            30,
            30,
            30,
            30,
            30,
            30,
            30,
            30,
            30,
            30,
            40,
            40,
            40,
            40,
            40,
            40,
            40,
            40,
            40,
            40,
            50,
            50,
            50,
            50,
            50,
            50,
            50,
            50,
            50,
            50,
            60,
            60,
            60,
            60,
            60,
            60,
            60,
            60,
            60,
            60,
            70,
            70,
            70,
            70,
            70,
            70,
            70,
            70,
            70,
            70,
            80,
            80,
            80,
            80,
            80,
            80,
            80,
            80,
            80,
            80,
            90,
            90,
            90,
            90,
            90,
            90,
            90,
            90,
            90,
            90
           ],
           "yaxis": "y"
          }
         ],
         "name": "10"
        },
        {
         "data": [
          {
           "hovertemplate": "status=OK<br>day=11<br>x=%{x}<br>y=%{y}<extra></extra>",
           "legendgroup": "OK",
           "marker": {
            "color": "#00FF00",
            "symbol": "circle"
           },
           "mode": "markers",
           "name": "OK",
           "orientation": "v",
           "showlegend": true,
           "type": "scatter",
           "x": [
            0,
            1,
            2,
            3,
            4,
            5,
            6,
            7,
            8,
            9,
            0,
            1,
            2,
            3,
            4,
            5,
            6,
            7,
            8,
            9,
            0,
            1,
            2,
            3,
            4,
            5,
            6,
            7,
            8,
            9,
            0,
            1,
            2,
            3,
            4,
            5,
            6,
            7,
            8,
            9,
            0,
            1,
            2,
            3,
            4,
            5,
            6,
            7,
            8,
            9,
            0,
            1,
            2,
            3,
            4,
            5,
            6,
            7,
            8,
            9,
            0,
            1,
            2,
            3,
            4,
            5,
            6,
            7,
            8,
            9,
            0,
            1,
            2,
            3,
            4,
            5,
            6,
            7,
            8,
            9,
            0,
            1,
            2,
            3,
            4,
            5,
            6,
            7,
            8,
            9,
            0,
            1,
            2,
            3,
            4,
            5,
            6,
            7,
            8,
            9
           ],
           "xaxis": "x",
           "y": [
            0,
            0,
            0,
            0,
            0,
            0,
            0,
            0,
            0,
            0,
            10,
            10,
            10,
            10,
            10,
            10,
            10,
            10,
            10,
            10,
            20,
            20,
            20,
            20,
            20,
            20,
            20,
            20,
            20,
            20,
            30,
            30,
            30,
            30,
            30,
            30,
            30,
            30,
            30,
            30,
            40,
            40,
            40,
            40,
            40,
            40,
            40,
            40,
            40,
            40,
            50,
            50,
            50,
            50,
            50,
            50,
            50,
            50,
            50,
            50,
            60,
            60,
            60,
            60,
            60,
            60,
            60,
            60,
            60,
            60,
            70,
            70,
            70,
            70,
            70,
            70,
            70,
            70,
            70,
            70,
            80,
            80,
            80,
            80,
            80,
            80,
            80,
            80,
            80,
            80,
            90,
            90,
            90,
            90,
            90,
            90,
            90,
            90,
            90,
            90
           ],
           "yaxis": "y"
          }
         ],
         "name": "11"
        },
        {
         "data": [
          {
           "hovertemplate": "status=OK<br>day=12<br>x=%{x}<br>y=%{y}<extra></extra>",
           "legendgroup": "OK",
           "marker": {
            "color": "#00FF00",
            "symbol": "circle"
           },
           "mode": "markers",
           "name": "OK",
           "orientation": "v",
           "showlegend": true,
           "type": "scatter",
           "x": [
            0,
            1,
            2,
            3,
            4,
            5,
            6,
            7,
            8,
            9,
            0,
            1,
            2,
            3,
            4,
            5,
            6,
            7,
            8,
            9,
            0,
            1,
            2,
            3,
            4,
            5,
            6,
            7,
            8,
            9,
            0,
            1,
            2,
            3,
            4,
            5,
            6,
            7,
            8,
            9,
            0,
            1,
            2,
            3,
            4,
            5,
            6,
            7,
            8,
            9,
            1,
            2,
            3,
            4,
            5,
            6,
            8,
            9,
            0,
            1,
            2,
            3,
            4,
            5,
            6,
            7,
            8,
            9,
            0,
            1,
            2,
            3,
            4,
            5,
            6,
            7,
            8,
            9,
            0,
            1,
            2,
            3,
            4,
            5,
            6,
            7,
            8,
            9,
            0,
            1,
            2,
            3,
            4,
            5,
            6,
            7,
            8,
            9
           ],
           "xaxis": "x",
           "y": [
            0,
            0,
            0,
            0,
            0,
            0,
            0,
            0,
            0,
            0,
            10,
            10,
            10,
            10,
            10,
            10,
            10,
            10,
            10,
            10,
            20,
            20,
            20,
            20,
            20,
            20,
            20,
            20,
            20,
            20,
            30,
            30,
            30,
            30,
            30,
            30,
            30,
            30,
            30,
            30,
            40,
            40,
            40,
            40,
            40,
            40,
            40,
            40,
            40,
            40,
            50,
            50,
            50,
            50,
            50,
            50,
            50,
            50,
            60,
            60,
            60,
            60,
            60,
            60,
            60,
            60,
            60,
            60,
            70,
            70,
            70,
            70,
            70,
            70,
            70,
            70,
            70,
            70,
            80,
            80,
            80,
            80,
            80,
            80,
            80,
            80,
            80,
            80,
            90,
            90,
            90,
            90,
            90,
            90,
            90,
            90,
            90,
            90
           ],
           "yaxis": "y"
          },
          {
           "hovertemplate": "status=FAIL<br>day=12<br>x=%{x}<br>y=%{y}<extra></extra>",
           "legendgroup": "FAIL",
           "marker": {
            "color": "#FF0000",
            "symbol": "circle"
           },
           "mode": "markers",
           "name": "FAIL",
           "orientation": "v",
           "showlegend": true,
           "type": "scatter",
           "x": [
            0,
            7
           ],
           "xaxis": "x",
           "y": [
            50,
            50
           ],
           "yaxis": "y"
          }
         ],
         "name": "12"
        },
        {
         "data": [
          {
           "hovertemplate": "status=OK<br>day=13<br>x=%{x}<br>y=%{y}<extra></extra>",
           "legendgroup": "OK",
           "marker": {
            "color": "#00FF00",
            "symbol": "circle"
           },
           "mode": "markers",
           "name": "OK",
           "orientation": "v",
           "showlegend": true,
           "type": "scatter",
           "x": [
            0,
            1,
            2,
            3,
            4,
            5,
            6,
            7,
            8,
            9,
            0,
            1,
            2,
            3,
            4,
            5,
            6,
            7,
            8,
            9,
            0,
            1,
            2,
            3,
            4,
            5,
            6,
            7,
            8,
            9,
            0,
            1,
            2,
            3,
            4,
            5,
            6,
            7,
            8,
            9,
            0,
            1,
            2,
            3,
            4,
            5,
            6,
            7,
            8,
            9,
            0,
            1,
            2,
            3,
            4,
            5,
            6,
            7,
            8,
            9,
            0,
            1,
            2,
            3,
            4,
            5,
            6,
            8,
            9,
            0,
            1,
            2,
            3,
            4,
            5,
            6,
            7,
            8,
            9,
            1,
            2,
            3,
            4,
            5,
            6,
            7,
            8,
            9,
            0,
            1,
            2,
            3,
            4,
            5,
            6,
            7,
            8,
            9
           ],
           "xaxis": "x",
           "y": [
            0,
            0,
            0,
            0,
            0,
            0,
            0,
            0,
            0,
            0,
            10,
            10,
            10,
            10,
            10,
            10,
            10,
            10,
            10,
            10,
            20,
            20,
            20,
            20,
            20,
            20,
            20,
            20,
            20,
            20,
            30,
            30,
            30,
            30,
            30,
            30,
            30,
            30,
            30,
            30,
            40,
            40,
            40,
            40,
            40,
            40,
            40,
            40,
            40,
            40,
            50,
            50,
            50,
            50,
            50,
            50,
            50,
            50,
            50,
            50,
            60,
            60,
            60,
            60,
            60,
            60,
            60,
            60,
            60,
            70,
            70,
            70,
            70,
            70,
            70,
            70,
            70,
            70,
            70,
            80,
            80,
            80,
            80,
            80,
            80,
            80,
            80,
            80,
            90,
            90,
            90,
            90,
            90,
            90,
            90,
            90,
            90,
            90
           ],
           "yaxis": "y"
          },
          {
           "hovertemplate": "status=FAIL<br>day=13<br>x=%{x}<br>y=%{y}<extra></extra>",
           "legendgroup": "FAIL",
           "marker": {
            "color": "#FF0000",
            "symbol": "circle"
           },
           "mode": "markers",
           "name": "FAIL",
           "orientation": "v",
           "showlegend": true,
           "type": "scatter",
           "x": [
            7,
            0
           ],
           "xaxis": "x",
           "y": [
            60,
            80
           ],
           "yaxis": "y"
          }
         ],
         "name": "13"
        },
        {
         "data": [
          {
           "hovertemplate": "status=OK<br>day=14<br>x=%{x}<br>y=%{y}<extra></extra>",
           "legendgroup": "OK",
           "marker": {
            "color": "#00FF00",
            "symbol": "circle"
           },
           "mode": "markers",
           "name": "OK",
           "orientation": "v",
           "showlegend": true,
           "type": "scatter",
           "x": [
            0,
            1,
            2,
            3,
            4,
            5,
            6,
            7,
            9,
            0,
            1,
            2,
            3,
            4,
            5,
            6,
            7,
            8,
            9,
            0,
            1,
            2,
            3,
            4,
            5,
            6,
            7,
            8,
            9,
            0,
            1,
            2,
            3,
            4,
            5,
            6,
            7,
            8,
            9,
            0,
            1,
            2,
            3,
            4,
            5,
            6,
            7,
            8,
            9,
            0,
            1,
            2,
            3,
            4,
            5,
            6,
            7,
            8,
            9,
            0,
            1,
            2,
            3,
            4,
            5,
            6,
            7,
            8,
            9,
            0,
            1,
            2,
            3,
            4,
            5,
            6,
            7,
            8,
            9,
            0,
            1,
            2,
            3,
            4,
            5,
            6,
            7,
            8,
            9,
            0,
            1,
            2,
            3,
            4,
            5,
            6,
            7,
            8,
            9
           ],
           "xaxis": "x",
           "y": [
            0,
            0,
            0,
            0,
            0,
            0,
            0,
            0,
            0,
            10,
            10,
            10,
            10,
            10,
            10,
            10,
            10,
            10,
            10,
            20,
            20,
            20,
            20,
            20,
            20,
            20,
            20,
            20,
            20,
            30,
            30,
            30,
            30,
            30,
            30,
            30,
            30,
            30,
            30,
            40,
            40,
            40,
            40,
            40,
            40,
            40,
            40,
            40,
            40,
            50,
            50,
            50,
            50,
            50,
            50,
            50,
            50,
            50,
            50,
            60,
            60,
            60,
            60,
            60,
            60,
            60,
            60,
            60,
            60,
            70,
            70,
            70,
            70,
            70,
            70,
            70,
            70,
            70,
            70,
            80,
            80,
            80,
            80,
            80,
            80,
            80,
            80,
            80,
            80,
            90,
            90,
            90,
            90,
            90,
            90,
            90,
            90,
            90,
            90
           ],
           "yaxis": "y"
          },
          {
           "hovertemplate": "status=FAIL<br>day=14<br>x=%{x}<br>y=%{y}<extra></extra>",
           "legendgroup": "FAIL",
           "marker": {
            "color": "#FF0000",
            "symbol": "circle"
           },
           "mode": "markers",
           "name": "FAIL",
           "orientation": "v",
           "showlegend": true,
           "type": "scatter",
           "x": [
            8
           ],
           "xaxis": "x",
           "y": [
            0
           ],
           "yaxis": "y"
          }
         ],
         "name": "14"
        },
        {
         "data": [
          {
           "hovertemplate": "status=OK<br>day=15<br>x=%{x}<br>y=%{y}<extra></extra>",
           "legendgroup": "OK",
           "marker": {
            "color": "#00FF00",
            "symbol": "circle"
           },
           "mode": "markers",
           "name": "OK",
           "orientation": "v",
           "showlegend": true,
           "type": "scatter",
           "x": [
            0,
            1,
            2,
            3,
            4,
            5,
            6,
            7,
            8,
            9,
            0,
            1,
            2,
            3,
            4,
            5,
            6,
            7,
            8,
            9,
            0,
            1,
            2,
            3,
            4,
            5,
            6,
            7,
            8,
            9,
            0,
            1,
            2,
            3,
            4,
            5,
            6,
            7,
            8,
            9,
            0,
            1,
            2,
            3,
            4,
            5,
            6,
            7,
            8,
            9,
            0,
            1,
            2,
            3,
            4,
            5,
            6,
            7,
            8,
            9,
            0,
            1,
            2,
            3,
            4,
            5,
            6,
            7,
            8,
            9,
            0,
            1,
            2,
            3,
            4,
            5,
            6,
            7,
            8,
            9,
            0,
            1,
            2,
            3,
            4,
            5,
            6,
            7,
            8,
            9,
            0,
            1,
            2,
            3,
            4,
            5,
            6,
            7,
            8,
            9
           ],
           "xaxis": "x",
           "y": [
            0,
            0,
            0,
            0,
            0,
            0,
            0,
            0,
            0,
            0,
            10,
            10,
            10,
            10,
            10,
            10,
            10,
            10,
            10,
            10,
            20,
            20,
            20,
            20,
            20,
            20,
            20,
            20,
            20,
            20,
            30,
            30,
            30,
            30,
            30,
            30,
            30,
            30,
            30,
            30,
            40,
            40,
            40,
            40,
            40,
            40,
            40,
            40,
            40,
            40,
            50,
            50,
            50,
            50,
            50,
            50,
            50,
            50,
            50,
            50,
            60,
            60,
            60,
            60,
            60,
            60,
            60,
            60,
            60,
            60,
            70,
            70,
            70,
            70,
            70,
            70,
            70,
            70,
            70,
            70,
            80,
            80,
            80,
            80,
            80,
            80,
            80,
            80,
            80,
            80,
            90,
            90,
            90,
            90,
            90,
            90,
            90,
            90,
            90,
            90
           ],
           "yaxis": "y"
          }
         ],
         "name": "15"
        },
        {
         "data": [
          {
           "hovertemplate": "status=OK<br>day=16<br>x=%{x}<br>y=%{y}<extra></extra>",
           "legendgroup": "OK",
           "marker": {
            "color": "#00FF00",
            "symbol": "circle"
           },
           "mode": "markers",
           "name": "OK",
           "orientation": "v",
           "showlegend": true,
           "type": "scatter",
           "x": [
            0,
            1,
            2,
            3,
            4,
            5,
            6,
            7,
            8,
            9,
            0,
            1,
            2,
            3,
            4,
            5,
            6,
            7,
            8,
            9,
            0,
            1,
            2,
            3,
            4,
            5,
            6,
            7,
            8,
            9,
            0,
            1,
            2,
            3,
            4,
            5,
            6,
            7,
            8,
            9,
            0,
            1,
            2,
            3,
            4,
            5,
            6,
            7,
            8,
            9,
            0,
            1,
            2,
            3,
            4,
            5,
            6,
            7,
            8,
            9,
            0,
            1,
            2,
            3,
            4,
            5,
            6,
            7,
            8,
            9,
            0,
            1,
            2,
            3,
            4,
            5,
            6,
            7,
            8,
            9,
            0,
            1,
            2,
            3,
            4,
            5,
            6,
            7,
            8,
            9,
            0,
            1,
            2,
            3,
            4,
            5,
            6,
            7,
            8,
            9
           ],
           "xaxis": "x",
           "y": [
            0,
            0,
            0,
            0,
            0,
            0,
            0,
            0,
            0,
            0,
            10,
            10,
            10,
            10,
            10,
            10,
            10,
            10,
            10,
            10,
            20,
            20,
            20,
            20,
            20,
            20,
            20,
            20,
            20,
            20,
            30,
            30,
            30,
            30,
            30,
            30,
            30,
            30,
            30,
            30,
            40,
            40,
            40,
            40,
            40,
            40,
            40,
            40,
            40,
            40,
            50,
            50,
            50,
            50,
            50,
            50,
            50,
            50,
            50,
            50,
            60,
            60,
            60,
            60,
            60,
            60,
            60,
            60,
            60,
            60,
            70,
            70,
            70,
            70,
            70,
            70,
            70,
            70,
            70,
            70,
            80,
            80,
            80,
            80,
            80,
            80,
            80,
            80,
            80,
            80,
            90,
            90,
            90,
            90,
            90,
            90,
            90,
            90,
            90,
            90
           ],
           "yaxis": "y"
          }
         ],
         "name": "16"
        },
        {
         "data": [
          {
           "hovertemplate": "status=OK<br>day=17<br>x=%{x}<br>y=%{y}<extra></extra>",
           "legendgroup": "OK",
           "marker": {
            "color": "#00FF00",
            "symbol": "circle"
           },
           "mode": "markers",
           "name": "OK",
           "orientation": "v",
           "showlegend": true,
           "type": "scatter",
           "x": [
            0,
            1,
            2,
            3,
            4,
            5,
            6,
            7,
            8,
            9,
            0,
            1,
            2,
            3,
            4,
            5,
            6,
            7,
            8,
            9,
            0,
            1,
            2,
            3,
            4,
            5,
            6,
            7,
            8,
            9,
            0,
            1,
            2,
            3,
            4,
            5,
            6,
            7,
            8,
            9,
            0,
            1,
            2,
            3,
            4,
            5,
            6,
            7,
            8,
            9,
            0,
            1,
            2,
            3,
            4,
            5,
            6,
            7,
            8,
            9,
            0,
            1,
            2,
            3,
            4,
            5,
            6,
            7,
            8,
            9,
            0,
            1,
            2,
            3,
            4,
            5,
            6,
            8,
            9,
            0,
            1,
            2,
            3,
            4,
            5,
            6,
            7,
            8,
            9,
            0,
            1,
            2,
            3,
            4,
            5,
            6,
            7,
            8,
            9
           ],
           "xaxis": "x",
           "y": [
            0,
            0,
            0,
            0,
            0,
            0,
            0,
            0,
            0,
            0,
            10,
            10,
            10,
            10,
            10,
            10,
            10,
            10,
            10,
            10,
            20,
            20,
            20,
            20,
            20,
            20,
            20,
            20,
            20,
            20,
            30,
            30,
            30,
            30,
            30,
            30,
            30,
            30,
            30,
            30,
            40,
            40,
            40,
            40,
            40,
            40,
            40,
            40,
            40,
            40,
            50,
            50,
            50,
            50,
            50,
            50,
            50,
            50,
            50,
            50,
            60,
            60,
            60,
            60,
            60,
            60,
            60,
            60,
            60,
            60,
            70,
            70,
            70,
            70,
            70,
            70,
            70,
            70,
            70,
            80,
            80,
            80,
            80,
            80,
            80,
            80,
            80,
            80,
            80,
            90,
            90,
            90,
            90,
            90,
            90,
            90,
            90,
            90,
            90
           ],
           "yaxis": "y"
          },
          {
           "hovertemplate": "status=FAIL<br>day=17<br>x=%{x}<br>y=%{y}<extra></extra>",
           "legendgroup": "FAIL",
           "marker": {
            "color": "#FF0000",
            "symbol": "circle"
           },
           "mode": "markers",
           "name": "FAIL",
           "orientation": "v",
           "showlegend": true,
           "type": "scatter",
           "x": [
            7
           ],
           "xaxis": "x",
           "y": [
            70
           ],
           "yaxis": "y"
          }
         ],
         "name": "17"
        },
        {
         "data": [
          {
           "hovertemplate": "status=OK<br>day=18<br>x=%{x}<br>y=%{y}<extra></extra>",
           "legendgroup": "OK",
           "marker": {
            "color": "#00FF00",
            "symbol": "circle"
           },
           "mode": "markers",
           "name": "OK",
           "orientation": "v",
           "showlegend": true,
           "type": "scatter",
           "x": [
            0,
            1,
            2,
            3,
            4,
            5,
            6,
            7,
            8,
            9,
            0,
            1,
            2,
            3,
            4,
            5,
            6,
            7,
            8,
            9,
            0,
            1,
            2,
            3,
            4,
            5,
            6,
            7,
            8,
            9,
            0,
            1,
            2,
            3,
            4,
            5,
            6,
            7,
            8,
            9,
            0,
            1,
            2,
            3,
            4,
            5,
            6,
            7,
            8,
            9,
            0,
            1,
            2,
            3,
            4,
            5,
            6,
            7,
            8,
            9,
            0,
            1,
            2,
            3,
            4,
            5,
            6,
            7,
            8,
            9,
            0,
            1,
            2,
            3,
            4,
            5,
            6,
            7,
            8,
            9,
            0,
            1,
            2,
            3,
            4,
            5,
            6,
            7,
            8,
            9,
            0,
            1,
            2,
            3,
            4,
            5,
            6,
            7,
            8,
            9
           ],
           "xaxis": "x",
           "y": [
            0,
            0,
            0,
            0,
            0,
            0,
            0,
            0,
            0,
            0,
            10,
            10,
            10,
            10,
            10,
            10,
            10,
            10,
            10,
            10,
            20,
            20,
            20,
            20,
            20,
            20,
            20,
            20,
            20,
            20,
            30,
            30,
            30,
            30,
            30,
            30,
            30,
            30,
            30,
            30,
            40,
            40,
            40,
            40,
            40,
            40,
            40,
            40,
            40,
            40,
            50,
            50,
            50,
            50,
            50,
            50,
            50,
            50,
            50,
            50,
            60,
            60,
            60,
            60,
            60,
            60,
            60,
            60,
            60,
            60,
            70,
            70,
            70,
            70,
            70,
            70,
            70,
            70,
            70,
            70,
            80,
            80,
            80,
            80,
            80,
            80,
            80,
            80,
            80,
            80,
            90,
            90,
            90,
            90,
            90,
            90,
            90,
            90,
            90,
            90
           ],
           "yaxis": "y"
          }
         ],
         "name": "18"
        },
        {
         "data": [
          {
           "hovertemplate": "status=OK<br>day=19<br>x=%{x}<br>y=%{y}<extra></extra>",
           "legendgroup": "OK",
           "marker": {
            "color": "#00FF00",
            "symbol": "circle"
           },
           "mode": "markers",
           "name": "OK",
           "orientation": "v",
           "showlegend": true,
           "type": "scatter",
           "x": [
            0,
            1,
            2,
            3,
            4,
            5,
            6,
            7,
            8,
            9,
            0,
            1,
            2,
            3,
            4,
            5,
            6,
            7,
            8,
            9,
            0,
            1,
            2,
            3,
            4,
            5,
            6,
            7,
            8,
            9,
            0,
            1,
            2,
            3,
            4,
            5,
            6,
            7,
            8,
            9,
            0,
            1,
            2,
            3,
            4,
            5,
            6,
            7,
            8,
            9,
            0,
            1,
            2,
            3,
            4,
            5,
            6,
            7,
            8,
            9,
            0,
            1,
            2,
            3,
            4,
            5,
            6,
            7,
            8,
            9,
            0,
            1,
            2,
            3,
            4,
            5,
            6,
            7,
            8,
            9,
            0,
            1,
            2,
            3,
            4,
            5,
            6,
            7,
            8,
            9,
            0,
            1,
            2,
            4,
            5,
            6,
            7,
            8,
            9
           ],
           "xaxis": "x",
           "y": [
            0,
            0,
            0,
            0,
            0,
            0,
            0,
            0,
            0,
            0,
            10,
            10,
            10,
            10,
            10,
            10,
            10,
            10,
            10,
            10,
            20,
            20,
            20,
            20,
            20,
            20,
            20,
            20,
            20,
            20,
            30,
            30,
            30,
            30,
            30,
            30,
            30,
            30,
            30,
            30,
            40,
            40,
            40,
            40,
            40,
            40,
            40,
            40,
            40,
            40,
            50,
            50,
            50,
            50,
            50,
            50,
            50,
            50,
            50,
            50,
            60,
            60,
            60,
            60,
            60,
            60,
            60,
            60,
            60,
            60,
            70,
            70,
            70,
            70,
            70,
            70,
            70,
            70,
            70,
            70,
            80,
            80,
            80,
            80,
            80,
            80,
            80,
            80,
            80,
            80,
            90,
            90,
            90,
            90,
            90,
            90,
            90,
            90,
            90
           ],
           "yaxis": "y"
          },
          {
           "hovertemplate": "status=FAIL<br>day=19<br>x=%{x}<br>y=%{y}<extra></extra>",
           "legendgroup": "FAIL",
           "marker": {
            "color": "#FF0000",
            "symbol": "circle"
           },
           "mode": "markers",
           "name": "FAIL",
           "orientation": "v",
           "showlegend": true,
           "type": "scatter",
           "x": [
            3
           ],
           "xaxis": "x",
           "y": [
            90
           ],
           "yaxis": "y"
          }
         ],
         "name": "19"
        },
        {
         "data": [
          {
           "hovertemplate": "status=OK<br>day=20<br>x=%{x}<br>y=%{y}<extra></extra>",
           "legendgroup": "OK",
           "marker": {
            "color": "#00FF00",
            "symbol": "circle"
           },
           "mode": "markers",
           "name": "OK",
           "orientation": "v",
           "showlegend": true,
           "type": "scatter",
           "x": [
            0,
            1,
            2,
            3,
            4,
            5,
            6,
            7,
            8,
            9,
            0,
            1,
            2,
            3,
            4,
            5,
            6,
            7,
            8,
            9,
            0,
            1,
            2,
            3,
            4,
            5,
            6,
            7,
            8,
            9,
            0,
            1,
            2,
            3,
            4,
            5,
            6,
            7,
            8,
            9,
            0,
            1,
            2,
            3,
            4,
            5,
            7,
            8,
            9,
            0,
            1,
            2,
            3,
            4,
            5,
            6,
            7,
            8,
            9,
            0,
            1,
            2,
            3,
            4,
            5,
            6,
            7,
            8,
            9,
            0,
            1,
            2,
            3,
            4,
            5,
            6,
            7,
            8,
            9,
            0,
            1,
            2,
            3,
            4,
            5,
            6,
            7,
            8,
            9,
            0,
            1,
            2,
            3,
            4,
            5,
            6,
            7,
            8,
            9
           ],
           "xaxis": "x",
           "y": [
            0,
            0,
            0,
            0,
            0,
            0,
            0,
            0,
            0,
            0,
            10,
            10,
            10,
            10,
            10,
            10,
            10,
            10,
            10,
            10,
            20,
            20,
            20,
            20,
            20,
            20,
            20,
            20,
            20,
            20,
            30,
            30,
            30,
            30,
            30,
            30,
            30,
            30,
            30,
            30,
            40,
            40,
            40,
            40,
            40,
            40,
            40,
            40,
            40,
            50,
            50,
            50,
            50,
            50,
            50,
            50,
            50,
            50,
            50,
            60,
            60,
            60,
            60,
            60,
            60,
            60,
            60,
            60,
            60,
            70,
            70,
            70,
            70,
            70,
            70,
            70,
            70,
            70,
            70,
            80,
            80,
            80,
            80,
            80,
            80,
            80,
            80,
            80,
            80,
            90,
            90,
            90,
            90,
            90,
            90,
            90,
            90,
            90,
            90
           ],
           "yaxis": "y"
          },
          {
           "hovertemplate": "status=FAIL<br>day=20<br>x=%{x}<br>y=%{y}<extra></extra>",
           "legendgroup": "FAIL",
           "marker": {
            "color": "#FF0000",
            "symbol": "circle"
           },
           "mode": "markers",
           "name": "FAIL",
           "orientation": "v",
           "showlegend": true,
           "type": "scatter",
           "x": [
            6
           ],
           "xaxis": "x",
           "y": [
            40
           ],
           "yaxis": "y"
          }
         ],
         "name": "20"
        },
        {
         "data": [
          {
           "hovertemplate": "status=OK<br>day=21<br>x=%{x}<br>y=%{y}<extra></extra>",
           "legendgroup": "OK",
           "marker": {
            "color": "#00FF00",
            "symbol": "circle"
           },
           "mode": "markers",
           "name": "OK",
           "orientation": "v",
           "showlegend": true,
           "type": "scatter",
           "x": [
            0,
            1,
            2,
            3,
            4,
            5,
            6,
            7,
            8,
            9,
            0,
            1,
            2,
            3,
            4,
            5,
            6,
            7,
            8,
            9,
            0,
            1,
            2,
            3,
            4,
            5,
            6,
            7,
            8,
            9,
            0,
            1,
            2,
            3,
            4,
            5,
            6,
            7,
            8,
            9,
            0,
            1,
            2,
            3,
            4,
            5,
            6,
            7,
            8,
            9,
            0,
            1,
            2,
            3,
            4,
            5,
            6,
            7,
            8,
            9,
            0,
            1,
            2,
            3,
            4,
            5,
            6,
            7,
            8,
            9,
            0,
            1,
            2,
            3,
            4,
            5,
            6,
            7,
            8,
            9,
            0,
            1,
            2,
            3,
            4,
            5,
            6,
            7,
            8,
            9,
            0,
            1,
            2,
            3,
            4,
            5,
            6,
            7,
            8,
            9
           ],
           "xaxis": "x",
           "y": [
            0,
            0,
            0,
            0,
            0,
            0,
            0,
            0,
            0,
            0,
            10,
            10,
            10,
            10,
            10,
            10,
            10,
            10,
            10,
            10,
            20,
            20,
            20,
            20,
            20,
            20,
            20,
            20,
            20,
            20,
            30,
            30,
            30,
            30,
            30,
            30,
            30,
            30,
            30,
            30,
            40,
            40,
            40,
            40,
            40,
            40,
            40,
            40,
            40,
            40,
            50,
            50,
            50,
            50,
            50,
            50,
            50,
            50,
            50,
            50,
            60,
            60,
            60,
            60,
            60,
            60,
            60,
            60,
            60,
            60,
            70,
            70,
            70,
            70,
            70,
            70,
            70,
            70,
            70,
            70,
            80,
            80,
            80,
            80,
            80,
            80,
            80,
            80,
            80,
            80,
            90,
            90,
            90,
            90,
            90,
            90,
            90,
            90,
            90,
            90
           ],
           "yaxis": "y"
          }
         ],
         "name": "21"
        },
        {
         "data": [
          {
           "hovertemplate": "status=OK<br>day=22<br>x=%{x}<br>y=%{y}<extra></extra>",
           "legendgroup": "OK",
           "marker": {
            "color": "#00FF00",
            "symbol": "circle"
           },
           "mode": "markers",
           "name": "OK",
           "orientation": "v",
           "showlegend": true,
           "type": "scatter",
           "x": [
            0,
            1,
            2,
            3,
            4,
            5,
            6,
            7,
            8,
            9,
            0,
            1,
            3,
            4,
            5,
            6,
            7,
            8,
            9,
            0,
            1,
            2,
            3,
            4,
            5,
            6,
            7,
            8,
            9,
            0,
            1,
            2,
            3,
            4,
            5,
            6,
            7,
            8,
            9,
            0,
            1,
            2,
            3,
            4,
            5,
            6,
            7,
            8,
            9,
            0,
            1,
            2,
            3,
            4,
            5,
            6,
            7,
            8,
            9,
            0,
            1,
            2,
            3,
            4,
            5,
            6,
            7,
            8,
            9,
            0,
            1,
            2,
            3,
            4,
            5,
            6,
            7,
            8,
            9,
            0,
            1,
            2,
            3,
            4,
            5,
            6,
            7,
            8,
            9,
            0,
            1,
            2,
            3,
            4,
            5,
            6,
            7,
            8,
            9
           ],
           "xaxis": "x",
           "y": [
            0,
            0,
            0,
            0,
            0,
            0,
            0,
            0,
            0,
            0,
            10,
            10,
            10,
            10,
            10,
            10,
            10,
            10,
            10,
            20,
            20,
            20,
            20,
            20,
            20,
            20,
            20,
            20,
            20,
            30,
            30,
            30,
            30,
            30,
            30,
            30,
            30,
            30,
            30,
            40,
            40,
            40,
            40,
            40,
            40,
            40,
            40,
            40,
            40,
            50,
            50,
            50,
            50,
            50,
            50,
            50,
            50,
            50,
            50,
            60,
            60,
            60,
            60,
            60,
            60,
            60,
            60,
            60,
            60,
            70,
            70,
            70,
            70,
            70,
            70,
            70,
            70,
            70,
            70,
            80,
            80,
            80,
            80,
            80,
            80,
            80,
            80,
            80,
            80,
            90,
            90,
            90,
            90,
            90,
            90,
            90,
            90,
            90,
            90
           ],
           "yaxis": "y"
          },
          {
           "hovertemplate": "status=FAIL<br>day=22<br>x=%{x}<br>y=%{y}<extra></extra>",
           "legendgroup": "FAIL",
           "marker": {
            "color": "#FF0000",
            "symbol": "circle"
           },
           "mode": "markers",
           "name": "FAIL",
           "orientation": "v",
           "showlegend": true,
           "type": "scatter",
           "x": [
            2
           ],
           "xaxis": "x",
           "y": [
            10
           ],
           "yaxis": "y"
          }
         ],
         "name": "22"
        },
        {
         "data": [
          {
           "hovertemplate": "status=OK<br>day=23<br>x=%{x}<br>y=%{y}<extra></extra>",
           "legendgroup": "OK",
           "marker": {
            "color": "#00FF00",
            "symbol": "circle"
           },
           "mode": "markers",
           "name": "OK",
           "orientation": "v",
           "showlegend": true,
           "type": "scatter",
           "x": [
            0,
            1,
            2,
            3,
            4,
            5,
            6,
            7,
            8,
            9,
            0,
            1,
            2,
            3,
            4,
            5,
            6,
            7,
            8,
            9,
            0,
            1,
            2,
            3,
            4,
            5,
            6,
            7,
            8,
            9,
            0,
            1,
            2,
            3,
            4,
            5,
            6,
            7,
            8,
            9,
            0,
            1,
            2,
            3,
            4,
            5,
            6,
            7,
            8,
            9,
            0,
            1,
            2,
            3,
            4,
            5,
            6,
            7,
            8,
            9,
            0,
            1,
            2,
            3,
            4,
            5,
            6,
            7,
            8,
            9,
            0,
            1,
            2,
            3,
            4,
            5,
            6,
            7,
            8,
            9,
            0,
            1,
            2,
            3,
            4,
            5,
            6,
            7,
            8,
            9,
            0,
            1,
            2,
            3,
            4,
            5,
            6,
            7,
            8,
            9
           ],
           "xaxis": "x",
           "y": [
            0,
            0,
            0,
            0,
            0,
            0,
            0,
            0,
            0,
            0,
            10,
            10,
            10,
            10,
            10,
            10,
            10,
            10,
            10,
            10,
            20,
            20,
            20,
            20,
            20,
            20,
            20,
            20,
            20,
            20,
            30,
            30,
            30,
            30,
            30,
            30,
            30,
            30,
            30,
            30,
            40,
            40,
            40,
            40,
            40,
            40,
            40,
            40,
            40,
            40,
            50,
            50,
            50,
            50,
            50,
            50,
            50,
            50,
            50,
            50,
            60,
            60,
            60,
            60,
            60,
            60,
            60,
            60,
            60,
            60,
            70,
            70,
            70,
            70,
            70,
            70,
            70,
            70,
            70,
            70,
            80,
            80,
            80,
            80,
            80,
            80,
            80,
            80,
            80,
            80,
            90,
            90,
            90,
            90,
            90,
            90,
            90,
            90,
            90,
            90
           ],
           "yaxis": "y"
          }
         ],
         "name": "23"
        },
        {
         "data": [
          {
           "hovertemplate": "status=OK<br>day=24<br>x=%{x}<br>y=%{y}<extra></extra>",
           "legendgroup": "OK",
           "marker": {
            "color": "#00FF00",
            "symbol": "circle"
           },
           "mode": "markers",
           "name": "OK",
           "orientation": "v",
           "showlegend": true,
           "type": "scatter",
           "x": [
            0,
            1,
            2,
            3,
            4,
            5,
            6,
            7,
            8,
            9,
            0,
            1,
            2,
            3,
            4,
            5,
            6,
            7,
            8,
            9,
            0,
            1,
            2,
            3,
            4,
            5,
            6,
            7,
            8,
            9,
            0,
            1,
            2,
            3,
            4,
            5,
            6,
            7,
            8,
            9,
            0,
            1,
            2,
            3,
            4,
            5,
            6,
            7,
            8,
            9,
            0,
            1,
            2,
            3,
            4,
            5,
            6,
            7,
            8,
            9,
            0,
            2,
            3,
            4,
            5,
            6,
            7,
            8,
            9,
            0,
            1,
            2,
            3,
            4,
            5,
            6,
            7,
            8,
            9,
            0,
            1,
            2,
            3,
            4,
            5,
            6,
            7,
            8,
            9,
            0,
            1,
            2,
            3,
            4,
            5,
            6,
            7,
            8,
            9
           ],
           "xaxis": "x",
           "y": [
            0,
            0,
            0,
            0,
            0,
            0,
            0,
            0,
            0,
            0,
            10,
            10,
            10,
            10,
            10,
            10,
            10,
            10,
            10,
            10,
            20,
            20,
            20,
            20,
            20,
            20,
            20,
            20,
            20,
            20,
            30,
            30,
            30,
            30,
            30,
            30,
            30,
            30,
            30,
            30,
            40,
            40,
            40,
            40,
            40,
            40,
            40,
            40,
            40,
            40,
            50,
            50,
            50,
            50,
            50,
            50,
            50,
            50,
            50,
            50,
            60,
            60,
            60,
            60,
            60,
            60,
            60,
            60,
            60,
            70,
            70,
            70,
            70,
            70,
            70,
            70,
            70,
            70,
            70,
            80,
            80,
            80,
            80,
            80,
            80,
            80,
            80,
            80,
            80,
            90,
            90,
            90,
            90,
            90,
            90,
            90,
            90,
            90,
            90
           ],
           "yaxis": "y"
          },
          {
           "hovertemplate": "status=FAIL<br>day=24<br>x=%{x}<br>y=%{y}<extra></extra>",
           "legendgroup": "FAIL",
           "marker": {
            "color": "#FF0000",
            "symbol": "circle"
           },
           "mode": "markers",
           "name": "FAIL",
           "orientation": "v",
           "showlegend": true,
           "type": "scatter",
           "x": [
            1
           ],
           "xaxis": "x",
           "y": [
            60
           ],
           "yaxis": "y"
          }
         ],
         "name": "24"
        },
        {
         "data": [
          {
           "hovertemplate": "status=OK<br>day=25<br>x=%{x}<br>y=%{y}<extra></extra>",
           "legendgroup": "OK",
           "marker": {
            "color": "#00FF00",
            "symbol": "circle"
           },
           "mode": "markers",
           "name": "OK",
           "orientation": "v",
           "showlegend": true,
           "type": "scatter",
           "x": [
            0,
            1,
            2,
            3,
            4,
            5,
            6,
            7,
            8,
            9,
            0,
            1,
            2,
            3,
            4,
            5,
            6,
            7,
            8,
            9,
            0,
            1,
            2,
            3,
            4,
            5,
            6,
            7,
            8,
            9,
            0,
            1,
            2,
            3,
            4,
            5,
            6,
            7,
            8,
            9,
            0,
            1,
            2,
            3,
            4,
            5,
            6,
            7,
            8,
            9,
            0,
            1,
            2,
            3,
            4,
            5,
            6,
            7,
            8,
            9,
            0,
            1,
            2,
            3,
            4,
            5,
            6,
            7,
            8,
            9,
            0,
            1,
            2,
            3,
            4,
            5,
            6,
            7,
            8,
            9,
            0,
            1,
            2,
            3,
            4,
            5,
            6,
            7,
            8,
            9,
            0,
            1,
            2,
            3,
            4,
            5,
            6,
            7,
            8,
            9
           ],
           "xaxis": "x",
           "y": [
            0,
            0,
            0,
            0,
            0,
            0,
            0,
            0,
            0,
            0,
            10,
            10,
            10,
            10,
            10,
            10,
            10,
            10,
            10,
            10,
            20,
            20,
            20,
            20,
            20,
            20,
            20,
            20,
            20,
            20,
            30,
            30,
            30,
            30,
            30,
            30,
            30,
            30,
            30,
            30,
            40,
            40,
            40,
            40,
            40,
            40,
            40,
            40,
            40,
            40,
            50,
            50,
            50,
            50,
            50,
            50,
            50,
            50,
            50,
            50,
            60,
            60,
            60,
            60,
            60,
            60,
            60,
            60,
            60,
            60,
            70,
            70,
            70,
            70,
            70,
            70,
            70,
            70,
            70,
            70,
            80,
            80,
            80,
            80,
            80,
            80,
            80,
            80,
            80,
            80,
            90,
            90,
            90,
            90,
            90,
            90,
            90,
            90,
            90,
            90
           ],
           "yaxis": "y"
          }
         ],
         "name": "25"
        },
        {
         "data": [
          {
           "hovertemplate": "status=OK<br>day=26<br>x=%{x}<br>y=%{y}<extra></extra>",
           "legendgroup": "OK",
           "marker": {
            "color": "#00FF00",
            "symbol": "circle"
           },
           "mode": "markers",
           "name": "OK",
           "orientation": "v",
           "showlegend": true,
           "type": "scatter",
           "x": [
            0,
            1,
            2,
            3,
            4,
            5,
            6,
            7,
            8,
            9,
            0,
            1,
            2,
            3,
            4,
            5,
            6,
            7,
            8,
            9,
            0,
            1,
            2,
            3,
            4,
            5,
            6,
            7,
            8,
            9,
            0,
            1,
            2,
            3,
            4,
            5,
            6,
            7,
            8,
            9,
            0,
            1,
            2,
            3,
            4,
            5,
            6,
            7,
            8,
            9,
            0,
            1,
            2,
            4,
            5,
            6,
            7,
            8,
            9,
            0,
            1,
            2,
            3,
            4,
            5,
            6,
            7,
            8,
            9,
            0,
            1,
            2,
            3,
            4,
            5,
            6,
            7,
            8,
            9,
            0,
            1,
            2,
            3,
            4,
            5,
            6,
            7,
            8,
            9,
            0,
            1,
            2,
            3,
            4,
            5,
            6,
            7,
            8,
            9
           ],
           "xaxis": "x",
           "y": [
            0,
            0,
            0,
            0,
            0,
            0,
            0,
            0,
            0,
            0,
            10,
            10,
            10,
            10,
            10,
            10,
            10,
            10,
            10,
            10,
            20,
            20,
            20,
            20,
            20,
            20,
            20,
            20,
            20,
            20,
            30,
            30,
            30,
            30,
            30,
            30,
            30,
            30,
            30,
            30,
            40,
            40,
            40,
            40,
            40,
            40,
            40,
            40,
            40,
            40,
            50,
            50,
            50,
            50,
            50,
            50,
            50,
            50,
            50,
            60,
            60,
            60,
            60,
            60,
            60,
            60,
            60,
            60,
            60,
            70,
            70,
            70,
            70,
            70,
            70,
            70,
            70,
            70,
            70,
            80,
            80,
            80,
            80,
            80,
            80,
            80,
            80,
            80,
            80,
            90,
            90,
            90,
            90,
            90,
            90,
            90,
            90,
            90,
            90
           ],
           "yaxis": "y"
          },
          {
           "hovertemplate": "status=FAIL<br>day=26<br>x=%{x}<br>y=%{y}<extra></extra>",
           "legendgroup": "FAIL",
           "marker": {
            "color": "#FF0000",
            "symbol": "circle"
           },
           "mode": "markers",
           "name": "FAIL",
           "orientation": "v",
           "showlegend": true,
           "type": "scatter",
           "x": [
            3
           ],
           "xaxis": "x",
           "y": [
            50
           ],
           "yaxis": "y"
          }
         ],
         "name": "26"
        },
        {
         "data": [
          {
           "hovertemplate": "status=OK<br>day=27<br>x=%{x}<br>y=%{y}<extra></extra>",
           "legendgroup": "OK",
           "marker": {
            "color": "#00FF00",
            "symbol": "circle"
           },
           "mode": "markers",
           "name": "OK",
           "orientation": "v",
           "showlegend": true,
           "type": "scatter",
           "x": [
            0,
            1,
            2,
            3,
            4,
            5,
            6,
            7,
            8,
            9,
            0,
            1,
            2,
            3,
            4,
            5,
            6,
            7,
            8,
            9,
            0,
            1,
            2,
            3,
            4,
            5,
            6,
            7,
            8,
            9,
            0,
            1,
            2,
            3,
            4,
            5,
            6,
            7,
            9,
            0,
            1,
            2,
            3,
            4,
            5,
            6,
            7,
            8,
            9,
            0,
            1,
            2,
            3,
            4,
            5,
            6,
            7,
            8,
            9,
            0,
            1,
            2,
            3,
            4,
            5,
            6,
            7,
            8,
            9,
            0,
            1,
            2,
            3,
            4,
            5,
            6,
            7,
            8,
            9,
            0,
            1,
            3,
            4,
            5,
            6,
            7,
            8,
            9,
            0,
            1,
            2,
            3,
            4,
            5,
            6,
            7,
            8,
            9
           ],
           "xaxis": "x",
           "y": [
            0,
            0,
            0,
            0,
            0,
            0,
            0,
            0,
            0,
            0,
            10,
            10,
            10,
            10,
            10,
            10,
            10,
            10,
            10,
            10,
            20,
            20,
            20,
            20,
            20,
            20,
            20,
            20,
            20,
            20,
            30,
            30,
            30,
            30,
            30,
            30,
            30,
            30,
            30,
            40,
            40,
            40,
            40,
            40,
            40,
            40,
            40,
            40,
            40,
            50,
            50,
            50,
            50,
            50,
            50,
            50,
            50,
            50,
            50,
            60,
            60,
            60,
            60,
            60,
            60,
            60,
            60,
            60,
            60,
            70,
            70,
            70,
            70,
            70,
            70,
            70,
            70,
            70,
            70,
            80,
            80,
            80,
            80,
            80,
            80,
            80,
            80,
            80,
            90,
            90,
            90,
            90,
            90,
            90,
            90,
            90,
            90,
            90
           ],
           "yaxis": "y"
          },
          {
           "hovertemplate": "status=FAIL<br>day=27<br>x=%{x}<br>y=%{y}<extra></extra>",
           "legendgroup": "FAIL",
           "marker": {
            "color": "#FF0000",
            "symbol": "circle"
           },
           "mode": "markers",
           "name": "FAIL",
           "orientation": "v",
           "showlegend": true,
           "type": "scatter",
           "x": [
            8,
            2
           ],
           "xaxis": "x",
           "y": [
            30,
            80
           ],
           "yaxis": "y"
          }
         ],
         "name": "27"
        },
        {
         "data": [
          {
           "hovertemplate": "status=OK<br>day=28<br>x=%{x}<br>y=%{y}<extra></extra>",
           "legendgroup": "OK",
           "marker": {
            "color": "#00FF00",
            "symbol": "circle"
           },
           "mode": "markers",
           "name": "OK",
           "orientation": "v",
           "showlegend": true,
           "type": "scatter",
           "x": [
            0,
            1,
            2,
            3,
            4,
            5,
            6,
            7,
            8,
            9,
            0,
            1,
            2,
            3,
            4,
            5,
            6,
            7,
            8,
            9,
            0,
            1,
            2,
            3,
            4,
            5,
            6,
            7,
            8,
            9,
            0,
            1,
            2,
            3,
            4,
            5,
            6,
            7,
            8,
            9,
            0,
            1,
            2,
            3,
            4,
            5,
            6,
            7,
            8,
            9,
            0,
            1,
            2,
            3,
            4,
            5,
            6,
            7,
            8,
            9,
            0,
            1,
            2,
            3,
            4,
            5,
            6,
            7,
            8,
            9,
            0,
            1,
            2,
            3,
            4,
            5,
            6,
            7,
            8,
            9,
            0,
            1,
            2,
            3,
            4,
            5,
            6,
            7,
            8,
            9,
            0,
            1,
            2,
            3,
            4,
            5,
            6,
            7,
            8,
            9
           ],
           "xaxis": "x",
           "y": [
            0,
            0,
            0,
            0,
            0,
            0,
            0,
            0,
            0,
            0,
            10,
            10,
            10,
            10,
            10,
            10,
            10,
            10,
            10,
            10,
            20,
            20,
            20,
            20,
            20,
            20,
            20,
            20,
            20,
            20,
            30,
            30,
            30,
            30,
            30,
            30,
            30,
            30,
            30,
            30,
            40,
            40,
            40,
            40,
            40,
            40,
            40,
            40,
            40,
            40,
            50,
            50,
            50,
            50,
            50,
            50,
            50,
            50,
            50,
            50,
            60,
            60,
            60,
            60,
            60,
            60,
            60,
            60,
            60,
            60,
            70,
            70,
            70,
            70,
            70,
            70,
            70,
            70,
            70,
            70,
            80,
            80,
            80,
            80,
            80,
            80,
            80,
            80,
            80,
            80,
            90,
            90,
            90,
            90,
            90,
            90,
            90,
            90,
            90,
            90
           ],
           "yaxis": "y"
          }
         ],
         "name": "28"
        },
        {
         "data": [
          {
           "hovertemplate": "status=OK<br>day=29<br>x=%{x}<br>y=%{y}<extra></extra>",
           "legendgroup": "OK",
           "marker": {
            "color": "#00FF00",
            "symbol": "circle"
           },
           "mode": "markers",
           "name": "OK",
           "orientation": "v",
           "showlegend": true,
           "type": "scatter",
           "x": [
            0,
            2,
            3,
            4,
            5,
            6,
            7,
            8,
            9,
            0,
            1,
            2,
            3,
            4,
            5,
            6,
            7,
            8,
            9,
            0,
            1,
            2,
            3,
            4,
            5,
            6,
            7,
            8,
            9,
            0,
            1,
            2,
            3,
            4,
            5,
            6,
            7,
            8,
            9,
            0,
            1,
            2,
            3,
            4,
            5,
            6,
            7,
            8,
            9,
            0,
            1,
            2,
            3,
            4,
            5,
            6,
            7,
            8,
            9,
            0,
            1,
            2,
            3,
            4,
            5,
            6,
            7,
            8,
            9,
            0,
            1,
            2,
            3,
            4,
            5,
            6,
            7,
            8,
            9,
            0,
            1,
            2,
            3,
            4,
            5,
            6,
            7,
            8,
            9,
            0,
            1,
            2,
            3,
            4,
            5,
            6,
            7,
            8,
            9
           ],
           "xaxis": "x",
           "y": [
            0,
            0,
            0,
            0,
            0,
            0,
            0,
            0,
            0,
            10,
            10,
            10,
            10,
            10,
            10,
            10,
            10,
            10,
            10,
            20,
            20,
            20,
            20,
            20,
            20,
            20,
            20,
            20,
            20,
            30,
            30,
            30,
            30,
            30,
            30,
            30,
            30,
            30,
            30,
            40,
            40,
            40,
            40,
            40,
            40,
            40,
            40,
            40,
            40,
            50,
            50,
            50,
            50,
            50,
            50,
            50,
            50,
            50,
            50,
            60,
            60,
            60,
            60,
            60,
            60,
            60,
            60,
            60,
            60,
            70,
            70,
            70,
            70,
            70,
            70,
            70,
            70,
            70,
            70,
            80,
            80,
            80,
            80,
            80,
            80,
            80,
            80,
            80,
            80,
            90,
            90,
            90,
            90,
            90,
            90,
            90,
            90,
            90,
            90
           ],
           "yaxis": "y"
          },
          {
           "hovertemplate": "status=FAIL<br>day=29<br>x=%{x}<br>y=%{y}<extra></extra>",
           "legendgroup": "FAIL",
           "marker": {
            "color": "#FF0000",
            "symbol": "circle"
           },
           "mode": "markers",
           "name": "FAIL",
           "orientation": "v",
           "showlegend": true,
           "type": "scatter",
           "x": [
            1
           ],
           "xaxis": "x",
           "y": [
            0
           ],
           "yaxis": "y"
          }
         ],
         "name": "29"
        },
        {
         "data": [
          {
           "hovertemplate": "status=OK<br>day=30<br>x=%{x}<br>y=%{y}<extra></extra>",
           "legendgroup": "OK",
           "marker": {
            "color": "#00FF00",
            "symbol": "circle"
           },
           "mode": "markers",
           "name": "OK",
           "orientation": "v",
           "showlegend": true,
           "type": "scatter",
           "x": [
            0,
            1,
            2,
            3,
            4,
            5,
            6,
            7,
            8,
            9,
            0,
            1,
            2,
            3,
            4,
            5,
            6,
            7,
            8,
            9,
            0,
            1,
            2,
            3,
            4,
            5,
            6,
            7,
            8,
            9,
            0,
            1,
            2,
            3,
            4,
            5,
            6,
            7,
            8,
            9,
            0,
            1,
            2,
            3,
            4,
            5,
            6,
            7,
            8,
            9,
            0,
            1,
            2,
            3,
            4,
            5,
            6,
            7,
            8,
            9,
            0,
            1,
            2,
            3,
            4,
            5,
            6,
            7,
            8,
            9,
            0,
            1,
            2,
            3,
            4,
            5,
            6,
            7,
            8,
            9,
            0,
            1,
            2,
            3,
            4,
            5,
            6,
            7,
            8,
            9,
            0,
            1,
            2,
            3,
            4,
            5,
            6,
            7,
            8,
            9
           ],
           "xaxis": "x",
           "y": [
            0,
            0,
            0,
            0,
            0,
            0,
            0,
            0,
            0,
            0,
            10,
            10,
            10,
            10,
            10,
            10,
            10,
            10,
            10,
            10,
            20,
            20,
            20,
            20,
            20,
            20,
            20,
            20,
            20,
            20,
            30,
            30,
            30,
            30,
            30,
            30,
            30,
            30,
            30,
            30,
            40,
            40,
            40,
            40,
            40,
            40,
            40,
            40,
            40,
            40,
            50,
            50,
            50,
            50,
            50,
            50,
            50,
            50,
            50,
            50,
            60,
            60,
            60,
            60,
            60,
            60,
            60,
            60,
            60,
            60,
            70,
            70,
            70,
            70,
            70,
            70,
            70,
            70,
            70,
            70,
            80,
            80,
            80,
            80,
            80,
            80,
            80,
            80,
            80,
            80,
            90,
            90,
            90,
            90,
            90,
            90,
            90,
            90,
            90,
            90
           ],
           "yaxis": "y"
          }
         ],
         "name": "30"
        },
        {
         "data": [
          {
           "hovertemplate": "status=OK<br>day=31<br>x=%{x}<br>y=%{y}<extra></extra>",
           "legendgroup": "OK",
           "marker": {
            "color": "#00FF00",
            "symbol": "circle"
           },
           "mode": "markers",
           "name": "OK",
           "orientation": "v",
           "showlegend": true,
           "type": "scatter",
           "x": [
            0,
            1,
            2,
            3,
            4,
            5,
            6,
            7,
            8,
            9,
            0,
            1,
            2,
            3,
            4,
            5,
            6,
            7,
            8,
            9,
            0,
            1,
            2,
            3,
            4,
            5,
            6,
            7,
            8,
            9,
            0,
            1,
            2,
            3,
            4,
            5,
            6,
            7,
            8,
            9,
            0,
            1,
            2,
            3,
            4,
            5,
            6,
            7,
            8,
            9,
            0,
            1,
            2,
            3,
            4,
            5,
            6,
            7,
            8,
            9,
            0,
            1,
            2,
            3,
            4,
            5,
            6,
            7,
            8,
            9,
            0,
            1,
            2,
            3,
            4,
            5,
            6,
            7,
            8,
            9,
            0,
            1,
            2,
            3,
            4,
            5,
            6,
            7,
            8,
            9,
            0,
            1,
            2,
            3,
            4,
            5,
            6,
            7,
            8,
            9
           ],
           "xaxis": "x",
           "y": [
            0,
            0,
            0,
            0,
            0,
            0,
            0,
            0,
            0,
            0,
            10,
            10,
            10,
            10,
            10,
            10,
            10,
            10,
            10,
            10,
            20,
            20,
            20,
            20,
            20,
            20,
            20,
            20,
            20,
            20,
            30,
            30,
            30,
            30,
            30,
            30,
            30,
            30,
            30,
            30,
            40,
            40,
            40,
            40,
            40,
            40,
            40,
            40,
            40,
            40,
            50,
            50,
            50,
            50,
            50,
            50,
            50,
            50,
            50,
            50,
            60,
            60,
            60,
            60,
            60,
            60,
            60,
            60,
            60,
            60,
            70,
            70,
            70,
            70,
            70,
            70,
            70,
            70,
            70,
            70,
            80,
            80,
            80,
            80,
            80,
            80,
            80,
            80,
            80,
            80,
            90,
            90,
            90,
            90,
            90,
            90,
            90,
            90,
            90,
            90
           ],
           "yaxis": "y"
          }
         ],
         "name": "31"
        }
       ],
       "layout": {
        "legend": {
         "title": {
          "text": "status"
         },
         "tracegroupgap": 0
        },
        "sliders": [
         {
          "active": 0,
          "currentvalue": {
           "prefix": "day="
          },
          "len": 0.9,
          "pad": {
           "b": 10,
           "t": 60
          },
          "steps": [
           {
            "args": [
             [
              "1"
             ],
             {
              "frame": {
               "duration": 0,
               "redraw": false
              },
              "fromcurrent": true,
              "mode": "immediate",
              "transition": {
               "duration": 0,
               "easing": "linear"
              }
             }
            ],
            "label": "1",
            "method": "animate"
           },
           {
            "args": [
             [
              "2"
             ],
             {
              "frame": {
               "duration": 0,
               "redraw": false
              },
              "fromcurrent": true,
              "mode": "immediate",
              "transition": {
               "duration": 0,
               "easing": "linear"
              }
             }
            ],
            "label": "2",
            "method": "animate"
           },
           {
            "args": [
             [
              "3"
             ],
             {
              "frame": {
               "duration": 0,
               "redraw": false
              },
              "fromcurrent": true,
              "mode": "immediate",
              "transition": {
               "duration": 0,
               "easing": "linear"
              }
             }
            ],
            "label": "3",
            "method": "animate"
           },
           {
            "args": [
             [
              "4"
             ],
             {
              "frame": {
               "duration": 0,
               "redraw": false
              },
              "fromcurrent": true,
              "mode": "immediate",
              "transition": {
               "duration": 0,
               "easing": "linear"
              }
             }
            ],
            "label": "4",
            "method": "animate"
           },
           {
            "args": [
             [
              "5"
             ],
             {
              "frame": {
               "duration": 0,
               "redraw": false
              },
              "fromcurrent": true,
              "mode": "immediate",
              "transition": {
               "duration": 0,
               "easing": "linear"
              }
             }
            ],
            "label": "5",
            "method": "animate"
           },
           {
            "args": [
             [
              "6"
             ],
             {
              "frame": {
               "duration": 0,
               "redraw": false
              },
              "fromcurrent": true,
              "mode": "immediate",
              "transition": {
               "duration": 0,
               "easing": "linear"
              }
             }
            ],
            "label": "6",
            "method": "animate"
           },
           {
            "args": [
             [
              "7"
             ],
             {
              "frame": {
               "duration": 0,
               "redraw": false
              },
              "fromcurrent": true,
              "mode": "immediate",
              "transition": {
               "duration": 0,
               "easing": "linear"
              }
             }
            ],
            "label": "7",
            "method": "animate"
           },
           {
            "args": [
             [
              "8"
             ],
             {
              "frame": {
               "duration": 0,
               "redraw": false
              },
              "fromcurrent": true,
              "mode": "immediate",
              "transition": {
               "duration": 0,
               "easing": "linear"
              }
             }
            ],
            "label": "8",
            "method": "animate"
           },
           {
            "args": [
             [
              "9"
             ],
             {
              "frame": {
               "duration": 0,
               "redraw": false
              },
              "fromcurrent": true,
              "mode": "immediate",
              "transition": {
               "duration": 0,
               "easing": "linear"
              }
             }
            ],
            "label": "9",
            "method": "animate"
           },
           {
            "args": [
             [
              "10"
             ],
             {
              "frame": {
               "duration": 0,
               "redraw": false
              },
              "fromcurrent": true,
              "mode": "immediate",
              "transition": {
               "duration": 0,
               "easing": "linear"
              }
             }
            ],
            "label": "10",
            "method": "animate"
           },
           {
            "args": [
             [
              "11"
             ],
             {
              "frame": {
               "duration": 0,
               "redraw": false
              },
              "fromcurrent": true,
              "mode": "immediate",
              "transition": {
               "duration": 0,
               "easing": "linear"
              }
             }
            ],
            "label": "11",
            "method": "animate"
           },
           {
            "args": [
             [
              "12"
             ],
             {
              "frame": {
               "duration": 0,
               "redraw": false
              },
              "fromcurrent": true,
              "mode": "immediate",
              "transition": {
               "duration": 0,
               "easing": "linear"
              }
             }
            ],
            "label": "12",
            "method": "animate"
           },
           {
            "args": [
             [
              "13"
             ],
             {
              "frame": {
               "duration": 0,
               "redraw": false
              },
              "fromcurrent": true,
              "mode": "immediate",
              "transition": {
               "duration": 0,
               "easing": "linear"
              }
             }
            ],
            "label": "13",
            "method": "animate"
           },
           {
            "args": [
             [
              "14"
             ],
             {
              "frame": {
               "duration": 0,
               "redraw": false
              },
              "fromcurrent": true,
              "mode": "immediate",
              "transition": {
               "duration": 0,
               "easing": "linear"
              }
             }
            ],
            "label": "14",
            "method": "animate"
           },
           {
            "args": [
             [
              "15"
             ],
             {
              "frame": {
               "duration": 0,
               "redraw": false
              },
              "fromcurrent": true,
              "mode": "immediate",
              "transition": {
               "duration": 0,
               "easing": "linear"
              }
             }
            ],
            "label": "15",
            "method": "animate"
           },
           {
            "args": [
             [
              "16"
             ],
             {
              "frame": {
               "duration": 0,
               "redraw": false
              },
              "fromcurrent": true,
              "mode": "immediate",
              "transition": {
               "duration": 0,
               "easing": "linear"
              }
             }
            ],
            "label": "16",
            "method": "animate"
           },
           {
            "args": [
             [
              "17"
             ],
             {
              "frame": {
               "duration": 0,
               "redraw": false
              },
              "fromcurrent": true,
              "mode": "immediate",
              "transition": {
               "duration": 0,
               "easing": "linear"
              }
             }
            ],
            "label": "17",
            "method": "animate"
           },
           {
            "args": [
             [
              "18"
             ],
             {
              "frame": {
               "duration": 0,
               "redraw": false
              },
              "fromcurrent": true,
              "mode": "immediate",
              "transition": {
               "duration": 0,
               "easing": "linear"
              }
             }
            ],
            "label": "18",
            "method": "animate"
           },
           {
            "args": [
             [
              "19"
             ],
             {
              "frame": {
               "duration": 0,
               "redraw": false
              },
              "fromcurrent": true,
              "mode": "immediate",
              "transition": {
               "duration": 0,
               "easing": "linear"
              }
             }
            ],
            "label": "19",
            "method": "animate"
           },
           {
            "args": [
             [
              "20"
             ],
             {
              "frame": {
               "duration": 0,
               "redraw": false
              },
              "fromcurrent": true,
              "mode": "immediate",
              "transition": {
               "duration": 0,
               "easing": "linear"
              }
             }
            ],
            "label": "20",
            "method": "animate"
           },
           {
            "args": [
             [
              "21"
             ],
             {
              "frame": {
               "duration": 0,
               "redraw": false
              },
              "fromcurrent": true,
              "mode": "immediate",
              "transition": {
               "duration": 0,
               "easing": "linear"
              }
             }
            ],
            "label": "21",
            "method": "animate"
           },
           {
            "args": [
             [
              "22"
             ],
             {
              "frame": {
               "duration": 0,
               "redraw": false
              },
              "fromcurrent": true,
              "mode": "immediate",
              "transition": {
               "duration": 0,
               "easing": "linear"
              }
             }
            ],
            "label": "22",
            "method": "animate"
           },
           {
            "args": [
             [
              "23"
             ],
             {
              "frame": {
               "duration": 0,
               "redraw": false
              },
              "fromcurrent": true,
              "mode": "immediate",
              "transition": {
               "duration": 0,
               "easing": "linear"
              }
             }
            ],
            "label": "23",
            "method": "animate"
           },
           {
            "args": [
             [
              "24"
             ],
             {
              "frame": {
               "duration": 0,
               "redraw": false
              },
              "fromcurrent": true,
              "mode": "immediate",
              "transition": {
               "duration": 0,
               "easing": "linear"
              }
             }
            ],
            "label": "24",
            "method": "animate"
           },
           {
            "args": [
             [
              "25"
             ],
             {
              "frame": {
               "duration": 0,
               "redraw": false
              },
              "fromcurrent": true,
              "mode": "immediate",
              "transition": {
               "duration": 0,
               "easing": "linear"
              }
             }
            ],
            "label": "25",
            "method": "animate"
           },
           {
            "args": [
             [
              "26"
             ],
             {
              "frame": {
               "duration": 0,
               "redraw": false
              },
              "fromcurrent": true,
              "mode": "immediate",
              "transition": {
               "duration": 0,
               "easing": "linear"
              }
             }
            ],
            "label": "26",
            "method": "animate"
           },
           {
            "args": [
             [
              "27"
             ],
             {
              "frame": {
               "duration": 0,
               "redraw": false
              },
              "fromcurrent": true,
              "mode": "immediate",
              "transition": {
               "duration": 0,
               "easing": "linear"
              }
             }
            ],
            "label": "27",
            "method": "animate"
           },
           {
            "args": [
             [
              "28"
             ],
             {
              "frame": {
               "duration": 0,
               "redraw": false
              },
              "fromcurrent": true,
              "mode": "immediate",
              "transition": {
               "duration": 0,
               "easing": "linear"
              }
             }
            ],
            "label": "28",
            "method": "animate"
           },
           {
            "args": [
             [
              "29"
             ],
             {
              "frame": {
               "duration": 0,
               "redraw": false
              },
              "fromcurrent": true,
              "mode": "immediate",
              "transition": {
               "duration": 0,
               "easing": "linear"
              }
             }
            ],
            "label": "29",
            "method": "animate"
           },
           {
            "args": [
             [
              "30"
             ],
             {
              "frame": {
               "duration": 0,
               "redraw": false
              },
              "fromcurrent": true,
              "mode": "immediate",
              "transition": {
               "duration": 0,
               "easing": "linear"
              }
             }
            ],
            "label": "30",
            "method": "animate"
           },
           {
            "args": [
             [
              "31"
             ],
             {
              "frame": {
               "duration": 0,
               "redraw": false
              },
              "fromcurrent": true,
              "mode": "immediate",
              "transition": {
               "duration": 0,
               "easing": "linear"
              }
             }
            ],
            "label": "31",
            "method": "animate"
           }
          ],
          "x": 0.1,
          "xanchor": "left",
          "y": 0,
          "yanchor": "top"
         }
        ],
        "template": {
         "data": {
          "candlestick": [
           {
            "decreasing": {
             "line": {
              "color": "#000033"
             }
            },
            "increasing": {
             "line": {
              "color": "#000032"
             }
            },
            "type": "candlestick"
           }
          ],
          "contour": [
           {
            "colorscale": [
             [
              0,
              "#000011"
             ],
             [
              0.1111111111111111,
              "#000012"
             ],
             [
              0.2222222222222222,
              "#000013"
             ],
             [
              0.3333333333333333,
              "#000014"
             ],
             [
              0.4444444444444444,
              "#000015"
             ],
             [
              0.5555555555555556,
              "#000016"
             ],
             [
              0.6666666666666666,
              "#000017"
             ],
             [
              0.7777777777777778,
              "#000018"
             ],
             [
              0.8888888888888888,
              "#000019"
             ],
             [
              1,
              "#000020"
             ]
            ],
            "type": "contour"
           }
          ],
          "contourcarpet": [
           {
            "colorscale": [
             [
              0,
              "#000011"
             ],
             [
              0.1111111111111111,
              "#000012"
             ],
             [
              0.2222222222222222,
              "#000013"
             ],
             [
              0.3333333333333333,
              "#000014"
             ],
             [
              0.4444444444444444,
              "#000015"
             ],
             [
              0.5555555555555556,
              "#000016"
             ],
             [
              0.6666666666666666,
              "#000017"
             ],
             [
              0.7777777777777778,
              "#000018"
             ],
             [
              0.8888888888888888,
              "#000019"
             ],
             [
              1,
              "#000020"
             ]
            ],
            "type": "contourcarpet"
           }
          ],
          "heatmap": [
           {
            "colorscale": [
             [
              0,
              "#000011"
             ],
             [
              0.1111111111111111,
              "#000012"
             ],
             [
              0.2222222222222222,
              "#000013"
             ],
             [
              0.3333333333333333,
              "#000014"
             ],
             [
              0.4444444444444444,
              "#000015"
             ],
             [
              0.5555555555555556,
              "#000016"
             ],
             [
              0.6666666666666666,
              "#000017"
             ],
             [
              0.7777777777777778,
              "#000018"
             ],
             [
              0.8888888888888888,
              "#000019"
             ],
             [
              1,
              "#000020"
             ]
            ],
            "type": "heatmap"
           }
          ],
          "histogram2d": [
           {
            "colorscale": [
             [
              0,
              "#000011"
             ],
             [
              0.1111111111111111,
              "#000012"
             ],
             [
              0.2222222222222222,
              "#000013"
             ],
             [
              0.3333333333333333,
              "#000014"
             ],
             [
              0.4444444444444444,
              "#000015"
             ],
             [
              0.5555555555555556,
              "#000016"
             ],
             [
              0.6666666666666666,
              "#000017"
             ],
             [
              0.7777777777777778,
              "#000018"
             ],
             [
              0.8888888888888888,
              "#000019"
             ],
             [
              1,
              "#000020"
             ]
            ],
            "type": "histogram2d"
           }
          ],
          "icicle": [
           {
            "textfont": {
             "color": "white"
            },
            "type": "icicle"
           }
          ],
          "sankey": [
           {
            "textfont": {
             "color": "#000036"
            },
            "type": "sankey"
           }
          ],
          "scatter": [
           {
            "marker": {
             "line": {
              "width": 0
             }
            },
            "type": "scatter"
           }
          ],
          "table": [
           {
            "cells": {
             "fill": {
              "color": "#000038"
             },
             "font": {
              "color": "#000037"
             },
             "line": {
              "color": "#000039"
             }
            },
            "header": {
             "fill": {
              "color": "#000040"
             },
             "font": {
              "color": "#000036"
             },
             "line": {
              "color": "#000039"
             }
            },
            "type": "table"
           }
          ],
          "waterfall": [
           {
            "connector": {
             "line": {
              "color": "#000036",
              "width": 2
             }
            },
            "decreasing": {
             "marker": {
              "color": "#000033"
             }
            },
            "increasing": {
             "marker": {
              "color": "#000032"
             }
            },
            "totals": {
             "marker": {
              "color": "#000034"
             }
            },
            "type": "waterfall"
           }
          ]
         },
         "layout": {
          "coloraxis": {
           "colorscale": [
            [
             0,
             "#000011"
            ],
            [
             0.1111111111111111,
             "#000012"
            ],
            [
             0.2222222222222222,
             "#000013"
            ],
            [
             0.3333333333333333,
             "#000014"
            ],
            [
             0.4444444444444444,
             "#000015"
            ],
            [
             0.5555555555555556,
             "#000016"
            ],
            [
             0.6666666666666666,
             "#000017"
            ],
            [
             0.7777777777777778,
             "#000018"
            ],
            [
             0.8888888888888888,
             "#000019"
            ],
            [
             1,
             "#000020"
            ]
           ]
          },
          "colorscale": {
           "diverging": [
            [
             0,
             "#000021"
            ],
            [
             0.1,
             "#000022"
            ],
            [
             0.2,
             "#000023"
            ],
            [
             0.3,
             "#000024"
            ],
            [
             0.4,
             "#000025"
            ],
            [
             0.5,
             "#000026"
            ],
            [
             0.6,
             "#000027"
            ],
            [
             0.7,
             "#000028"
            ],
            [
             0.8,
             "#000029"
            ],
            [
             0.9,
             "#000030"
            ],
            [
             1,
             "#000031"
            ]
           ],
           "sequential": [
            [
             0,
             "#000011"
            ],
            [
             0.1111111111111111,
             "#000012"
            ],
            [
             0.2222222222222222,
             "#000013"
            ],
            [
             0.3333333333333333,
             "#000014"
            ],
            [
             0.4444444444444444,
             "#000015"
            ],
            [
             0.5555555555555556,
             "#000016"
            ],
            [
             0.6666666666666666,
             "#000017"
            ],
            [
             0.7777777777777778,
             "#000018"
            ],
            [
             0.8888888888888888,
             "#000019"
            ],
            [
             1,
             "#000020"
            ]
           ],
           "sequentialminus": [
            [
             0,
             "#000011"
            ],
            [
             0.1111111111111111,
             "#000012"
            ],
            [
             0.2222222222222222,
             "#000013"
            ],
            [
             0.3333333333333333,
             "#000014"
            ],
            [
             0.4444444444444444,
             "#000015"
            ],
            [
             0.5555555555555556,
             "#000016"
            ],
            [
             0.6666666666666666,
             "#000017"
            ],
            [
             0.7777777777777778,
             "#000018"
            ],
            [
             0.8888888888888888,
             "#000019"
            ],
            [
             1,
             "#000020"
            ]
           ]
          },
          "colorway": [
           "#000001",
           "#000002",
           "#000003",
           "#000004",
           "#000005",
           "#000006",
           "#000007",
           "#000008",
           "#000009",
           "#000010"
          ]
         }
        },
        "title": {
         "text": "Component 2 Status for December 2015"
        },
        "updatemenus": [
         {
          "buttons": [
           {
            "args": [
             null,
             {
              "frame": {
               "duration": 500,
               "redraw": false
              },
              "fromcurrent": true,
              "mode": "immediate",
              "transition": {
               "duration": 0,
               "easing": "linear"
              }
             }
            ],
            "label": "&#9654;",
            "method": "animate"
           },
           {
            "args": [
             [
              null
             ],
             {
              "frame": {
               "duration": 0,
               "redraw": false
              },
              "fromcurrent": true,
              "mode": "immediate",
              "transition": {
               "duration": 0,
               "easing": "linear"
              }
             }
            ],
            "label": "&#9724;",
            "method": "animate"
           }
          ],
          "direction": "left",
          "pad": {
           "r": 10,
           "t": 70
          },
          "showactive": false,
          "type": "buttons",
          "x": 0.1,
          "xanchor": "right",
          "y": 0,
          "yanchor": "top"
         }
        ],
        "xaxis": {
         "anchor": "y",
         "domain": [
          0,
          1
         ],
         "nticks": 3,
         "title": {
          "text": ""
         },
         "zeroline": false
        },
        "yaxis": {
         "anchor": "x",
         "domain": [
          0,
          1
         ],
         "nticks": 3,
         "title": {
          "text": "Machine ID"
         },
         "zeroline": false
        }
       }
      }
     },
     "metadata": {},
     "output_type": "display_data"
    }
   ],
   "source": [
    "fig = px.scatter(pp_df, x=\"x\", y=\"y\", color=\"status\",\n",
    "             # color_discrete_map=color_discrete_map,\n",
    "             color_discrete_sequence=['#00FF00', '#FF0000'],\n",
    "             animation_frame=\"day\",\n",
    "             title=\"Component 2 Status for December 2015\")\n",
    "             #range_y=[y_min, y_max])\n",
    "fig.layout.updatemenus[0].buttons[0].args[1][\"transition\"][\"duration\"] = 0\n",
    "fig.update_xaxes(nticks=3, title=\"\", zeroline=False)\n",
    "fig.update_yaxes(nticks=3, title=\"Machine ID\", zeroline=False)\n",
    "fig.update_traces(marker_size=10)\n",
    "fig.show()"
   ]
  },
  {
   "cell_type": "code",
   "execution_count": 395,
   "metadata": {},
   "outputs": [],
   "source": [
    "pp_df.to_csv('december_status.csv')"
   ]
  },
  {
   "cell_type": "code",
   "execution_count": null,
   "metadata": {},
   "outputs": [],
   "source": []
  }
 ],
 "metadata": {
  "kernelspec": {
   "display_name": "Python 3",
   "language": "python",
   "name": "python3"
  },
  "language_info": {
   "codemirror_mode": {
    "name": "ipython",
    "version": 3
   },
   "file_extension": ".py",
   "mimetype": "text/x-python",
   "name": "python",
   "nbconvert_exporter": "python",
   "pygments_lexer": "ipython3",
   "version": "3.7.16"
  },
  "orig_nbformat": 4
 },
 "nbformat": 4,
 "nbformat_minor": 2
}
